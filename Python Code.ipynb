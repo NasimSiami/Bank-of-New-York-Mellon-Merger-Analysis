{
  "cells": [
    {
      "cell_type": "markdown",
      "metadata": {
        "id": "HV0muMfDclbD"
      },
      "source": [
        "**Data analysis and Data Cleaning for the Financial Institutions Project**\n",
        "\n",
        "**BNY Mellon Merger: 2007-07-02**"
      ]
    },
    {
      "cell_type": "code",
      "execution_count": 110,
      "metadata": {
        "id": "GX6vFR-Xdt1y"
      },
      "outputs": [
        {
          "name": "stderr",
          "output_type": "stream",
          "text": [
            "The system cannot find the path specified.\n"
          ]
        }
      ],
      "source": [
        "!pip install linearmodels > /dev/null 2>&1"
      ]
    },
    {
      "cell_type": "code",
      "execution_count": 111,
      "metadata": {
        "colab": {
          "base_uri": "https://localhost:8080/",
          "height": 36
        },
        "id": "KZeXQM0wclbK",
        "outputId": "5ac5edb1-3012-43b0-cde2-1a2e371e80f3"
      },
      "outputs": [
        {
          "data": {
            "text/plain": [
              "'example of the likelyhood function being used:\\nlikelihood_function(bank_of_ny_voting_before, \"sponsor\", \"Shareholder\")\\n'"
            ]
          },
          "execution_count": 111,
          "metadata": {},
          "output_type": "execute_result"
        }
      ],
      "source": [
        "# Importing required libraries\n",
        "import pandas as pd\n",
        "import numpy as np\n",
        "import matplotlib.pyplot as plt\n",
        "from linearmodels import PanelOLS\n",
        "import statsmodels.api as sm\n",
        "import matplotlib.ticker as ticker\n",
        "from scipy import stats\n",
        "\n",
        "def T_test_dummies(df1, df2, column, target_value):\n",
        "    array_before = np.array([1 if value == target_value else 0 for value in df1[column]])\n",
        "    array_after = np.array([1 if value == target_value else 0 for value in df2[column]])\n",
        "    t_statistic, p_value = stats.ttest_ind(array_before, array_after)\n",
        "    # If we dont need dummies\n",
        "    # t_statistic, p_value = stats.ttest_ind(before[\"column], after[\"column])\n",
        "    return t_statistic, p_value\n",
        "\n",
        "\"\"\"example of the function being used:\n",
        "T_test_dummies(management_sponsors_bny_before, management_sponsors_bny_mellon_after, \"ISSrec\", \"For\" )\"\"\"\n",
        "\n",
        "def likelihood_function(df, column, value): # gives us relative % of something happening\n",
        "    x = df[column].value_counts()[value]\n",
        "    total = df[column].count()\n",
        "    likelihood = x / total\n",
        "    return likelihood\n",
        "\n",
        "\"\"\"example of the likelyhood function being used:\n",
        "likelihood_function(bank_of_ny_voting_before, \"sponsor\", \"Shareholder\")\n",
        "\"\"\""
      ]
    },
    {
      "cell_type": "code",
      "execution_count": 109,
      "metadata": {
        "colab": {
          "base_uri": "https://localhost:8080/"
        },
        "id": "oMI6DHC2clbO",
        "outputId": "b6fb2b6c-5a54-40f9-c9cb-a021a34aa396"
      },
      "outputs": [],
      "source": [
        "import warnings\n",
        "warnings.filterwarnings(\"ignore\")\n",
        "\n",
        "# Financial Data\n",
        "\n",
        "comp = pd.read_csv('comp.csv')\n",
        "\n",
        "# Loan Data\n",
        "covenants = pd.read_csv('covenants.csv')\n",
        "dealscan_compustat_linktable = pd.read_excel('dealscan_compustate linktable.xlsx')\n",
        "facility = pd.read_csv('facility.csv')\n",
        "lender_information = pd.read_csv('lender_information.csv',encoding='ISO-8859-1')\n",
        "lendershares = pd.read_csv('lendershares.csv', encoding='ISO-8859-1')\n",
        "package = pd.read_csv('package.csv', encoding='ISO-8859-1')\n",
        "performancepricing  = pd.read_csv('performancepricing.csv')\n",
        "pricing  = pd.read_csv('pricing.csv', encoding='ISO-8859-1')\n",
        "\n",
        "# Voting Data\n",
        "#iss_recomendations = pd.read_csv('iss recommendations.csv')\n",
        "#voting_results = pd.read_csv('voting results.csv', encoding='ISO-8859-1')"
      ]
    },
    {
      "cell_type": "markdown",
      "metadata": {
        "id": "5tI85TT39PVD"
      },
      "source": [
        "Data filtering for BNY Mellon\n",
        "---\n"
      ]
    },
    {
      "cell_type": "code",
      "execution_count": 112,
      "metadata": {
        "colab": {
          "base_uri": "https://localhost:8080/",
          "height": 53
        },
        "id": "0YMVdUcaclbR",
        "outputId": "79c7decb-5d51-43c5-8b24-a9f66a79f18a"
      },
      "outputs": [
        {
          "data": {
            "text/plain": [
              "\" Pricing and performance pricing , ahve to be analyzed seperated, we shouldn't merge it onto\\nfacility data, so we can just pull facility ids, and slice the dataframes, to have data we need\\ngiven the data, pre-post merger\\n\""
            ]
          },
          "execution_count": 112,
          "metadata": {},
          "output_type": "execute_result"
        }
      ],
      "source": [
        "\n",
        "# Merging Covenant types onto the Pakcage dataframe\n",
        "covenant_compressed = covenants.copy()\n",
        "covenant_compressed['CovenantType'] = covenant_compressed['CovenantType'].astype(str)\n",
        "covenant_compressed = covenant_compressed.groupby('PackageID')['CovenantType'].agg(lambda x: ', '.join(set(x))).reset_index()\n",
        "package = package.merge(covenant_compressed, how= \"left\", left_on='PACKAGEID', right_on='PackageID')\n",
        "\"\"\"use this code later to analyzie the covenant types, since its a string\"\"\"\n",
        "# num_ebitda = compressed_df['CovenantType'].str.contains('Min. Current Ratio').sum()\n",
        "\n",
        "\"\"\" Pricing and performance pricing , ahve to be analyzed seperated, we shouldn't merge it onto\n",
        "facility data, so we can just pull facility ids, and slice the dataframes, to have data we need\n",
        "given the data, pre-post merger\n",
        "\"\"\""
      ]
    },
    {
      "cell_type": "code",
      "execution_count": 113,
      "metadata": {
        "colab": {
          "base_uri": "https://localhost:8080/",
          "height": 423
        },
        "id": "iwnGpCXeOqeS",
        "outputId": "549e47a7-a21c-49ad-e7f4-75e2cfbde5e0"
      },
      "outputs": [
        {
          "data": {
            "text/html": [
              "<div>\n",
              "<style scoped>\n",
              "    .dataframe tbody tr th:only-of-type {\n",
              "        vertical-align: middle;\n",
              "    }\n",
              "\n",
              "    .dataframe tbody tr th {\n",
              "        vertical-align: top;\n",
              "    }\n",
              "\n",
              "    .dataframe thead th {\n",
              "        text-align: right;\n",
              "    }\n",
              "</style>\n",
              "<table border=\"1\" class=\"dataframe\">\n",
              "  <thead>\n",
              "    <tr style=\"text-align: right;\">\n",
              "      <th></th>\n",
              "      <th>PackageID</th>\n",
              "      <th>CovenantType</th>\n",
              "    </tr>\n",
              "  </thead>\n",
              "  <tbody>\n",
              "    <tr>\n",
              "      <th>0</th>\n",
              "      <td>4106</td>\n",
              "      <td>Min. Interest Coverage, Min. Current Ratio</td>\n",
              "    </tr>\n",
              "    <tr>\n",
              "      <th>1</th>\n",
              "      <td>4812</td>\n",
              "      <td>Min. Current Ratio</td>\n",
              "    </tr>\n",
              "    <tr>\n",
              "      <th>2</th>\n",
              "      <td>4952</td>\n",
              "      <td>Max. Debt to EBITDA</td>\n",
              "    </tr>\n",
              "    <tr>\n",
              "      <th>3</th>\n",
              "      <td>5223</td>\n",
              "      <td>Tangible Net Worth, Max. Senior Debt to EBITDA</td>\n",
              "    </tr>\n",
              "    <tr>\n",
              "      <th>4</th>\n",
              "      <td>5287</td>\n",
              "      <td>Min. Interest Coverage</td>\n",
              "    </tr>\n",
              "    <tr>\n",
              "      <th>...</th>\n",
              "      <td>...</td>\n",
              "      <td>...</td>\n",
              "    </tr>\n",
              "    <tr>\n",
              "      <th>33248</th>\n",
              "      <td>306805</td>\n",
              "      <td>Max. Debt to EBITDA</td>\n",
              "    </tr>\n",
              "    <tr>\n",
              "      <th>33249</th>\n",
              "      <td>306855</td>\n",
              "      <td>Max. Debt to EBITDA, Min. Fixed Charge Coverage</td>\n",
              "    </tr>\n",
              "    <tr>\n",
              "      <th>33250</th>\n",
              "      <td>306895</td>\n",
              "      <td>Max. Debt to EBITDA</td>\n",
              "    </tr>\n",
              "    <tr>\n",
              "      <th>33251</th>\n",
              "      <td>306986</td>\n",
              "      <td>Max. Debt to Equity, Min. Interest Coverage</td>\n",
              "    </tr>\n",
              "    <tr>\n",
              "      <th>33252</th>\n",
              "      <td>307026</td>\n",
              "      <td>Max. Debt to EBITDA, Min. Interest Coverage</td>\n",
              "    </tr>\n",
              "  </tbody>\n",
              "</table>\n",
              "<p>33253 rows × 2 columns</p>\n",
              "</div>"
            ],
            "text/plain": [
              "       PackageID                                     CovenantType\n",
              "0           4106       Min. Interest Coverage, Min. Current Ratio\n",
              "1           4812                               Min. Current Ratio\n",
              "2           4952                              Max. Debt to EBITDA\n",
              "3           5223   Tangible Net Worth, Max. Senior Debt to EBITDA\n",
              "4           5287                           Min. Interest Coverage\n",
              "...          ...                                              ...\n",
              "33248     306805                              Max. Debt to EBITDA\n",
              "33249     306855  Max. Debt to EBITDA, Min. Fixed Charge Coverage\n",
              "33250     306895                              Max. Debt to EBITDA\n",
              "33251     306986      Max. Debt to Equity, Min. Interest Coverage\n",
              "33252     307026      Max. Debt to EBITDA, Min. Interest Coverage\n",
              "\n",
              "[33253 rows x 2 columns]"
            ]
          },
          "execution_count": 113,
          "metadata": {},
          "output_type": "execute_result"
        }
      ],
      "source": [
        "covenant_compressed"
      ]
    },
    {
      "cell_type": "code",
      "execution_count": 114,
      "metadata": {
        "colab": {
          "base_uri": "https://localhost:8080/"
        },
        "id": "7FW4hcrPO301",
        "outputId": "97e1a503-86f5-4f00-b9bd-10de99d5c0da"
      },
      "outputs": [
        {
          "data": {
            "text/plain": [
              "3964"
            ]
          },
          "execution_count": 114,
          "metadata": {},
          "output_type": "execute_result"
        }
      ],
      "source": [
        "num_ebitda = covenant_compressed['CovenantType'].str.contains('Min. Current Ratio').sum()\n",
        "num_ebitda"
      ]
    },
    {
      "cell_type": "markdown",
      "metadata": {
        "id": "RmF4KK_hclbU"
      },
      "source": [
        "**Determining all the banks id we need and subsidaries**"
      ]
    },
    {
      "cell_type": "code",
      "execution_count": 115,
      "metadata": {
        "id": "vOMXH1WsclbW"
      },
      "outputs": [],
      "source": [
        "bank_ny_information = lender_information[lender_information['COMPANYID'] == 5851]\n",
        "mellon_information = lender_information[lender_information['COMPANYID'] == 6014]"
      ]
    },
    {
      "cell_type": "code",
      "execution_count": 116,
      "metadata": {
        "colab": {
          "base_uri": "https://localhost:8080/",
          "height": 179
        },
        "id": "Qubt84MCclbX",
        "outputId": "ab5c534e-53ad-4fd7-c165-2230b0bd8faa"
      },
      "outputs": [
        {
          "data": {
            "text/html": [
              "<div>\n",
              "<style scoped>\n",
              "    .dataframe tbody tr th:only-of-type {\n",
              "        vertical-align: middle;\n",
              "    }\n",
              "\n",
              "    .dataframe tbody tr th {\n",
              "        vertical-align: top;\n",
              "    }\n",
              "\n",
              "    .dataframe thead th {\n",
              "        text-align: right;\n",
              "    }\n",
              "</style>\n",
              "<table border=\"1\" class=\"dataframe\">\n",
              "  <thead>\n",
              "    <tr style=\"text-align: right;\">\n",
              "      <th></th>\n",
              "      <th>COMPANYID</th>\n",
              "      <th>TICKER</th>\n",
              "      <th>CITY</th>\n",
              "      <th>COMPANY</th>\n",
              "      <th>COUNTRY</th>\n",
              "      <th>INSTITUTIONTYPE</th>\n",
              "      <th>PARENTID</th>\n",
              "      <th>PRIMARYSICCODE</th>\n",
              "      <th>PUBLICPRIVATE</th>\n",
              "      <th>REGION</th>\n",
              "      <th>SALES</th>\n",
              "      <th>SECONDARYSICCODE</th>\n",
              "      <th>STATE</th>\n",
              "      <th>TERTIARYSICCODE</th>\n",
              "      <th>ULTIMATEPARENTID</th>\n",
              "      <th>ZIPCODE</th>\n",
              "    </tr>\n",
              "  </thead>\n",
              "  <tbody>\n",
              "    <tr>\n",
              "      <th>3577</th>\n",
              "      <td>5851</td>\n",
              "      <td>NaN</td>\n",
              "      <td>New York</td>\n",
              "      <td>Bank of New York</td>\n",
              "      <td>USA</td>\n",
              "      <td>US Bank</td>\n",
              "      <td>120119.0</td>\n",
              "      <td>6022.0</td>\n",
              "      <td>Private</td>\n",
              "      <td>North America</td>\n",
              "      <td>NaN</td>\n",
              "      <td>6153.0</td>\n",
              "      <td>New York</td>\n",
              "      <td>6082.0</td>\n",
              "      <td>120119.0</td>\n",
              "      <td>NaN</td>\n",
              "    </tr>\n",
              "  </tbody>\n",
              "</table>\n",
              "</div>"
            ],
            "text/plain": [
              "      COMPANYID TICKER      CITY           COMPANY COUNTRY INSTITUTIONTYPE  \\\n",
              "3577       5851    NaN  New York  Bank of New York     USA         US Bank   \n",
              "\n",
              "      PARENTID  PRIMARYSICCODE PUBLICPRIVATE         REGION  SALES  \\\n",
              "3577  120119.0          6022.0       Private  North America    NaN   \n",
              "\n",
              "      SECONDARYSICCODE     STATE  TERTIARYSICCODE  ULTIMATEPARENTID ZIPCODE  \n",
              "3577            6153.0  New York           6082.0          120119.0     NaN  "
            ]
          },
          "execution_count": 116,
          "metadata": {},
          "output_type": "execute_result"
        }
      ],
      "source": [
        "bank_ny_information"
      ]
    },
    {
      "cell_type": "code",
      "execution_count": 117,
      "metadata": {
        "colab": {
          "base_uri": "https://localhost:8080/",
          "height": 162
        },
        "id": "Z0DEDYWQclbZ",
        "outputId": "c320a71b-68e8-4902-9057-2d221f766460"
      },
      "outputs": [
        {
          "data": {
            "text/html": [
              "<div>\n",
              "<style scoped>\n",
              "    .dataframe tbody tr th:only-of-type {\n",
              "        vertical-align: middle;\n",
              "    }\n",
              "\n",
              "    .dataframe tbody tr th {\n",
              "        vertical-align: top;\n",
              "    }\n",
              "\n",
              "    .dataframe thead th {\n",
              "        text-align: right;\n",
              "    }\n",
              "</style>\n",
              "<table border=\"1\" class=\"dataframe\">\n",
              "  <thead>\n",
              "    <tr style=\"text-align: right;\">\n",
              "      <th></th>\n",
              "      <th>COMPANYID</th>\n",
              "      <th>TICKER</th>\n",
              "      <th>CITY</th>\n",
              "      <th>COMPANY</th>\n",
              "      <th>COUNTRY</th>\n",
              "      <th>INSTITUTIONTYPE</th>\n",
              "      <th>PARENTID</th>\n",
              "      <th>PRIMARYSICCODE</th>\n",
              "      <th>PUBLICPRIVATE</th>\n",
              "      <th>REGION</th>\n",
              "      <th>SALES</th>\n",
              "      <th>SECONDARYSICCODE</th>\n",
              "      <th>STATE</th>\n",
              "      <th>TERTIARYSICCODE</th>\n",
              "      <th>ULTIMATEPARENTID</th>\n",
              "      <th>ZIPCODE</th>\n",
              "    </tr>\n",
              "  </thead>\n",
              "  <tbody>\n",
              "    <tr>\n",
              "      <th>3665</th>\n",
              "      <td>6014</td>\n",
              "      <td>NaN</td>\n",
              "      <td>Pittsburgh</td>\n",
              "      <td>Mellon Bank</td>\n",
              "      <td>USA</td>\n",
              "      <td>US Bank</td>\n",
              "      <td>6547.0</td>\n",
              "      <td>6021.0</td>\n",
              "      <td>Private</td>\n",
              "      <td>North America</td>\n",
              "      <td>NaN</td>\n",
              "      <td>6159.0</td>\n",
              "      <td>Pennsylvania</td>\n",
              "      <td>6282.0</td>\n",
              "      <td>120119.0</td>\n",
              "      <td>NaN</td>\n",
              "    </tr>\n",
              "  </tbody>\n",
              "</table>\n",
              "</div>"
            ],
            "text/plain": [
              "      COMPANYID TICKER        CITY      COMPANY COUNTRY INSTITUTIONTYPE  \\\n",
              "3665       6014    NaN  Pittsburgh  Mellon Bank     USA         US Bank   \n",
              "\n",
              "      PARENTID  PRIMARYSICCODE PUBLICPRIVATE         REGION  SALES  \\\n",
              "3665    6547.0          6021.0       Private  North America    NaN   \n",
              "\n",
              "      SECONDARYSICCODE         STATE  TERTIARYSICCODE  ULTIMATEPARENTID  \\\n",
              "3665            6159.0  Pennsylvania           6282.0          120119.0   \n",
              "\n",
              "     ZIPCODE  \n",
              "3665     NaN  "
            ]
          },
          "execution_count": 117,
          "metadata": {},
          "output_type": "execute_result"
        }
      ],
      "source": [
        "mellon_information"
      ]
    },
    {
      "cell_type": "code",
      "execution_count": 118,
      "metadata": {
        "id": "xflgXW1iclbb"
      },
      "outputs": [],
      "source": [
        "\"\"\"we have to deternmine if we use ultimate parent ID or regular parent ID for subsidararies\n",
        "\n",
        "ultimate has more!\n",
        "\"\"\"\n",
        "# subsidary company IDs\n",
        "ny_subsidaries = lender_information[lender_information['PARENTID'] == 120119]\n",
        "melon_subsidaries = lender_information[lender_information['PARENTID'] == 6547.0]\n",
        "\n",
        "# Subsidary ID list\n",
        "ny_subsidaries_IDs = ny_subsidaries[\"COMPANYID\"].tolist()\n",
        "melon_subsidaries_IDs = melon_subsidaries[\"COMPANYID\"].tolist()\n",
        "\n",
        "# Getting all the Facility IDs for Bank of NY and Mellon, also assessing the ones they were lead or not\n",
        "lendershares\n",
        "\n",
        "# All loans of our banks plus their respective subsidiraries (Lendershare database)\n",
        "Mellon_bank_loans = lendershares[lendershares['COMPANYID'].isin(melon_subsidaries_IDs)]\n",
        "NY_bank_loans = lendershares[lendershares['COMPANYID'].isin(ny_subsidaries_IDs)]"
      ]
    },
    {
      "cell_type": "markdown",
      "metadata": {
        "id": "RWRoJI8zclbd"
      },
      "source": [
        "**Cleaning the facility data, to keep only loans we need**"
      ]
    },
    {
      "cell_type": "code",
      "execution_count": 119,
      "metadata": {
        "colab": {
          "base_uri": "https://localhost:8080/",
          "height": 834
        },
        "id": "GL9L6Lf6clbf",
        "outputId": "9357f763-9a9e-4f36-b8b9-d102ff03acfc"
      },
      "outputs": [
        {
          "data": {
            "text/html": [
              "<div>\n",
              "<style scoped>\n",
              "    .dataframe tbody tr th:only-of-type {\n",
              "        vertical-align: middle;\n",
              "    }\n",
              "\n",
              "    .dataframe tbody tr th {\n",
              "        vertical-align: top;\n",
              "    }\n",
              "\n",
              "    .dataframe thead th {\n",
              "        text-align: right;\n",
              "    }\n",
              "</style>\n",
              "<table border=\"1\" class=\"dataframe\">\n",
              "  <thead>\n",
              "    <tr style=\"text-align: right;\">\n",
              "      <th></th>\n",
              "      <th>BORROWERCOMPANYID</th>\n",
              "      <th>FACILITYID</th>\n",
              "      <th>PACKAGEID</th>\n",
              "      <th>TICKER</th>\n",
              "      <th>AVERAGELIFE</th>\n",
              "      <th>COMPANY</th>\n",
              "      <th>CONVERSIONDATE</th>\n",
              "      <th>COUNTRYOFSYNDICATION</th>\n",
              "      <th>CURRENCY</th>\n",
              "      <th>DISTRIBUTIONMETHOD</th>\n",
              "      <th>...</th>\n",
              "      <th>FACILITYSTARTDATE</th>\n",
              "      <th>LCLIMIT</th>\n",
              "      <th>LOANTYPE</th>\n",
              "      <th>MATURITY</th>\n",
              "      <th>PRIMARYPURPOSE</th>\n",
              "      <th>RENEWAL</th>\n",
              "      <th>SECONDARYPURPOSE</th>\n",
              "      <th>SECURED</th>\n",
              "      <th>SENIORITY</th>\n",
              "      <th>TARGETCOMPANY</th>\n",
              "    </tr>\n",
              "  </thead>\n",
              "  <tbody>\n",
              "    <tr>\n",
              "      <th>0</th>\n",
              "      <td>14908</td>\n",
              "      <td>19735</td>\n",
              "      <td>14578</td>\n",
              "      <td>NaN</td>\n",
              "      <td>NaN</td>\n",
              "      <td>CenCall Communications Corp</td>\n",
              "      <td>NaN</td>\n",
              "      <td>USA</td>\n",
              "      <td>United States Dollars</td>\n",
              "      <td>NaN</td>\n",
              "      <td>...</td>\n",
              "      <td>19971231</td>\n",
              "      <td>NaN</td>\n",
              "      <td>Term Loan</td>\n",
              "      <td>54.0</td>\n",
              "      <td>Work. cap.</td>\n",
              "      <td>NaN</td>\n",
              "      <td>NaN</td>\n",
              "      <td>Yes</td>\n",
              "      <td>Senior</td>\n",
              "      <td>NaN</td>\n",
              "    </tr>\n",
              "    <tr>\n",
              "      <th>1</th>\n",
              "      <td>14908</td>\n",
              "      <td>19738</td>\n",
              "      <td>14578</td>\n",
              "      <td>NaN</td>\n",
              "      <td>NaN</td>\n",
              "      <td>CenCall Communications Corp</td>\n",
              "      <td>NaN</td>\n",
              "      <td>USA</td>\n",
              "      <td>United States Dollars</td>\n",
              "      <td>NaN</td>\n",
              "      <td>...</td>\n",
              "      <td>19971231</td>\n",
              "      <td>NaN</td>\n",
              "      <td>Term Loan</td>\n",
              "      <td>54.0</td>\n",
              "      <td>Work. cap.</td>\n",
              "      <td>NaN</td>\n",
              "      <td>NaN</td>\n",
              "      <td>Yes</td>\n",
              "      <td>Senior</td>\n",
              "      <td>NaN</td>\n",
              "    </tr>\n",
              "    <tr>\n",
              "      <th>2</th>\n",
              "      <td>2015</td>\n",
              "      <td>20145</td>\n",
              "      <td>14840</td>\n",
              "      <td>KOIL</td>\n",
              "      <td>NaN</td>\n",
              "      <td>Kelley Oil Corp</td>\n",
              "      <td>NaN</td>\n",
              "      <td>USA</td>\n",
              "      <td>United States Dollars</td>\n",
              "      <td>Sole Lender</td>\n",
              "      <td>...</td>\n",
              "      <td>19980824</td>\n",
              "      <td>NaN</td>\n",
              "      <td>Term Loan</td>\n",
              "      <td>24.0</td>\n",
              "      <td>Work. cap.</td>\n",
              "      <td>No</td>\n",
              "      <td>NaN</td>\n",
              "      <td>Yes</td>\n",
              "      <td>Senior</td>\n",
              "      <td>NaN</td>\n",
              "    </tr>\n",
              "    <tr>\n",
              "      <th>3</th>\n",
              "      <td>10909</td>\n",
              "      <td>24511</td>\n",
              "      <td>18185</td>\n",
              "      <td>NaN</td>\n",
              "      <td>NaN</td>\n",
              "      <td>Homedco Group</td>\n",
              "      <td>NaN</td>\n",
              "      <td>USA</td>\n",
              "      <td>United States Dollars</td>\n",
              "      <td>Syndication</td>\n",
              "      <td>...</td>\n",
              "      <td>19970503</td>\n",
              "      <td>NaN</td>\n",
              "      <td>Term Loan</td>\n",
              "      <td>24.0</td>\n",
              "      <td>Acquis. line</td>\n",
              "      <td>NaN</td>\n",
              "      <td>NaN</td>\n",
              "      <td>NaN</td>\n",
              "      <td>Senior</td>\n",
              "      <td>NaN</td>\n",
              "    </tr>\n",
              "    <tr>\n",
              "      <th>4</th>\n",
              "      <td>18232</td>\n",
              "      <td>28551</td>\n",
              "      <td>21170</td>\n",
              "      <td>NaN</td>\n",
              "      <td>NaN</td>\n",
              "      <td>Kumtor Gold Co</td>\n",
              "      <td>NaN</td>\n",
              "      <td>USA</td>\n",
              "      <td>United States Dollars</td>\n",
              "      <td>Syndication</td>\n",
              "      <td>...</td>\n",
              "      <td>19971010</td>\n",
              "      <td>NaN</td>\n",
              "      <td>Term Loan</td>\n",
              "      <td>60.0</td>\n",
              "      <td>Proj. finance</td>\n",
              "      <td>NaN</td>\n",
              "      <td>NaN</td>\n",
              "      <td>NaN</td>\n",
              "      <td>Senior</td>\n",
              "      <td>NaN</td>\n",
              "    </tr>\n",
              "    <tr>\n",
              "      <th>...</th>\n",
              "      <td>...</td>\n",
              "      <td>...</td>\n",
              "      <td>...</td>\n",
              "      <td>...</td>\n",
              "      <td>...</td>\n",
              "      <td>...</td>\n",
              "      <td>...</td>\n",
              "      <td>...</td>\n",
              "      <td>...</td>\n",
              "      <td>...</td>\n",
              "      <td>...</td>\n",
              "      <td>...</td>\n",
              "      <td>...</td>\n",
              "      <td>...</td>\n",
              "      <td>...</td>\n",
              "      <td>...</td>\n",
              "      <td>...</td>\n",
              "      <td>...</td>\n",
              "      <td>...</td>\n",
              "      <td>...</td>\n",
              "      <td>...</td>\n",
              "    </tr>\n",
              "    <tr>\n",
              "      <th>91113</th>\n",
              "      <td>37025</td>\n",
              "      <td>434279</td>\n",
              "      <td>299626</td>\n",
              "      <td>NaN</td>\n",
              "      <td>NaN</td>\n",
              "      <td>Shamrock Foods</td>\n",
              "      <td>NaN</td>\n",
              "      <td>USA</td>\n",
              "      <td>United States Dollars</td>\n",
              "      <td>Syndication</td>\n",
              "      <td>...</td>\n",
              "      <td>20131001</td>\n",
              "      <td>NaN</td>\n",
              "      <td>Revolver/Line &gt;= 1 Yr.</td>\n",
              "      <td>36.0</td>\n",
              "      <td>Corp. purposes</td>\n",
              "      <td>NaN</td>\n",
              "      <td>NaN</td>\n",
              "      <td>NaN</td>\n",
              "      <td>Senior</td>\n",
              "      <td>NaN</td>\n",
              "    </tr>\n",
              "    <tr>\n",
              "      <th>91114</th>\n",
              "      <td>95253</td>\n",
              "      <td>442576</td>\n",
              "      <td>304782</td>\n",
              "      <td>JBLU.O</td>\n",
              "      <td>NaN</td>\n",
              "      <td>JetBlue Airways Corp</td>\n",
              "      <td>NaN</td>\n",
              "      <td>USA</td>\n",
              "      <td>United States Dollars</td>\n",
              "      <td>Syndication</td>\n",
              "      <td>...</td>\n",
              "      <td>20130423</td>\n",
              "      <td>NaN</td>\n",
              "      <td>Revolver/Line &gt;= 1 Yr.</td>\n",
              "      <td>36.0</td>\n",
              "      <td>Corp. purposes</td>\n",
              "      <td>NaN</td>\n",
              "      <td>NaN</td>\n",
              "      <td>Yes</td>\n",
              "      <td>Senior</td>\n",
              "      <td>NaN</td>\n",
              "    </tr>\n",
              "    <tr>\n",
              "      <th>91115</th>\n",
              "      <td>187829</td>\n",
              "      <td>443363</td>\n",
              "      <td>305342</td>\n",
              "      <td>NaN</td>\n",
              "      <td>NaN</td>\n",
              "      <td>CM Finance SPV Ltd</td>\n",
              "      <td>NaN</td>\n",
              "      <td>USA</td>\n",
              "      <td>United States Dollars</td>\n",
              "      <td>Syndication</td>\n",
              "      <td>...</td>\n",
              "      <td>20130523</td>\n",
              "      <td>NaN</td>\n",
              "      <td>Term Loan</td>\n",
              "      <td>55.0</td>\n",
              "      <td>Corp. purposes</td>\n",
              "      <td>NaN</td>\n",
              "      <td>NaN</td>\n",
              "      <td>NaN</td>\n",
              "      <td>Senior</td>\n",
              "      <td>NaN</td>\n",
              "    </tr>\n",
              "    <tr>\n",
              "      <th>91116</th>\n",
              "      <td>188114</td>\n",
              "      <td>445060</td>\n",
              "      <td>306448</td>\n",
              "      <td>NaN</td>\n",
              "      <td>NaN</td>\n",
              "      <td>BCH Pineridge LLC</td>\n",
              "      <td>NaN</td>\n",
              "      <td>USA</td>\n",
              "      <td>United States Dollars</td>\n",
              "      <td>Syndication</td>\n",
              "      <td>...</td>\n",
              "      <td>20120705</td>\n",
              "      <td>NaN</td>\n",
              "      <td>Term Loan</td>\n",
              "      <td>60.0</td>\n",
              "      <td>Real estate</td>\n",
              "      <td>NaN</td>\n",
              "      <td>NaN</td>\n",
              "      <td>NaN</td>\n",
              "      <td>Senior</td>\n",
              "      <td>NaN</td>\n",
              "    </tr>\n",
              "    <tr>\n",
              "      <th>91117</th>\n",
              "      <td>188114</td>\n",
              "      <td>445061</td>\n",
              "      <td>306448</td>\n",
              "      <td>NaN</td>\n",
              "      <td>NaN</td>\n",
              "      <td>BCH Pineridge LLC</td>\n",
              "      <td>NaN</td>\n",
              "      <td>USA</td>\n",
              "      <td>United States Dollars</td>\n",
              "      <td>Syndication</td>\n",
              "      <td>...</td>\n",
              "      <td>20120705</td>\n",
              "      <td>NaN</td>\n",
              "      <td>Term Loan</td>\n",
              "      <td>36.0</td>\n",
              "      <td>Real estate</td>\n",
              "      <td>NaN</td>\n",
              "      <td>NaN</td>\n",
              "      <td>NaN</td>\n",
              "      <td>Senior</td>\n",
              "      <td>NaN</td>\n",
              "    </tr>\n",
              "  </tbody>\n",
              "</table>\n",
              "<p>82963 rows × 23 columns</p>\n",
              "</div>"
            ],
            "text/plain": [
              "       BORROWERCOMPANYID  FACILITYID  PACKAGEID  TICKER  AVERAGELIFE  \\\n",
              "0                  14908       19735      14578     NaN          NaN   \n",
              "1                  14908       19738      14578     NaN          NaN   \n",
              "2                   2015       20145      14840    KOIL          NaN   \n",
              "3                  10909       24511      18185     NaN          NaN   \n",
              "4                  18232       28551      21170     NaN          NaN   \n",
              "...                  ...         ...        ...     ...          ...   \n",
              "91113              37025      434279     299626     NaN          NaN   \n",
              "91114              95253      442576     304782  JBLU.O          NaN   \n",
              "91115             187829      443363     305342     NaN          NaN   \n",
              "91116             188114      445060     306448     NaN          NaN   \n",
              "91117             188114      445061     306448     NaN          NaN   \n",
              "\n",
              "                           COMPANY  CONVERSIONDATE COUNTRYOFSYNDICATION  \\\n",
              "0      CenCall Communications Corp             NaN                  USA   \n",
              "1      CenCall Communications Corp             NaN                  USA   \n",
              "2                  Kelley Oil Corp             NaN                  USA   \n",
              "3                    Homedco Group             NaN                  USA   \n",
              "4                   Kumtor Gold Co             NaN                  USA   \n",
              "...                            ...             ...                  ...   \n",
              "91113               Shamrock Foods             NaN                  USA   \n",
              "91114         JetBlue Airways Corp             NaN                  USA   \n",
              "91115           CM Finance SPV Ltd             NaN                  USA   \n",
              "91116            BCH Pineridge LLC             NaN                  USA   \n",
              "91117            BCH Pineridge LLC             NaN                  USA   \n",
              "\n",
              "                    CURRENCY DISTRIBUTIONMETHOD  ...  FACILITYSTARTDATE  \\\n",
              "0      United States Dollars                NaN  ...           19971231   \n",
              "1      United States Dollars                NaN  ...           19971231   \n",
              "2      United States Dollars        Sole Lender  ...           19980824   \n",
              "3      United States Dollars        Syndication  ...           19970503   \n",
              "4      United States Dollars        Syndication  ...           19971010   \n",
              "...                      ...                ...  ...                ...   \n",
              "91113  United States Dollars        Syndication  ...           20131001   \n",
              "91114  United States Dollars        Syndication  ...           20130423   \n",
              "91115  United States Dollars        Syndication  ...           20130523   \n",
              "91116  United States Dollars        Syndication  ...           20120705   \n",
              "91117  United States Dollars        Syndication  ...           20120705   \n",
              "\n",
              "       LCLIMIT                LOANTYPE  MATURITY  PRIMARYPURPOSE RENEWAL  \\\n",
              "0          NaN               Term Loan      54.0      Work. cap.     NaN   \n",
              "1          NaN               Term Loan      54.0      Work. cap.     NaN   \n",
              "2          NaN               Term Loan      24.0      Work. cap.      No   \n",
              "3          NaN               Term Loan      24.0    Acquis. line     NaN   \n",
              "4          NaN               Term Loan      60.0   Proj. finance     NaN   \n",
              "...        ...                     ...       ...             ...     ...   \n",
              "91113      NaN  Revolver/Line >= 1 Yr.      36.0  Corp. purposes     NaN   \n",
              "91114      NaN  Revolver/Line >= 1 Yr.      36.0  Corp. purposes     NaN   \n",
              "91115      NaN               Term Loan      55.0  Corp. purposes     NaN   \n",
              "91116      NaN               Term Loan      60.0     Real estate     NaN   \n",
              "91117      NaN               Term Loan      36.0     Real estate     NaN   \n",
              "\n",
              "       SECONDARYPURPOSE SECURED SENIORITY TARGETCOMPANY  \n",
              "0                   NaN     Yes    Senior           NaN  \n",
              "1                   NaN     Yes    Senior           NaN  \n",
              "2                   NaN     Yes    Senior           NaN  \n",
              "3                   NaN     NaN    Senior           NaN  \n",
              "4                   NaN     NaN    Senior           NaN  \n",
              "...                 ...     ...       ...           ...  \n",
              "91113               NaN     NaN    Senior           NaN  \n",
              "91114               NaN     Yes    Senior           NaN  \n",
              "91115               NaN     NaN    Senior           NaN  \n",
              "91116               NaN     NaN    Senior           NaN  \n",
              "91117               NaN     NaN    Senior           NaN  \n",
              "\n",
              "[82963 rows x 23 columns]"
            ]
          },
          "execution_count": 119,
          "metadata": {},
          "output_type": "execute_result"
        }
      ],
      "source": [
        "# Cleaning Facility Data -> loan data\n",
        "facility\n",
        "\n",
        "# loans we want to keep\n",
        "credit_lines = ['Revolver/Line >= 1 Yr.','Revolver/Line < 1 Yr.','364-Day Facility']\n",
        "term_loans = ['Term Loan','Term Loan A', 'Term Loan B', 'Term Loan C', 'Term Loan D', 'Term Loan E',\n",
        "              'Term Loan F', 'Term Loan G', 'Term Loan H', 'Term Loan I' ]\n",
        "both_loans  = ['Revolver/Term Loan']\n",
        "keep_loans = credit_lines + term_loans + both_loans\n",
        "\n",
        "# Cleaned loan data\n",
        "facility_cleaned = facility[facility['LOANTYPE'].isin(keep_loans)]\n",
        "facility_cleaned"
      ]
    },
    {
      "cell_type": "code",
      "execution_count": 120,
      "metadata": {
        "colab": {
          "base_uri": "https://localhost:8080/",
          "height": 71
        },
        "id": "O5ttSkt1clbj",
        "outputId": "3bc62317-a649-4cab-a4f7-d005d0636887"
      },
      "outputs": [
        {
          "data": {
            "text/plain": [
              "'\"\" match facility to link, so we can get a gvkey then we can match it to the comp database, and in that database we will have borrwoer info\\n\\nusually its the year before the facility start date (lag 1)\\n\\n\\nstart year 1998, -> need to get data from 1997 ........ becaus ehtey looked at data in 1997\\n'"
            ]
          },
          "execution_count": 120,
          "metadata": {},
          "output_type": "execute_result"
        }
      ],
      "source": [
        "\"\"\"\"\" match facility to link, so we can get a gvkey then we can match it to the comp database, and in that database we will have borrwoer info\n",
        "\n",
        "usually its the year before the facility start date (lag 1)\n",
        "\n",
        "\n",
        "start year 1998, -> need to get data from 1997 ........ becaus ehtey looked at data in 1997\n",
        "\"\"\"\n",
        "\n",
        "# Matching facility data to gvkey, so finding out the loans we gave out to public borrowers\n"
      ]
    },
    {
      "cell_type": "markdown",
      "metadata": {
        "id": "VrASK_tZclbk"
      },
      "source": [
        "**Our facilities**"
      ]
    },
    {
      "cell_type": "code",
      "execution_count": 121,
      "metadata": {
        "id": "57wDIm7jclbl"
      },
      "outputs": [],
      "source": [
        "# All Facilities loans for Mellon and Bank of NY\n",
        "NY_facility = NY_bank_loans.merge(facility_cleaned, on='FACILITYID', how='inner')\n",
        "mellon_facility = Mellon_bank_loans.merge(facility_cleaned, on='FACILITYID', how='inner')\n",
        "\n",
        "# Spliting the loans if our banks were Lead Arranger or not\n",
        "## Bank of New York: Lead vs Non-lead\n",
        "NY_lead_loans= NY_facility[NY_facility['LEADARRANGERCREDIT'] == 'Yes']\n",
        "NY_non_lead_loans= NY_facility[NY_facility['LEADARRANGERCREDIT'] == 'No']\n",
        "## Mellon Bank: Lead vs Non-lead\n",
        "Mellon_lead_loans= mellon_facility[mellon_facility['LEADARRANGERCREDIT'] == 'Yes']\n",
        "Mellon_non_lead_loans= mellon_facility[mellon_facility['LEADARRANGERCREDIT'] == 'No']"
      ]
    },
    {
      "cell_type": "markdown",
      "metadata": {
        "id": "tcHrzOlbclbo"
      },
      "source": [
        "**Getting all package ID for package analysis**\n",
        "\n",
        "and fixing the datatime package date"
      ]
    },
    {
      "cell_type": "code",
      "execution_count": 122,
      "metadata": {
        "id": "0jJa3zHTclbq"
      },
      "outputs": [],
      "source": [
        "# ALL our banks facilities IDs\n",
        "## Bank of New York\n",
        "NY_all_package_IDs = NY_facility[\"PACKAGEID\"].tolist()\n",
        "NY_lead_package_IDs = NY_lead_loans[\"PACKAGEID\"].tolist()\n",
        "NY_nonlead_package_IDs = NY_non_lead_loans[\"PACKAGEID\"].tolist()\n",
        "## Mellon Bank\n",
        "mellon_all_package_IDs = mellon_facility[\"PACKAGEID\"].tolist()\n",
        "mellon_lead_package_IDs = Mellon_lead_loans[\"PACKAGEID\"].tolist()\n",
        "mellon_nonlead_package_IDs = Mellon_non_lead_loans[\"PACKAGEID\"].tolist()\n",
        "\n",
        "#\n",
        "package['DEALACTIVEDATE'] = pd.to_datetime(package['DEALACTIVEDATE'], format='%Y%m%d')\n"
      ]
    },
    {
      "cell_type": "markdown",
      "metadata": {
        "id": "UlcuqhoFclbr"
      },
      "source": [
        "**Getting all our respective package info**\n",
        "\n",
        "dates are in the packages \"DEALACTIVEDATE\"\n",
        "\n",
        "\n",
        "my loan data critera was based on when thenpackage was active, maybe it should be with the facility start and end date, conform with group our ask the Prof lin"
      ]
    },
    {
      "cell_type": "code",
      "execution_count": 123,
      "metadata": {
        "id": "GD5vFeXGclbs"
      },
      "outputs": [],
      "source": [
        "# Bank of New York packages\n",
        "NY_all_packages = package[package['PACKAGEID'].isin(NY_all_package_IDs)]\n",
        "NY_lead_packages = package[package['PACKAGEID'].isin(NY_lead_package_IDs)]\n",
        "NY_nonlead_packages = package[package['PACKAGEID'].isin(NY_nonlead_package_IDs)]\n",
        "# Mellon Bank packages\n",
        "mellon_all_packages = package[package['PACKAGEID'].isin(mellon_all_package_IDs)]\n",
        "mellon_lead_packages = package[package['PACKAGEID'].isin(mellon_lead_package_IDs)]\n",
        "mellon_nonlead_packages = package[package['PACKAGEID'].isin(mellon_nonlead_package_IDs)]"
      ]
    },
    {
      "cell_type": "code",
      "execution_count": 124,
      "metadata": {
        "colab": {
          "base_uri": "https://localhost:8080/"
        },
        "id": "RT41yZ4tclbu",
        "outputId": "80c52d36-aa98-4155-d5ce-a301625a4c19"
      },
      "outputs": [
        {
          "data": {
            "text/plain": [
              "Index(['BORROWERCOMPANYID', 'PACKAGEID', 'TICKER', 'ACTIVE', 'AGENTCONSENT',\n",
              "       'ASSETSALESSWEEP', 'ASSIGNMENTFEE', 'ASSIGNMENTMIN',\n",
              "       'ASSIGNMENTRESTRICTIONS', 'COLLATERALRELEASE', 'COMPANY',\n",
              "       'COMPANYCONSENT', 'COMMENT', 'CURRENCY', 'DEALACTIVEDATE', 'DEALAMOUNT',\n",
              "       'DEALPURPOSE', 'DEALSTATUS', 'DEBTISSUANCESWEEP', 'DEFAULTBASERATE',\n",
              "       'DIVIDENDRESTRICTIONS', 'EQUITYISSUANCESWEEP', 'EXCESSCFSWEEP',\n",
              "       'EXCHANGERATE', 'HYBRID', 'INSURANCEPROCEEDSSWEEP',\n",
              "       'PERCENTAGEOFEXCESSCF', 'PERCENTAGEOFNETINCOME', 'PRORATAALLOCATION',\n",
              "       'PROJECTFINANCETYPE', 'REFINANCINGINDICATOR', 'REQUIREDLENDERS',\n",
              "       'SALESATCLOSE', 'SPREADOVERDEFAULTBASE', 'TERMCHANGES', 'PackageID',\n",
              "       'CovenantType'],\n",
              "      dtype='object')"
            ]
          },
          "execution_count": 124,
          "metadata": {},
          "output_type": "execute_result"
        }
      ],
      "source": [
        "\"\"\"\"\n",
        "\n",
        "Linked table for gvkey, to see if public and private borrowers,\n",
        "\n",
        "I dont understand the table\n",
        "\n",
        "See if someone understands it\n",
        "\n",
        "    Linked table:\n",
        "\n",
        "    For each facility ID, they link it to the “gvkey” which is from CompStat dataset\n",
        "\n",
        "    This means that, if the facility ID that we found from bank of NY can be linked with this table to a gvkey, then that means the  its public, if it can not its private\n",
        "\n",
        "    There’s facility ID & gvkey a link = public\n",
        "\n",
        "    No link = private\n",
        "\n",
        "    Thus now we can see, before and after, if they are lending more to public or private borrowers\n",
        "\n",
        "\n",
        "we need this to see how risky the borrower is\n",
        "\n",
        "\n",
        "\"\"\"\n",
        "\n",
        "package.columns"
      ]
    },
    {
      "cell_type": "markdown",
      "metadata": {
        "id": "S67DnMaOclbv"
      },
      "source": [
        "**Date dependent pacakge IDs**\n",
        "\n",
        "There are our packages, that we can do anaylis on, **important**\n",
        "\n",
        "<u>merger on 2007-07-02*\n",
        "\n",
        "Looking 3 years before : 2004, 2005, 2006\n",
        "\n",
        "Looking 3 years afer : 2007, 2008, 2009</u>\n",
        "\n",
        "    we can use the below dataframes for\n",
        "    ackage is for us to compare it to the facility, because this is the actual loan, it’s the “deal”\n",
        "\n",
        "    Within each Deal/package we have different things:\n",
        "\n",
        "    Package ID: (its also in the other dataset)\n",
        "\n",
        "    Deal amount: all the facilities together  \n",
        "\n",
        "    Deal active date:  \n",
        "\n",
        "    Deal purpose:  \n",
        "\n",
        "    What’s interesting is if the Deal Purpose is not equal to the Facility purpose.  \n",
        "\n",
        "    That might be something interesting to talk about if they say different things  \n",
        "\n",
        "    Now, why do we care about loan package?\n",
        "\n",
        "    Because Covenants are at the package level\n",
        "\n",
        "AND MORE"
      ]
    },
    {
      "cell_type": "code",
      "execution_count": 125,
      "metadata": {
        "id": "mEgl59elclbx"
      },
      "outputs": [],
      "source": [
        "\n",
        "# All years in the dataset - every year possible\n",
        "NY_all_packages\n",
        "NY_lead_packages\n",
        "NY_nonlead_packages\n",
        "mellon_all_packages\n",
        "mellon_lead_packages\n",
        "mellon_nonlead_packages\n",
        "\n",
        "# 3 years before, 3 years after ... don't look at benchmark year of 2007, the merger\n",
        "# Before merger [2004-2006]\n",
        "before_start_date = pd.to_datetime('2004-01-01')\n",
        "before_end_date = pd.to_datetime('2006-12-31')\n",
        "# After merger [2008-2010]\n",
        "after_start_date = pd.to_datetime('2008-01-01')\n",
        "after_end_date = pd.to_datetime('2010-12-31')\n",
        "\n",
        "\"\"\"these are package dataframe, we can do analysis on it\n",
        "We can do our analysis on the packages below, important these are the dataframes we can do our analysis on\n",
        "\"\"\"\n",
        "# ALL packages: Lead + non lead\n",
        "## 6 year interval we are looking at [2004-2010]\n",
        "NY_packages_6y_interval = NY_all_packages[(NY_all_packages['DEALACTIVEDATE'] >= before_start_date) & (NY_all_packages['DEALACTIVEDATE'] <= after_end_date)]\n",
        "Mellon_packages_6y_interval= mellon_all_packages[(mellon_all_packages['DEALACTIVEDATE'] >= before_start_date) & (mellon_all_packages['DEALACTIVEDATE'] <= after_end_date)]\n",
        "## before [2004-2006]\n",
        "NY_packages_3y_before_merger = NY_all_packages[(NY_all_packages['DEALACTIVEDATE'] >= before_start_date) & (NY_all_packages['DEALACTIVEDATE'] <= before_end_date)]\n",
        "Mellon_packages_3y_before_merger = mellon_all_packages[(mellon_all_packages['DEALACTIVEDATE'] >= before_start_date) & (mellon_all_packages['DEALACTIVEDATE'] <= before_end_date)]\n",
        "## after [2008-2010]\n",
        "NY_packages_3y_after_merger = NY_all_packages[(NY_all_packages['DEALACTIVEDATE'] >= after_start_date) & (NY_all_packages['DEALACTIVEDATE'] <= after_end_date)]\n",
        "Mellon_packages_3y_after_merger = mellon_all_packages[(mellon_all_packages['DEALACTIVEDATE'] >= after_start_date) & (mellon_all_packages['DEALACTIVEDATE'] <= after_end_date)]\n",
        "\n",
        "# Lead aranger packages\n",
        "## 6 year interval we are looking at [2004-2010]\n",
        "NY_lead_packages_6y_interval = NY_lead_packages[(NY_lead_packages['DEALACTIVEDATE'] >= before_start_date) & (NY_lead_packages['DEALACTIVEDATE'] <= after_end_date)]\n",
        "Mellon_lead_packages_6y_interval= mellon_lead_packages[(mellon_lead_packages['DEALACTIVEDATE'] >= before_start_date) & (mellon_lead_packages['DEALACTIVEDATE'] <= after_end_date)]\n",
        "##  before [2004-2006]\n",
        "NY_lead_packages_3y_before_merger = NY_lead_packages[(NY_lead_packages['DEALACTIVEDATE'] >= before_start_date) & (NY_lead_packages['DEALACTIVEDATE'] <= before_end_date)]\n",
        "Mellon_lead_packages_3y_before_merger = mellon_lead_packages[(mellon_lead_packages['DEALACTIVEDATE'] >= before_start_date) & (mellon_lead_packages['DEALACTIVEDATE'] <= before_end_date)]\n",
        "## after [2008-2010]\n",
        "NY_lead_packages_3y_after_merger = NY_lead_packages[(NY_lead_packages['DEALACTIVEDATE'] >= after_start_date) & (NY_lead_packages['DEALACTIVEDATE'] <= after_end_date)]\n",
        "Mellon_lead_packages_3y_after_merger = mellon_lead_packages[(mellon_lead_packages['DEALACTIVEDATE'] >= after_start_date) & (mellon_lead_packages['DEALACTIVEDATE'] <= after_end_date)]\n",
        "\n",
        "\n",
        "# non-Lead aranger packages\n",
        "## 6 year interval we are looking at [2004-2010]\n",
        "NY_nonlead_packages_6y_interval = NY_nonlead_packages[(NY_nonlead_packages['DEALACTIVEDATE'] >= before_start_date) & (NY_nonlead_packages['DEALACTIVEDATE'] <= after_end_date)]\n",
        "Mellon_nonlead_packages_6y_interval= mellon_nonlead_packages[(mellon_nonlead_packages['DEALACTIVEDATE'] >= before_start_date) & (mellon_nonlead_packages['DEALACTIVEDATE'] <= after_end_date)]\n",
        "## before [2004-2006]\n",
        "NY_nonlead_packages_3y_before_merger = NY_nonlead_packages[(NY_nonlead_packages['DEALACTIVEDATE'] >= before_start_date) & (NY_nonlead_packages['DEALACTIVEDATE'] <= before_end_date)]\n",
        "Mellon_nonlead_packages_3y_before_merger = mellon_nonlead_packages[(mellon_nonlead_packages['DEALACTIVEDATE'] >= before_start_date) & (mellon_nonlead_packages['DEALACTIVEDATE'] <= before_end_date)]\n",
        "## after [2008-2010]\n",
        "NY_nonlead_packages_3y_after_merger = NY_nonlead_packages[(NY_nonlead_packages['DEALACTIVEDATE'] >= after_start_date) & (NY_nonlead_packages['DEALACTIVEDATE'] <= after_end_date)]\n",
        "Mellon_nonlead_packages_3y_after_merger = mellon_nonlead_packages[(mellon_nonlead_packages['DEALACTIVEDATE'] >= after_start_date) & (mellon_nonlead_packages['DEALACTIVEDATE'] <= after_end_date)]\n"
      ]
    },
    {
      "cell_type": "markdown",
      "metadata": {
        "id": "Co4EutlGclb0"
      },
      "source": [
        "**Packages**\n",
        "---\n",
        "we can do data anaylysis on the botttom, I re-listed them so they are clear to pick\n",
        "I also merged the banks packages after the merger, since its one entity"
      ]
    },
    {
      "cell_type": "code",
      "execution_count": 126,
      "metadata": {
        "id": "f-YNpdBHclb1"
      },
      "outputs": [],
      "source": [
        "\n",
        "\"\"\"LETS DO ANALYSIS ON THESE!\"\"\"\n",
        "# Before [2004-2006]\n",
        "## Lead + Non Lead\n",
        "NY_packages_6y_interval\n",
        "Mellon_packages_6y_interval\n",
        "## Lead\n",
        "NY_lead_packages_6y_interval\n",
        "Mellon_lead_packages_6y_interval\n",
        "## Non-lead\n",
        "NY_nonlead_packages_6y_interval\n",
        "Mellon_nonlead_packages_6y_interval\n",
        "\n",
        "# Before [2004-2006]\n",
        "## Lead + Non Lead\n",
        "NY_packages_3y_before_merger\n",
        "Mellon_packages_3y_before_merger\n",
        "## Lead\n",
        "NY_lead_packages_3y_before_merger\n",
        "Mellon_lead_packages_3y_before_merger\n",
        "## Non-lead\n",
        "NY_nonlead_packages_3y_before_merger\n",
        "Mellon_nonlead_packages_3y_before_merger\n",
        "\n",
        "# After [2008-2010]\n",
        "## Lead + Non Lead\n",
        "NY_packages_3y_after_merger\n",
        "Mellon_packages_3y_after_merger\n",
        "both_packages_3y_after_merger = pd.concat([NY_nonlead_packages_3y_after_merger, Mellon_nonlead_packages_3y_after_merger], axis=0)\n",
        "## Lead\n",
        "NY_lead_packages_3y_after_merger\n",
        "Mellon_lead_packages_3y_after_merger\n",
        "both_lead_packages_3y_after_merger = pd.concat([NY_nonlead_packages_3y_after_merger, Mellon_nonlead_packages_3y_after_merger], axis=0)\n",
        "## Non-lead\n",
        "NY_nonlead_packages_3y_after_merger\n",
        "Mellon_nonlead_packages_3y_after_merger\n",
        "both_nonlead_packages_3y_after_merger = pd.concat([NY_nonlead_packages_3y_after_merger, Mellon_nonlead_packages_3y_after_merger], axis=0)"
      ]
    },
    {
      "cell_type": "markdown",
      "metadata": {
        "id": "3nkRa5QChTN0"
      },
      "source": [
        "doing some package analysis here - del"
      ]
    },
    {
      "cell_type": "markdown",
      "metadata": {
        "id": "tSGp6e8gii6l"
      },
      "source": [
        "Deal purpose before and after merger"
      ]
    },
    {
      "cell_type": "code",
      "execution_count": 127,
      "metadata": {
        "colab": {
          "base_uri": "https://localhost:8080/"
        },
        "id": "eZcNiTCciyZ0",
        "outputId": "180bab05-c511-439c-cb95-7ec70bd8f002"
      },
      "outputs": [
        {
          "data": {
            "text/plain": [
              "95248          CP backup\n",
              "95796         Work. cap.\n",
              "96136     Corp. purposes\n",
              "96406     Corp. purposes\n",
              "96411          CP backup\n",
              "               ...      \n",
              "129535         CP backup\n",
              "133504    Corp. purposes\n",
              "133748    Corp. purposes\n",
              "136665    Corp. purposes\n",
              "154701               LBO\n",
              "Name: DEALPURPOSE, Length: 1375, dtype: object"
            ]
          },
          "execution_count": 127,
          "metadata": {},
          "output_type": "execute_result"
        }
      ],
      "source": [
        "NY_packages_3y_before_merger['DEALPURPOSE']"
      ]
    },
    {
      "cell_type": "code",
      "execution_count": 128,
      "metadata": {
        "colab": {
          "base_uri": "https://localhost:8080/",
          "height": 599
        },
        "id": "msIn9Kvdihi0",
        "outputId": "baa33e7d-b4fe-472e-c599-528587796551"
      },
      "outputs": [
        {
          "name": "stdout",
          "output_type": "stream",
          "text": [
            "Bank of New York deal purpose before the merger\n"
          ]
        },
        {
          "data": {
            "text/html": [
              "<div>\n",
              "<style scoped>\n",
              "    .dataframe tbody tr th:only-of-type {\n",
              "        vertical-align: middle;\n",
              "    }\n",
              "\n",
              "    .dataframe tbody tr th {\n",
              "        vertical-align: top;\n",
              "    }\n",
              "\n",
              "    .dataframe thead th {\n",
              "        text-align: right;\n",
              "    }\n",
              "</style>\n",
              "<table border=\"1\" class=\"dataframe\">\n",
              "  <thead>\n",
              "    <tr style=\"text-align: right;\">\n",
              "      <th></th>\n",
              "      <th>Deal Purpose</th>\n",
              "      <th>Count</th>\n",
              "      <th>Likelihood</th>\n",
              "    </tr>\n",
              "  </thead>\n",
              "  <tbody>\n",
              "    <tr>\n",
              "      <th>3</th>\n",
              "      <td>Corp. purposes</td>\n",
              "      <td>750</td>\n",
              "      <td>0.545455</td>\n",
              "    </tr>\n",
              "    <tr>\n",
              "      <th>16</th>\n",
              "      <td>Work. cap.</td>\n",
              "      <td>281</td>\n",
              "      <td>0.204364</td>\n",
              "    </tr>\n",
              "    <tr>\n",
              "      <th>1</th>\n",
              "      <td>CP backup</td>\n",
              "      <td>151</td>\n",
              "      <td>0.109818</td>\n",
              "    </tr>\n",
              "    <tr>\n",
              "      <th>15</th>\n",
              "      <td>Takeover</td>\n",
              "      <td>53</td>\n",
              "      <td>0.038545</td>\n",
              "    </tr>\n",
              "    <tr>\n",
              "      <th>0</th>\n",
              "      <td>Acquis. line</td>\n",
              "      <td>43</td>\n",
              "      <td>0.031273</td>\n",
              "    </tr>\n",
              "    <tr>\n",
              "      <th>4</th>\n",
              "      <td>Debt Repay.</td>\n",
              "      <td>22</td>\n",
              "      <td>0.016000</td>\n",
              "    </tr>\n",
              "    <tr>\n",
              "      <th>6</th>\n",
              "      <td>Dividend Recap</td>\n",
              "      <td>19</td>\n",
              "      <td>0.013818</td>\n",
              "    </tr>\n",
              "    <tr>\n",
              "      <th>9</th>\n",
              "      <td>LBO</td>\n",
              "      <td>19</td>\n",
              "      <td>0.013818</td>\n",
              "    </tr>\n",
              "    <tr>\n",
              "      <th>12</th>\n",
              "      <td>Real estate</td>\n",
              "      <td>7</td>\n",
              "      <td>0.005091</td>\n",
              "    </tr>\n",
              "    <tr>\n",
              "      <th>14</th>\n",
              "      <td>Stock buyback</td>\n",
              "      <td>7</td>\n",
              "      <td>0.005091</td>\n",
              "    </tr>\n",
              "    <tr>\n",
              "      <th>13</th>\n",
              "      <td>Spinoff</td>\n",
              "      <td>6</td>\n",
              "      <td>0.004364</td>\n",
              "    </tr>\n",
              "    <tr>\n",
              "      <th>2</th>\n",
              "      <td>Capital expend.</td>\n",
              "      <td>6</td>\n",
              "      <td>0.004364</td>\n",
              "    </tr>\n",
              "    <tr>\n",
              "      <th>7</th>\n",
              "      <td>Exit financing</td>\n",
              "      <td>4</td>\n",
              "      <td>0.002909</td>\n",
              "    </tr>\n",
              "    <tr>\n",
              "      <th>11</th>\n",
              "      <td>Other</td>\n",
              "      <td>3</td>\n",
              "      <td>0.002182</td>\n",
              "    </tr>\n",
              "    <tr>\n",
              "      <th>10</th>\n",
              "      <td>Mort. Warehse.</td>\n",
              "      <td>2</td>\n",
              "      <td>0.001455</td>\n",
              "    </tr>\n",
              "    <tr>\n",
              "      <th>5</th>\n",
              "      <td>Debtor-in-poss.</td>\n",
              "      <td>1</td>\n",
              "      <td>0.000727</td>\n",
              "    </tr>\n",
              "    <tr>\n",
              "      <th>8</th>\n",
              "      <td>IPO Relat. Finan.</td>\n",
              "      <td>1</td>\n",
              "      <td>0.000727</td>\n",
              "    </tr>\n",
              "  </tbody>\n",
              "</table>\n",
              "</div>"
            ],
            "text/plain": [
              "         Deal Purpose  Count  Likelihood\n",
              "3      Corp. purposes    750    0.545455\n",
              "16         Work. cap.    281    0.204364\n",
              "1           CP backup    151    0.109818\n",
              "15           Takeover     53    0.038545\n",
              "0        Acquis. line     43    0.031273\n",
              "4         Debt Repay.     22    0.016000\n",
              "6      Dividend Recap     19    0.013818\n",
              "9                 LBO     19    0.013818\n",
              "12        Real estate      7    0.005091\n",
              "14      Stock buyback      7    0.005091\n",
              "13            Spinoff      6    0.004364\n",
              "2     Capital expend.      6    0.004364\n",
              "7      Exit financing      4    0.002909\n",
              "11              Other      3    0.002182\n",
              "10     Mort. Warehse.      2    0.001455\n",
              "5     Debtor-in-poss.      1    0.000727\n",
              "8   IPO Relat. Finan.      1    0.000727"
            ]
          },
          "execution_count": 128,
          "metadata": {},
          "output_type": "execute_result"
        }
      ],
      "source": [
        "#Before for NY\n",
        "print( \"Bank of New York deal purpose before the merger\")\n",
        "ny_dealpurpose_descriptive = NY_packages_3y_before_merger['DEALPURPOSE'].str.split(',').explode().value_counts()\n",
        "ny_dealpurpose_descriptive = ny_dealpurpose_descriptive.head(30)\n",
        "ny_dealpurpose_descriptive = pd.DataFrame(ny_dealpurpose_descriptive)\n",
        "ny_dealpurpose_descriptive = ny_dealpurpose_descriptive.rename(columns={0: \"deal purpose\"})\n",
        "ny_dealpurpose_descriptive = ny_dealpurpose_descriptive.reset_index()\n",
        "ny_dealpurpose_descriptive.columns = ['Deal Purpose', 'Count']\n",
        "ny_dealpurpose_descriptive['Deal Purpose'] = ny_dealpurpose_descriptive['Deal Purpose'].str.strip()\n",
        "ny_dealpurpose_descriptive = ny_dealpurpose_descriptive.groupby('Deal Purpose').sum().reset_index()\n",
        "ny_dealpurpose_descriptive = ny_dealpurpose_descriptive.sort_values(by='Count', ascending=False)\n",
        "ny_dealpurpose_descriptive\n",
        "ny_dealpurpose_descriptive['Likelihood'] = ny_dealpurpose_descriptive[\"Count\"] / NY_packages_3y_before_merger['DEALPURPOSE'].str.split(',').explode().value_counts().sum()\n",
        "ny_dealpurpose_descriptive\n"
      ]
    },
    {
      "cell_type": "code",
      "execution_count": 129,
      "metadata": {
        "id": "szIODkZrOHAc"
      },
      "outputs": [],
      "source": [
        "Corppurposes_count_ny = np.where(NY_packages_3y_before_merger[\"DEALPURPOSE\"] == \"Corp. purposes\", 1, 0)\n",
        "Workcap_count_ny = np.where(NY_packages_3y_before_merger[\"DEALPURPOSE\"] == \"Work. cap.\", 1, 0)\n",
        "CPbackup_count_ny = np.where(NY_packages_3y_before_merger[\"DEALPURPOSE\"] == \"CP backup\", 1, 0)\n",
        "Takeover_count_ny = np.where(NY_packages_3y_before_merger[\"DEALPURPOSE\"] == \"Takeover\", 1, 0)\n",
        "Acquisline_count_ny = np.where(NY_packages_3y_before_merger[\"DEALPURPOSE\"] == \"Acquis. line\", 1, 0)\n",
        "Debtrepay_count_ny = np.where(NY_packages_3y_before_merger[\"DEALPURPOSE\"] == \"Debt Repay.\", 1, 0)\n",
        "Dividendrecap_count_ny = np.where(NY_packages_3y_before_merger[\"DEALPURPOSE\"] == \"Dividend Recap\", 1, 0)\n",
        "LBO_count_ny = np.where(NY_packages_3y_before_merger[\"DEALPURPOSE\"] == \"LBO\", 1, 0)\n",
        "Realestate_count_ny = np.where(NY_packages_3y_before_merger[\"DEALPURPOSE\"] == \"Real estate\", 1, 0)\n",
        "Stockbuyback_count_ny = np.where(NY_packages_3y_before_merger[\"DEALPURPOSE\"] == \"Stock buyback\", 1, 0)"
      ]
    },
    {
      "cell_type": "code",
      "execution_count": 130,
      "metadata": {
        "colab": {
          "base_uri": "https://localhost:8080/",
          "height": 317
        },
        "id": "Fz4rAddgQ3mo",
        "outputId": "23ecb86f-14fa-4d18-ffe2-610a4385bf28"
      },
      "outputs": [
        {
          "name": "stdout",
          "output_type": "stream",
          "text": [
            "Mellon deal purpose before the merger\n"
          ]
        },
        {
          "data": {
            "text/html": [
              "<div>\n",
              "<style scoped>\n",
              "    .dataframe tbody tr th:only-of-type {\n",
              "        vertical-align: middle;\n",
              "    }\n",
              "\n",
              "    .dataframe tbody tr th {\n",
              "        vertical-align: top;\n",
              "    }\n",
              "\n",
              "    .dataframe thead th {\n",
              "        text-align: right;\n",
              "    }\n",
              "</style>\n",
              "<table border=\"1\" class=\"dataframe\">\n",
              "  <thead>\n",
              "    <tr style=\"text-align: right;\">\n",
              "      <th></th>\n",
              "      <th>Deal Purpose</th>\n",
              "      <th>Count</th>\n",
              "      <th>Likelihood</th>\n",
              "    </tr>\n",
              "  </thead>\n",
              "  <tbody>\n",
              "    <tr>\n",
              "      <th>2</th>\n",
              "      <td>Corp. purposes</td>\n",
              "      <td>171</td>\n",
              "      <td>0.591696</td>\n",
              "    </tr>\n",
              "    <tr>\n",
              "      <th>7</th>\n",
              "      <td>Work. cap.</td>\n",
              "      <td>54</td>\n",
              "      <td>0.186851</td>\n",
              "    </tr>\n",
              "    <tr>\n",
              "      <th>1</th>\n",
              "      <td>CP backup</td>\n",
              "      <td>51</td>\n",
              "      <td>0.176471</td>\n",
              "    </tr>\n",
              "    <tr>\n",
              "      <th>5</th>\n",
              "      <td>Real estate</td>\n",
              "      <td>6</td>\n",
              "      <td>0.020761</td>\n",
              "    </tr>\n",
              "    <tr>\n",
              "      <th>6</th>\n",
              "      <td>Takeover</td>\n",
              "      <td>3</td>\n",
              "      <td>0.010381</td>\n",
              "    </tr>\n",
              "    <tr>\n",
              "      <th>0</th>\n",
              "      <td>Acquis. line</td>\n",
              "      <td>2</td>\n",
              "      <td>0.006920</td>\n",
              "    </tr>\n",
              "    <tr>\n",
              "      <th>3</th>\n",
              "      <td>Debt Repay.</td>\n",
              "      <td>1</td>\n",
              "      <td>0.003460</td>\n",
              "    </tr>\n",
              "    <tr>\n",
              "      <th>4</th>\n",
              "      <td>Exit financing</td>\n",
              "      <td>1</td>\n",
              "      <td>0.003460</td>\n",
              "    </tr>\n",
              "  </tbody>\n",
              "</table>\n",
              "</div>"
            ],
            "text/plain": [
              "     Deal Purpose  Count  Likelihood\n",
              "2  Corp. purposes    171    0.591696\n",
              "7      Work. cap.     54    0.186851\n",
              "1       CP backup     51    0.176471\n",
              "5     Real estate      6    0.020761\n",
              "6        Takeover      3    0.010381\n",
              "0    Acquis. line      2    0.006920\n",
              "3     Debt Repay.      1    0.003460\n",
              "4  Exit financing      1    0.003460"
            ]
          },
          "execution_count": 130,
          "metadata": {},
          "output_type": "execute_result"
        }
      ],
      "source": [
        "#Before Mellon\n",
        "print( \"Mellon deal purpose before the merger\")\n",
        "Mellon_dealpurpose_descriptive = Mellon_packages_3y_before_merger['DEALPURPOSE'].str.split(',').explode().value_counts()\n",
        "Mellon_dealpurpose_descriptive = Mellon_dealpurpose_descriptive.head(30)\n",
        "Mellon_dealpurpose_descriptive = pd.DataFrame(Mellon_dealpurpose_descriptive)\n",
        "Mellon_dealpurpose_descriptive = Mellon_dealpurpose_descriptive.rename(columns={0: \"deal purpose\"})\n",
        "Mellon_dealpurpose_descriptive = Mellon_dealpurpose_descriptive.reset_index()\n",
        "Mellon_dealpurpose_descriptive.columns = ['Deal Purpose', 'Count']\n",
        "Mellon_dealpurpose_descriptive['Deal Purpose'] = Mellon_dealpurpose_descriptive['Deal Purpose'].str.strip()\n",
        "Mellon_dealpurpose_descriptive = Mellon_dealpurpose_descriptive.groupby('Deal Purpose').sum().reset_index()\n",
        "Mellon_dealpurpose_descriptive = Mellon_dealpurpose_descriptive.sort_values(by='Count', ascending=False)\n",
        "Mellon_dealpurpose_descriptive\n",
        "Mellon_dealpurpose_descriptive['Likelihood'] = Mellon_dealpurpose_descriptive[\"Count\"] / Mellon_packages_3y_before_merger['DEALPURPOSE'].str.split(',').explode().value_counts().sum()\n",
        "Mellon_dealpurpose_descriptive"
      ]
    },
    {
      "cell_type": "code",
      "execution_count": 131,
      "metadata": {
        "id": "4wMxGReXQ7Z4"
      },
      "outputs": [],
      "source": [
        "Corppurposes_count_mellon = np.where(Mellon_packages_3y_before_merger[\"DEALPURPOSE\"] == \"Corp. purposes\", 1, 0)\n",
        "Workcap_count_mellon = np.where(Mellon_packages_3y_before_merger[\"DEALPURPOSE\"] == \"Work. cap.\", 1, 0)\n",
        "CPbackup_count_mellon = np.where(Mellon_packages_3y_before_merger[\"DEALPURPOSE\"] == \"CP backup\", 1, 0)\n",
        "Realestate_count_mellon = np.where(Mellon_packages_3y_before_merger[\"DEALPURPOSE\"] == \"Real estate\", 1, 0)\n",
        "Takeover_count_mellon = np.where(Mellon_packages_3y_before_merger[\"DEALPURPOSE\"] == \"Takeover\", 1, 0)\n",
        "Acquisline_count_mellon = np.where(Mellon_packages_3y_before_merger[\"DEALPURPOSE\"] == \"Acquis. line\", 1, 0)\n",
        "Debtrepay_count_mellon = np.where(Mellon_packages_3y_before_merger[\"DEALPURPOSE\"] == \"Debt Repay.\", 1, 0)\n",
        "Exitfinancing_count_mellon = np.where(Mellon_packages_3y_before_merger[\"DEALPURPOSE\"] == \"Dividend Recap\", 1, 0)"
      ]
    },
    {
      "cell_type": "code",
      "execution_count": 132,
      "metadata": {
        "colab": {
          "base_uri": "https://localhost:8080/",
          "height": 317
        },
        "id": "AEfNEpOkRdH2",
        "outputId": "c4d04415-915b-4393-db9b-7eb75b8953be"
      },
      "outputs": [
        {
          "name": "stdout",
          "output_type": "stream",
          "text": [
            "Both deal purpose after the merger\n"
          ]
        },
        {
          "data": {
            "text/html": [
              "<div>\n",
              "<style scoped>\n",
              "    .dataframe tbody tr th:only-of-type {\n",
              "        vertical-align: middle;\n",
              "    }\n",
              "\n",
              "    .dataframe tbody tr th {\n",
              "        vertical-align: top;\n",
              "    }\n",
              "\n",
              "    .dataframe thead th {\n",
              "        text-align: right;\n",
              "    }\n",
              "</style>\n",
              "<table border=\"1\" class=\"dataframe\">\n",
              "  <thead>\n",
              "    <tr style=\"text-align: right;\">\n",
              "      <th></th>\n",
              "      <th>Deal Purpose</th>\n",
              "      <th>Count</th>\n",
              "      <th>Likelihood</th>\n",
              "    </tr>\n",
              "  </thead>\n",
              "  <tbody>\n",
              "    <tr>\n",
              "      <th>2</th>\n",
              "      <td>Corp. purposes</td>\n",
              "      <td>97</td>\n",
              "      <td>0.718519</td>\n",
              "    </tr>\n",
              "    <tr>\n",
              "      <th>7</th>\n",
              "      <td>Work. cap.</td>\n",
              "      <td>19</td>\n",
              "      <td>0.140741</td>\n",
              "    </tr>\n",
              "    <tr>\n",
              "      <th>1</th>\n",
              "      <td>CP backup</td>\n",
              "      <td>6</td>\n",
              "      <td>0.044444</td>\n",
              "    </tr>\n",
              "    <tr>\n",
              "      <th>4</th>\n",
              "      <td>Real estate</td>\n",
              "      <td>5</td>\n",
              "      <td>0.037037</td>\n",
              "    </tr>\n",
              "    <tr>\n",
              "      <th>6</th>\n",
              "      <td>Takeover</td>\n",
              "      <td>4</td>\n",
              "      <td>0.029630</td>\n",
              "    </tr>\n",
              "    <tr>\n",
              "      <th>5</th>\n",
              "      <td>Stock buyback</td>\n",
              "      <td>2</td>\n",
              "      <td>0.014815</td>\n",
              "    </tr>\n",
              "    <tr>\n",
              "      <th>0</th>\n",
              "      <td>Acquis. line</td>\n",
              "      <td>1</td>\n",
              "      <td>0.007407</td>\n",
              "    </tr>\n",
              "    <tr>\n",
              "      <th>3</th>\n",
              "      <td>IPO Relat. Finan.</td>\n",
              "      <td>1</td>\n",
              "      <td>0.007407</td>\n",
              "    </tr>\n",
              "  </tbody>\n",
              "</table>\n",
              "</div>"
            ],
            "text/plain": [
              "        Deal Purpose  Count  Likelihood\n",
              "2     Corp. purposes     97    0.718519\n",
              "7         Work. cap.     19    0.140741\n",
              "1          CP backup      6    0.044444\n",
              "4        Real estate      5    0.037037\n",
              "6           Takeover      4    0.029630\n",
              "5      Stock buyback      2    0.014815\n",
              "0       Acquis. line      1    0.007407\n",
              "3  IPO Relat. Finan.      1    0.007407"
            ]
          },
          "execution_count": 132,
          "metadata": {},
          "output_type": "execute_result"
        }
      ],
      "source": [
        "#After both\n",
        "print( \"Both deal purpose after the merger\")\n",
        "both_dealpurpose_descriptive = both_packages_3y_after_merger['DEALPURPOSE'].str.split(',').explode().value_counts()\n",
        "both_dealpurpose_descriptive = both_dealpurpose_descriptive.head(30)\n",
        "both_dealpurpose_descriptive = pd.DataFrame(both_dealpurpose_descriptive)\n",
        "both_dealpurpose_descriptive = both_dealpurpose_descriptive.rename(columns={0: \"deal purpose\"})\n",
        "both_dealpurpose_descriptive = both_dealpurpose_descriptive.reset_index()\n",
        "both_dealpurpose_descriptive.columns = ['Deal Purpose', 'Count']\n",
        "both_dealpurpose_descriptive['Deal Purpose'] = both_dealpurpose_descriptive['Deal Purpose'].str.strip()\n",
        "both_dealpurpose_descriptive = both_dealpurpose_descriptive.groupby('Deal Purpose').sum().reset_index()\n",
        "both_dealpurpose_descriptive = both_dealpurpose_descriptive.sort_values(by='Count', ascending=False)\n",
        "both_dealpurpose_descriptive\n",
        "both_dealpurpose_descriptive['Likelihood'] = both_dealpurpose_descriptive[\"Count\"] / both_packages_3y_after_merger['DEALPURPOSE'].str.split(',').explode().value_counts().sum()\n",
        "both_dealpurpose_descriptive"
      ]
    },
    {
      "cell_type": "code",
      "execution_count": 133,
      "metadata": {
        "id": "1UoRxhHmUP99"
      },
      "outputs": [],
      "source": [
        "Corppurposes_count_both = np.where(both_packages_3y_after_merger[\"DEALPURPOSE\"] == \"Corp. purposes\", 1, 0)\n",
        "Workcap_count_both = np.where(both_packages_3y_after_merger[\"DEALPURPOSE\"] == \"Work. cap.\", 1, 0)\n",
        "CPbackup_count_both = np.where(both_packages_3y_after_merger[\"DEALPURPOSE\"] == \"CP backup\", 1, 0)\n",
        "Realestate_count_both = np.where(both_packages_3y_after_merger[\"DEALPURPOSE\"] == \"Real estate\", 1, 0)\n",
        "Takeover_count_both = np.where(both_packages_3y_after_merger[\"DEALPURPOSE\"] == \"Takeover\", 1, 0)\n",
        "Stockbuyback_count_both = np.where(both_packages_3y_after_merger[\"DEALPURPOSE\"] == \"Stock buyback\", 1, 0)\n",
        "Acquisline_count_both = np.where(both_packages_3y_after_merger[\"DEALPURPOSE\"] == \"Acquis. line\", 1, 0)\n",
        "IPORelatFinan_count_both = np.where(both_packages_3y_after_merger[\"DEALPURPOSE\"] == \"Debt Repay.\", 1, 0)"
      ]
    },
    {
      "cell_type": "code",
      "execution_count": 134,
      "metadata": {
        "colab": {
          "base_uri": "https://localhost:8080/"
        },
        "id": "LgDtazSDSTSw",
        "outputId": "d2bfe9dd-6685-4ac7-ccc3-e6906a61825d"
      },
      "outputs": [
        {
          "name": "stdout",
          "output_type": "stream",
          "text": [
            "       Variable  t-statistic   p-value\n",
            "0  Corppurposes    -3.883181  0.000108\n",
            "1       Workcap     1.768597  0.077163\n",
            "2      CPbackup     2.377585  0.017551\n",
            "3      Takeover     0.518381  0.604269\n",
            "4    Acquisline     1.573436  0.115828\n",
            "5    Realestate    -4.007663  0.000064\n",
            "6  Stockbuyback    -1.400652  0.161524\n",
            "                  t-stat   p-value\n",
            "Corp. purposes -2.535855  0.011577\n",
            "Work. cap.      1.170741  0.242364\n",
            "CP backup       3.765634  0.000190\n",
            "Real estate    -0.980928  0.327190\n",
            "Takeover       -1.449244  0.148012\n",
            "Acquis. line   -0.055602  0.955685\n"
          ]
        }
      ],
      "source": [
        "#T test and cross section comparison NY\n",
        "\n",
        "#T test\n",
        "\n",
        "t_statistic_corppurposes_ny, p_value_corppurposes_ny = stats.ttest_ind(Corppurposes_count_ny, Corppurposes_count_both)\n",
        "t_statistic_workcap_ny, p_value_workcap_ny = stats.ttest_ind(Workcap_count_ny,Workcap_count_both)\n",
        "t_statistic_CPbackup_ny, p_value_CPbackup_ny = stats.ttest_ind(CPbackup_count_ny, CPbackup_count_both)\n",
        "t_statistic_Takeover_ny, p_value_Takeover_ny = stats.ttest_ind(Takeover_count_ny, Takeover_count_both)\n",
        "t_statistic_Acquisline_ny, p_value_Acquisline_ny = stats.ttest_ind(Acquisline_count_ny, Acquisline_count_both)\n",
        "#t_statistic_Debtrepay_ny, p_value_Debtrepay_ny = stats.ttest_ind(Debtrepay_count_ny, Debtrepay_count_both)\n",
        "#t_statistic_Dividendrecap_ny, p_value_Dividendrecap_ny = stats.ttest_ind(Dividendrecap_count_ny, Dividendrecap_count_both)\n",
        "#t_statistic_LBO_ny, p_value_LBO_ny = stats.ttest_ind(LBO_count_ny, LBO_count_both)\n",
        "t_statistic_Realestate_ny, p_value_Realestate_ny = stats.ttest_ind(Realestate_count_ny, Realestate_count_both)\n",
        "t_statistic_Stockbuyback_ny, p_value_Stockbuyback_ny = stats.ttest_ind(Stockbuyback_count_ny, Stockbuyback_count_both)\n",
        "\n",
        "#Cross section\n",
        "\n",
        "crosst_statistic_corppurposes_ny, crossp_value_corppurposes_ny = stats.ttest_ind(Corppurposes_count_mellon, Corppurposes_count_both)\n",
        "crosst_statistic_workcap_ny, crossp_value_workcap_ny = stats.ttest_ind(Workcap_count_mellon,Workcap_count_both)\n",
        "crosst_statistic_CPbackup_ny, crossp_value_CPbackup_ny = stats.ttest_ind(CPbackup_count_mellon, CPbackup_count_both)\n",
        "crosst_statistic_Realestate_ny, crossp_value_Realestate_ny = stats.ttest_ind(Realestate_count_mellon, Realestate_count_both)\n",
        "crosst_statistic_Takeover_ny, crossp_value_Takeover_ny = stats.ttest_ind(Takeover_count_mellon, Takeover_count_both)\n",
        "crosst_statistic_Acquisline_ny, crossp_value_Acquisline_ny = stats.ttest_ind(Acquisline_count_mellon, Acquisline_count_both)\n",
        "#crosst_statistic_Debtrepay_ny, crossp_value_Debtrepay_ny = stats.ttest_ind(Debtrepay_count_mellon, Debtrepay_count_both)\n",
        "#crosst_statistic_Exitfinancing_ny, crossp_value_Exitfinancing_ny = stats.ttest_ind(Exitfinancing_count_mellon, Exitfinancing_count_both)\n",
        "\n",
        "#T_test NY data frame\n",
        "data_ttest_ny = {'Variable': ['Corppurposes', 'Workcap', 'CPbackup', 'Takeover', 'Acquisline', 'Realestate', 'Stockbuyback'],\n",
        "        't-statistic': [t_statistic_corppurposes_ny, t_statistic_workcap_ny, t_statistic_CPbackup_ny,\n",
        "                        t_statistic_Takeover_ny, t_statistic_Acquisline_ny, t_statistic_Realestate_ny,\n",
        "                        t_statistic_Stockbuyback_ny],\n",
        "        'p-value': [p_value_corppurposes_ny, p_value_workcap_ny, p_value_CPbackup_ny, p_value_Takeover_ny,\n",
        "                    p_value_Acquisline_ny, p_value_Realestate_ny, p_value_Stockbuyback_ny]}\n",
        "\n",
        "df_ttest_ny = pd.DataFrame(data_ttest_ny)\n",
        "print(df_ttest_ny)\n",
        "\n",
        "#Cross comparison Mellon data frame\n",
        "\n",
        "data_crosstest_ny = {\n",
        "    'Corp. purposes': [crosst_statistic_corppurposes_ny, crossp_value_corppurposes_ny],\n",
        "    'Work. cap.': [crosst_statistic_workcap_ny, crossp_value_workcap_ny],\n",
        "    'CP backup': [crosst_statistic_CPbackup_ny, crossp_value_CPbackup_ny],\n",
        "    'Real estate': [crosst_statistic_Realestate_ny, crossp_value_Realestate_ny],\n",
        "    'Takeover': [crosst_statistic_Takeover_ny, crossp_value_Takeover_ny],\n",
        "    'Acquis. line': [crosst_statistic_Acquisline_ny, crossp_value_Acquisline_ny]\n",
        "}\n",
        "\n",
        "df_crosstteste_ny = pd.DataFrame.from_dict(data_crosstest_ny, orient='index', columns=['t-stat', 'p-value'])\n",
        "print(df_crosstteste_ny)"
      ]
    },
    {
      "cell_type": "markdown",
      "metadata": {
        "id": "MLteOdDkjk0g"
      },
      "source": [
        "Covenant types before and after the merger"
      ]
    },
    {
      "cell_type": "code",
      "execution_count": 135,
      "metadata": {
        "colab": {
          "base_uri": "https://localhost:8080/",
          "height": 599
        },
        "id": "eTDd89rthWMM",
        "outputId": "f1758cf5-be79-4cdc-b6a1-fa1d9d4b0306"
      },
      "outputs": [
        {
          "name": "stdout",
          "output_type": "stream",
          "text": [
            "Bank of New York covenant types before the merger\n"
          ]
        },
        {
          "data": {
            "text/html": [
              "<div>\n",
              "<style scoped>\n",
              "    .dataframe tbody tr th:only-of-type {\n",
              "        vertical-align: middle;\n",
              "    }\n",
              "\n",
              "    .dataframe tbody tr th {\n",
              "        vertical-align: top;\n",
              "    }\n",
              "\n",
              "    .dataframe thead th {\n",
              "        text-align: right;\n",
              "    }\n",
              "</style>\n",
              "<table border=\"1\" class=\"dataframe\">\n",
              "  <thead>\n",
              "    <tr style=\"text-align: right;\">\n",
              "      <th></th>\n",
              "      <th>CovenantType</th>\n",
              "      <th>Count</th>\n",
              "      <th>Likelihood</th>\n",
              "    </tr>\n",
              "  </thead>\n",
              "  <tbody>\n",
              "    <tr>\n",
              "      <th>1</th>\n",
              "      <td>Max. Debt to EBITDA</td>\n",
              "      <td>415</td>\n",
              "      <td>0.241701</td>\n",
              "    </tr>\n",
              "    <tr>\n",
              "      <th>13</th>\n",
              "      <td>Min. Interest Coverage</td>\n",
              "      <td>393</td>\n",
              "      <td>0.228888</td>\n",
              "    </tr>\n",
              "    <tr>\n",
              "      <th>4</th>\n",
              "      <td>Max. Leverage ratio</td>\n",
              "      <td>326</td>\n",
              "      <td>0.189866</td>\n",
              "    </tr>\n",
              "    <tr>\n",
              "      <th>12</th>\n",
              "      <td>Min. Fixed Charge Coverage</td>\n",
              "      <td>186</td>\n",
              "      <td>0.108328</td>\n",
              "    </tr>\n",
              "    <tr>\n",
              "      <th>15</th>\n",
              "      <td>Net Worth</td>\n",
              "      <td>131</td>\n",
              "      <td>0.076296</td>\n",
              "    </tr>\n",
              "    <tr>\n",
              "      <th>0</th>\n",
              "      <td>Max. Capex</td>\n",
              "      <td>77</td>\n",
              "      <td>0.044846</td>\n",
              "    </tr>\n",
              "    <tr>\n",
              "      <th>6</th>\n",
              "      <td>Max. Senior Debt to EBITDA</td>\n",
              "      <td>66</td>\n",
              "      <td>0.038439</td>\n",
              "    </tr>\n",
              "    <tr>\n",
              "      <th>16</th>\n",
              "      <td>Tangible Net Worth</td>\n",
              "      <td>49</td>\n",
              "      <td>0.028538</td>\n",
              "    </tr>\n",
              "    <tr>\n",
              "      <th>3</th>\n",
              "      <td>Max. Debt to Tangible Net Worth</td>\n",
              "      <td>24</td>\n",
              "      <td>0.013978</td>\n",
              "    </tr>\n",
              "    <tr>\n",
              "      <th>10</th>\n",
              "      <td>Min. Debt Service Coverage</td>\n",
              "      <td>17</td>\n",
              "      <td>0.009901</td>\n",
              "    </tr>\n",
              "    <tr>\n",
              "      <th>7</th>\n",
              "      <td>Max. Senior Leverage</td>\n",
              "      <td>15</td>\n",
              "      <td>0.008736</td>\n",
              "    </tr>\n",
              "    <tr>\n",
              "      <th>11</th>\n",
              "      <td>Min. EBITDA</td>\n",
              "      <td>7</td>\n",
              "      <td>0.004077</td>\n",
              "    </tr>\n",
              "    <tr>\n",
              "      <th>2</th>\n",
              "      <td>Max. Debt to Equity</td>\n",
              "      <td>4</td>\n",
              "      <td>0.002330</td>\n",
              "    </tr>\n",
              "    <tr>\n",
              "      <th>8</th>\n",
              "      <td>Min. Cash Interest Coverage</td>\n",
              "      <td>4</td>\n",
              "      <td>0.002330</td>\n",
              "    </tr>\n",
              "    <tr>\n",
              "      <th>9</th>\n",
              "      <td>Min. Current Ratio</td>\n",
              "      <td>1</td>\n",
              "      <td>0.000582</td>\n",
              "    </tr>\n",
              "    <tr>\n",
              "      <th>5</th>\n",
              "      <td>Max. Loan to Value</td>\n",
              "      <td>1</td>\n",
              "      <td>0.000582</td>\n",
              "    </tr>\n",
              "    <tr>\n",
              "      <th>14</th>\n",
              "      <td>Min. Quick Ratio</td>\n",
              "      <td>1</td>\n",
              "      <td>0.000582</td>\n",
              "    </tr>\n",
              "  </tbody>\n",
              "</table>\n",
              "</div>"
            ],
            "text/plain": [
              "                       CovenantType  Count  Likelihood\n",
              "1               Max. Debt to EBITDA    415    0.241701\n",
              "13           Min. Interest Coverage    393    0.228888\n",
              "4               Max. Leverage ratio    326    0.189866\n",
              "12       Min. Fixed Charge Coverage    186    0.108328\n",
              "15                        Net Worth    131    0.076296\n",
              "0                        Max. Capex     77    0.044846\n",
              "6        Max. Senior Debt to EBITDA     66    0.038439\n",
              "16               Tangible Net Worth     49    0.028538\n",
              "3   Max. Debt to Tangible Net Worth     24    0.013978\n",
              "10       Min. Debt Service Coverage     17    0.009901\n",
              "7              Max. Senior Leverage     15    0.008736\n",
              "11                      Min. EBITDA      7    0.004077\n",
              "2               Max. Debt to Equity      4    0.002330\n",
              "8       Min. Cash Interest Coverage      4    0.002330\n",
              "9                Min. Current Ratio      1    0.000582\n",
              "5                Max. Loan to Value      1    0.000582\n",
              "14                 Min. Quick Ratio      1    0.000582"
            ]
          },
          "execution_count": 135,
          "metadata": {},
          "output_type": "execute_result"
        }
      ],
      "source": [
        "#Get the ratio of covenant types:\n",
        "\n",
        "#Before for NY\n",
        "print( \"Bank of New York covenant types before the merger\")\n",
        "ny_covtype_descriptive = NY_packages_3y_before_merger['CovenantType'].str.split(',').explode().value_counts()\n",
        "ny_covtype_descriptive = ny_covtype_descriptive.head(30)\n",
        "ny_covtype_descriptive = pd.DataFrame(ny_covtype_descriptive)\n",
        "ny_covtype_descriptive = ny_covtype_descriptive.rename(columns={0: \"cov type\"})\n",
        "ny_covtype_descriptive = ny_covtype_descriptive.reset_index()\n",
        "ny_covtype_descriptive.columns = ['CovenantType', 'Count']\n",
        "ny_covtype_descriptive['CovenantType'] = ny_covtype_descriptive['CovenantType'].str.strip()\n",
        "ny_covtype_descriptive = ny_covtype_descriptive.groupby('CovenantType').sum().reset_index()\n",
        "ny_covtype_descriptive = ny_covtype_descriptive.sort_values(by='Count', ascending=False)\n",
        "ny_covtype_descriptive\n",
        "ny_covtype_descriptive['Likelihood'] = ny_covtype_descriptive[\"Count\"] / NY_packages_3y_before_merger['CovenantType'].str.split(',').explode().value_counts().sum()\n",
        "ny_covtype_descriptive\n"
      ]
    },
    {
      "cell_type": "code",
      "execution_count": 136,
      "metadata": {
        "id": "dzRVgxUjfIYl"
      },
      "outputs": [],
      "source": [
        "maxdebtebitda_count_ny = np.where(NY_packages_3y_before_merger[\"CovenantType\"] == \"Max. Debt to EBITDA\", 1, 0)\n",
        "mininterestcoverage_count_ny = np.where(NY_packages_3y_before_merger[\"CovenantType\"] == \"Min. Interest Coverage\", 1, 0)\n",
        "maxleverageratio_count_ny = np.where(NY_packages_3y_before_merger[\"CovenantType\"] == \"Max. Leverage ratio\", 1, 0)\n",
        "minfixedchangecov_count_ny = np.where(NY_packages_3y_before_merger[\"CovenantType\"] == \"Min. Fixed Charge Coverage\", 1, 0)\n",
        "networth_count_ny = np.where(NY_packages_3y_before_merger[\"CovenantType\"] == \"Net Worth\", 1, 0)\n",
        "maxcapex_count_ny = np.where(NY_packages_3y_before_merger[\"CovenantType\"] == \"Max. Capex\", 1, 0)\n",
        "maxseniordebtebitda_count_ny = np.where(NY_packages_3y_before_merger[\"CovenantType\"] == \"Max. Senior Debt to EBITDA\", 1, 0)\n",
        "tangiblenetworth_count_ny = np.where(NY_packages_3y_before_merger[\"CovenantType\"] == \"Tangible Net Worth\", 1, 0)\n",
        "maxdebttotangiblenetworth_count_ny = np.where(NY_packages_3y_before_merger[\"CovenantType\"] == \"Max. Debt to Tangible Net Worth\", 1, 0)\n",
        "mindebtservicecov_count_ny = np.where(NY_packages_3y_before_merger[\"CovenantType\"] == \"Min. Debt Service Coverage\", 1, 0)"
      ]
    },
    {
      "cell_type": "code",
      "execution_count": 137,
      "metadata": {
        "colab": {
          "base_uri": "https://localhost:8080/",
          "height": 505
        },
        "id": "hwuL3euve5Su",
        "outputId": "1ebd07e1-26f2-4864-9f7e-62db41116b4f"
      },
      "outputs": [
        {
          "name": "stdout",
          "output_type": "stream",
          "text": [
            "Mellon covenant types before the merger\n"
          ]
        },
        {
          "data": {
            "text/html": [
              "<div>\n",
              "<style scoped>\n",
              "    .dataframe tbody tr th:only-of-type {\n",
              "        vertical-align: middle;\n",
              "    }\n",
              "\n",
              "    .dataframe tbody tr th {\n",
              "        vertical-align: top;\n",
              "    }\n",
              "\n",
              "    .dataframe thead th {\n",
              "        text-align: right;\n",
              "    }\n",
              "</style>\n",
              "<table border=\"1\" class=\"dataframe\">\n",
              "  <thead>\n",
              "    <tr style=\"text-align: right;\">\n",
              "      <th></th>\n",
              "      <th>CovenantType</th>\n",
              "      <th>Count</th>\n",
              "      <th>Likelihood</th>\n",
              "    </tr>\n",
              "  </thead>\n",
              "  <tbody>\n",
              "    <tr>\n",
              "      <th>3</th>\n",
              "      <td>Max. Leverage ratio</td>\n",
              "      <td>92</td>\n",
              "      <td>0.322807</td>\n",
              "    </tr>\n",
              "    <tr>\n",
              "      <th>10</th>\n",
              "      <td>Min. Interest Coverage</td>\n",
              "      <td>58</td>\n",
              "      <td>0.203509</td>\n",
              "    </tr>\n",
              "    <tr>\n",
              "      <th>12</th>\n",
              "      <td>Net Worth</td>\n",
              "      <td>37</td>\n",
              "      <td>0.129825</td>\n",
              "    </tr>\n",
              "    <tr>\n",
              "      <th>1</th>\n",
              "      <td>Max. Debt to EBITDA</td>\n",
              "      <td>35</td>\n",
              "      <td>0.122807</td>\n",
              "    </tr>\n",
              "    <tr>\n",
              "      <th>9</th>\n",
              "      <td>Min. Fixed Charge Coverage</td>\n",
              "      <td>29</td>\n",
              "      <td>0.101754</td>\n",
              "    </tr>\n",
              "    <tr>\n",
              "      <th>13</th>\n",
              "      <td>Tangible Net Worth</td>\n",
              "      <td>9</td>\n",
              "      <td>0.031579</td>\n",
              "    </tr>\n",
              "    <tr>\n",
              "      <th>2</th>\n",
              "      <td>Max. Debt to Tangible Net Worth</td>\n",
              "      <td>8</td>\n",
              "      <td>0.028070</td>\n",
              "    </tr>\n",
              "    <tr>\n",
              "      <th>0</th>\n",
              "      <td>Max. Capex</td>\n",
              "      <td>5</td>\n",
              "      <td>0.017544</td>\n",
              "    </tr>\n",
              "    <tr>\n",
              "      <th>6</th>\n",
              "      <td>Max. Senior Leverage</td>\n",
              "      <td>5</td>\n",
              "      <td>0.017544</td>\n",
              "    </tr>\n",
              "    <tr>\n",
              "      <th>7</th>\n",
              "      <td>Min. Debt Service Coverage</td>\n",
              "      <td>3</td>\n",
              "      <td>0.010526</td>\n",
              "    </tr>\n",
              "    <tr>\n",
              "      <th>4</th>\n",
              "      <td>Max. Loan to Value</td>\n",
              "      <td>1</td>\n",
              "      <td>0.003509</td>\n",
              "    </tr>\n",
              "    <tr>\n",
              "      <th>5</th>\n",
              "      <td>Max. Senior Debt to EBITDA</td>\n",
              "      <td>1</td>\n",
              "      <td>0.003509</td>\n",
              "    </tr>\n",
              "    <tr>\n",
              "      <th>8</th>\n",
              "      <td>Min. EBITDA</td>\n",
              "      <td>1</td>\n",
              "      <td>0.003509</td>\n",
              "    </tr>\n",
              "    <tr>\n",
              "      <th>11</th>\n",
              "      <td>Min. Quick Ratio</td>\n",
              "      <td>1</td>\n",
              "      <td>0.003509</td>\n",
              "    </tr>\n",
              "  </tbody>\n",
              "</table>\n",
              "</div>"
            ],
            "text/plain": [
              "                       CovenantType  Count  Likelihood\n",
              "3               Max. Leverage ratio     92    0.322807\n",
              "10           Min. Interest Coverage     58    0.203509\n",
              "12                        Net Worth     37    0.129825\n",
              "1               Max. Debt to EBITDA     35    0.122807\n",
              "9        Min. Fixed Charge Coverage     29    0.101754\n",
              "13               Tangible Net Worth      9    0.031579\n",
              "2   Max. Debt to Tangible Net Worth      8    0.028070\n",
              "0                        Max. Capex      5    0.017544\n",
              "6              Max. Senior Leverage      5    0.017544\n",
              "7        Min. Debt Service Coverage      3    0.010526\n",
              "4                Max. Loan to Value      1    0.003509\n",
              "5        Max. Senior Debt to EBITDA      1    0.003509\n",
              "8                       Min. EBITDA      1    0.003509\n",
              "11                 Min. Quick Ratio      1    0.003509"
            ]
          },
          "execution_count": 137,
          "metadata": {},
          "output_type": "execute_result"
        }
      ],
      "source": [
        "#Before for Mellon\n",
        "print( \"Mellon covenant types before the merger\")\n",
        "mellon_covtype_descriptive = Mellon_packages_3y_before_merger['CovenantType'].str.split(',').explode().value_counts()\n",
        "mellon_covtype_descriptive = mellon_covtype_descriptive.head(30)\n",
        "mellon_covtype_descriptive = pd.DataFrame(mellon_covtype_descriptive)\n",
        "mellon_covtype_descriptive = mellon_covtype_descriptive.rename(columns={0: \"cov type\"})\n",
        "mellon_covtype_descriptive = mellon_covtype_descriptive.reset_index()\n",
        "mellon_covtype_descriptive.columns = ['CovenantType', 'Count']\n",
        "mellon_covtype_descriptive['CovenantType'] = mellon_covtype_descriptive['CovenantType'].str.strip()\n",
        "mellon_covtype_descriptive = mellon_covtype_descriptive.groupby('CovenantType').sum().reset_index()\n",
        "mellon_covtype_descriptive = mellon_covtype_descriptive.sort_values(by='Count', ascending=False)\n",
        "mellon_covtype_descriptive\n",
        "mellon_covtype_descriptive['Likelihood'] = mellon_covtype_descriptive[\"Count\"] / Mellon_packages_3y_before_merger['CovenantType'].str.split(',').explode().value_counts().sum()\n",
        "mellon_covtype_descriptive"
      ]
    },
    {
      "cell_type": "code",
      "execution_count": 138,
      "metadata": {
        "id": "w1hgeBifg7Ht"
      },
      "outputs": [],
      "source": [
        "maxleverageratio_count_mellon = np.where(Mellon_packages_3y_before_merger[\"CovenantType\"] == \"Max. Leverage ratio\", 1, 0)\n",
        "mininterestcoverage_count_mellon = np.where(Mellon_packages_3y_before_merger[\"CovenantType\"] == \"Min. Interest Coverage\", 1, 0)\n",
        "networth_count_mellon = np.where(Mellon_packages_3y_before_merger[\"CovenantType\"] == \"Net Worth\", 1, 0)\n",
        "maxdebtedbitda_count_mellon = np.where(Mellon_packages_3y_before_merger[\"CovenantType\"] == \"Max. Debt to EBITDA\", 1, 0)\n",
        "minfixedchangecov_count_mellon = np.where(Mellon_packages_3y_before_merger[\"CovenantType\"] == \"Min. Fixed Charge Coverage\", 1, 0)\n",
        "tangiblenetworth_count_mellon = np.where(Mellon_packages_3y_before_merger[\"CovenantType\"] == \"Tangible Net Worth\", 1, 0)\n",
        "maxdebttotangiblenetworth_count_mellon = np.where(Mellon_packages_3y_before_merger[\"CovenantType\"] == \"Max. Debt to Tangible Net Worth\", 1, 0)\n",
        "maxcapex_count_mellon = np.where(Mellon_packages_3y_before_merger[\"CovenantType\"] == \"Max. Capex\", 1, 0)\n",
        "maxseniorleverage_count_mellon = np.where(Mellon_packages_3y_before_merger[\"CovenantType\"] == \"Max. Senior Leverage\", 1, 0)\n",
        "mindebtservicecov_count_mellon = np.where(Mellon_packages_3y_before_merger[\"CovenantType\"] == \"Min. Debt Service Coverage\", 1, 0)"
      ]
    },
    {
      "cell_type": "code",
      "execution_count": 139,
      "metadata": {
        "colab": {
          "base_uri": "https://localhost:8080/",
          "height": 411
        },
        "id": "5-G7LBRj-1NN",
        "outputId": "4cec328a-b3fb-46ae-c960-5f42a1ad55f7"
      },
      "outputs": [
        {
          "name": "stdout",
          "output_type": "stream",
          "text": [
            "Both covenant types after the merger\n"
          ]
        },
        {
          "data": {
            "text/html": [
              "<div>\n",
              "<style scoped>\n",
              "    .dataframe tbody tr th:only-of-type {\n",
              "        vertical-align: middle;\n",
              "    }\n",
              "\n",
              "    .dataframe tbody tr th {\n",
              "        vertical-align: top;\n",
              "    }\n",
              "\n",
              "    .dataframe thead th {\n",
              "        text-align: right;\n",
              "    }\n",
              "</style>\n",
              "<table border=\"1\" class=\"dataframe\">\n",
              "  <thead>\n",
              "    <tr style=\"text-align: right;\">\n",
              "      <th></th>\n",
              "      <th>CovenantType</th>\n",
              "      <th>Count</th>\n",
              "      <th>Likelihood</th>\n",
              "    </tr>\n",
              "  </thead>\n",
              "  <tbody>\n",
              "    <tr>\n",
              "      <th>3</th>\n",
              "      <td>Max. Leverage ratio</td>\n",
              "      <td>25</td>\n",
              "      <td>0.240385</td>\n",
              "    </tr>\n",
              "    <tr>\n",
              "      <th>1</th>\n",
              "      <td>Max. Debt to EBITDA</td>\n",
              "      <td>21</td>\n",
              "      <td>0.201923</td>\n",
              "    </tr>\n",
              "    <tr>\n",
              "      <th>8</th>\n",
              "      <td>Min. Interest Coverage</td>\n",
              "      <td>17</td>\n",
              "      <td>0.163462</td>\n",
              "    </tr>\n",
              "    <tr>\n",
              "      <th>7</th>\n",
              "      <td>Min. Fixed Charge Coverage</td>\n",
              "      <td>15</td>\n",
              "      <td>0.144231</td>\n",
              "    </tr>\n",
              "    <tr>\n",
              "      <th>9</th>\n",
              "      <td>Net Worth</td>\n",
              "      <td>9</td>\n",
              "      <td>0.086538</td>\n",
              "    </tr>\n",
              "    <tr>\n",
              "      <th>0</th>\n",
              "      <td>Max. Capex</td>\n",
              "      <td>4</td>\n",
              "      <td>0.038462</td>\n",
              "    </tr>\n",
              "    <tr>\n",
              "      <th>4</th>\n",
              "      <td>Max. Senior Debt to EBITDA</td>\n",
              "      <td>4</td>\n",
              "      <td>0.038462</td>\n",
              "    </tr>\n",
              "    <tr>\n",
              "      <th>5</th>\n",
              "      <td>Min. Debt Service Coverage</td>\n",
              "      <td>3</td>\n",
              "      <td>0.028846</td>\n",
              "    </tr>\n",
              "    <tr>\n",
              "      <th>10</th>\n",
              "      <td>Tangible Net Worth</td>\n",
              "      <td>3</td>\n",
              "      <td>0.028846</td>\n",
              "    </tr>\n",
              "    <tr>\n",
              "      <th>6</th>\n",
              "      <td>Min. EBITDA</td>\n",
              "      <td>2</td>\n",
              "      <td>0.019231</td>\n",
              "    </tr>\n",
              "    <tr>\n",
              "      <th>2</th>\n",
              "      <td>Max. Debt to Tangible Net Worth</td>\n",
              "      <td>1</td>\n",
              "      <td>0.009615</td>\n",
              "    </tr>\n",
              "  </tbody>\n",
              "</table>\n",
              "</div>"
            ],
            "text/plain": [
              "                       CovenantType  Count  Likelihood\n",
              "3               Max. Leverage ratio     25    0.240385\n",
              "1               Max. Debt to EBITDA     21    0.201923\n",
              "8            Min. Interest Coverage     17    0.163462\n",
              "7        Min. Fixed Charge Coverage     15    0.144231\n",
              "9                         Net Worth      9    0.086538\n",
              "0                        Max. Capex      4    0.038462\n",
              "4        Max. Senior Debt to EBITDA      4    0.038462\n",
              "5        Min. Debt Service Coverage      3    0.028846\n",
              "10               Tangible Net Worth      3    0.028846\n",
              "6                       Min. EBITDA      2    0.019231\n",
              "2   Max. Debt to Tangible Net Worth      1    0.009615"
            ]
          },
          "execution_count": 139,
          "metadata": {},
          "output_type": "execute_result"
        }
      ],
      "source": [
        "#After for both\n",
        "print( \"Both covenant types after the merger\")\n",
        "both_covtype_descriptive = both_packages_3y_after_merger['CovenantType'].str.split(',').explode().value_counts()\n",
        "both_covtype_descriptive = both_covtype_descriptive.head(30)\n",
        "both_covtype_descriptive = pd.DataFrame(both_covtype_descriptive)\n",
        "both_covtype_descriptive = both_covtype_descriptive.rename(columns={0: \"cov type\"})\n",
        "both_covtype_descriptive = both_covtype_descriptive.reset_index()\n",
        "both_covtype_descriptive.columns = ['CovenantType', 'Count']\n",
        "both_covtype_descriptive['CovenantType'] = both_covtype_descriptive['CovenantType'].str.strip()\n",
        "both_covtype_descriptive = both_covtype_descriptive.groupby('CovenantType').sum().reset_index()\n",
        "both_covtype_descriptive = both_covtype_descriptive.sort_values(by='Count', ascending=False)\n",
        "both_covtype_descriptive\n",
        "both_covtype_descriptive['Likelihood'] = both_covtype_descriptive[\"Count\"] / both_packages_3y_after_merger['CovenantType'].str.split(',').explode().value_counts().sum()\n",
        "both_covtype_descriptive"
      ]
    },
    {
      "cell_type": "code",
      "execution_count": 140,
      "metadata": {
        "id": "TDjHskH4iEJx"
      },
      "outputs": [],
      "source": [
        "maxleverageratio_count_both = np.where(both_packages_3y_after_merger[\"CovenantType\"] == \"Max. Leverage ratio\", 1, 0)\n",
        "maxdebtedbitda_count_both = np.where(both_packages_3y_after_merger[\"CovenantType\"] == \"Max. Debt to EBITDA\", 1, 0)\n",
        "mininterestcoverage_count_both = np.where(both_packages_3y_after_merger[\"CovenantType\"] == \"Min. Interest Coverage\", 1, 0)\n",
        "minfixedchangecov_count_both = np.where(both_packages_3y_after_merger[\"CovenantType\"] == \"Min. Fixed Charge Coverage\", 1, 0)\n",
        "networth_count_both = np.where(both_packages_3y_after_merger[\"CovenantType\"] == \"Net Worth\", 1, 0)\n",
        "maxcapex_count_both = np.where(both_packages_3y_after_merger[\"CovenantType\"] == \"Max. Capex\", 1, 0)\n",
        "maxseniordebtebitda_count_both = np.where(both_packages_3y_after_merger[\"CovenantType\"] == \"Max. Senior Debt to EBITDA\", 1, 0)\n",
        "mindebtservicecov_count_both = np.where(both_packages_3y_after_merger[\"CovenantType\"] == \"Min. Debt Service Coverage\", 1, 0)\n",
        "tangiblenetworth_count_both = np.where(both_packages_3y_after_merger[\"CovenantType\"] == \"Tangible Net Worth\", 1, 0)\n",
        "minEBITDA_count_both = np.where(both_packages_3y_after_merger[\"CovenantType\"] == \"Min. EBITDA\", 1, 0)"
      ]
    },
    {
      "cell_type": "code",
      "execution_count": 141,
      "metadata": {
        "colab": {
          "base_uri": "https://localhost:8080/"
        },
        "id": "n8_aIRvajMSL",
        "outputId": "69fd77c7-dd8f-4f5d-d647-29758d87c616"
      },
      "outputs": [
        {
          "name": "stdout",
          "output_type": "stream",
          "text": [
            "   t_statistic   p_value             variable location\n",
            "0    -0.084334  0.932802        maxdebtebitda       NY\n",
            "1     0.224844  0.822131  mininterestcoverage       NY\n",
            "2     1.107218  0.268376     maxleverageratio       NY\n",
            "3    -1.382517  0.167018    minfixedchangecov       NY\n",
            "4     0.166066  0.868127             networth       NY\n",
            "5          NaN       NaN             maxcapex       NY\n",
            "6     0.313246  0.754137  maxseniordebtebitda       NY\n",
            "7     1.042721  0.297245     tangiblenetworth       NY\n",
            "8          NaN       NaN    mindebtservicecov       NY\n"
          ]
        },
        {
          "data": {
            "text/plain": [
              "array([0])"
            ]
          },
          "execution_count": 141,
          "metadata": {},
          "output_type": "execute_result"
        }
      ],
      "source": [
        "#T test and cross comparison\n",
        "\n",
        "#T test\n",
        "\n",
        "t_statistic_maxdebtebitda_ny, p_value_maxdebtebitda_ny = stats.ttest_ind(maxdebtebitda_count_ny, maxdebtedbitda_count_both)\n",
        "t_statistic_mininterestcoverage_ny, p_value_mininterestcoverage_ny = stats.ttest_ind(mininterestcoverage_count_ny, mininterestcoverage_count_both)\n",
        "t_statistic_maxleverageratio_ny, p_value_maxleverageratio_ny = stats.ttest_ind(maxleverageratio_count_ny, maxleverageratio_count_both)\n",
        "t_statistic_minfixedchangecov_ny, p_value_minfixedchangecov_ny = stats.ttest_ind(minfixedchangecov_count_ny, minfixedchangecov_count_both)\n",
        "t_statistic_networth_ny, p_value_networth_ny = stats.ttest_ind(networth_count_ny, networth_count_both)\n",
        "t_statistic_maxcapex_ny, p_value_maxcapex_ny = stats.ttest_ind(maxcapex_count_ny, maxcapex_count_both)\n",
        "t_statistic_maxseniordebtebitda_ny, p_value_maxseniordebtebitda_ny = stats.ttest_ind(maxseniordebtebitda_count_ny, maxseniordebtebitda_count_both)\n",
        "t_statistic_tangiblenetworth_ny, p_tangiblenetworth_ny = stats.ttest_ind(tangiblenetworth_count_ny, tangiblenetworth_count_both)\n",
        "#t_statistic_maxdebttotangiblenetworth_ny, p_value_maxdebttotangiblenetworth_ny = stats.ttest_ind(maxdebttotangiblenetworth_count_ny, maxdebttotangiblenetworth_count_both)\n",
        "t_statistic_mindebtservicecov_ny, p_value_mindebtservicecov_ny = stats.ttest_ind(mindebtservicecov_count_ny, mindebtservicecov_count_both)\n",
        "\n",
        "# create a dictionary with the t statistics and p values\n",
        "data = {'t_statistic': [t_statistic_maxdebtebitda_ny, t_statistic_mininterestcoverage_ny, t_statistic_maxleverageratio_ny, t_statistic_minfixedchangecov_ny, t_statistic_networth_ny, t_statistic_maxcapex_ny, t_statistic_maxseniordebtebitda_ny, t_statistic_tangiblenetworth_ny, t_statistic_mindebtservicecov_ny],\n",
        "        'p_value': [p_value_maxdebtebitda_ny, p_value_mininterestcoverage_ny, p_value_maxleverageratio_ny, p_value_minfixedchangecov_ny, p_value_networth_ny, p_value_maxcapex_ny, p_value_maxseniordebtebitda_ny, p_tangiblenetworth_ny, p_value_mindebtservicecov_ny],\n",
        "        'variable': ['maxdebtebitda', 'mininterestcoverage', 'maxleverageratio', 'minfixedchangecov', 'networth', 'maxcapex', 'maxseniordebtebitda', 'tangiblenetworth', 'mindebtservicecov'],\n",
        "        'location': ['NY']*9}\n",
        "\n",
        "# create a data frame\n",
        "df = pd.DataFrame(data)\n",
        "\n",
        "print(df)\n",
        "#Cross comparison\n",
        "\n",
        "crosst_statistic_maxleverageratio_mellon, crossp_value_maxleverageratio_mellon = stats.ttest_ind(maxleverageratio_count_mellon, maxleverageratio_count_both)\n",
        "crosst_statistic_mininterestcoverage_mellon, crossp_value_mininterestcoverage_mellon = stats.ttest_ind(mininterestcoverage_count_mellon, mininterestcoverage_count_both)\n",
        "crosst_statistic_networth_mellon, crossp_value_networth_mellon = stats.ttest_ind(networth_count_mellon, networth_count_both)\n",
        "crosst_statistic_maxdebtedbitda_mellon, crossp_value_maxdebtedbitda_mellon = stats.ttest_ind(maxdebtedbitda_count_mellon, maxdebtedbitda_count_both)\n",
        "crosst_statistic_minfixedchangecov_mellon, crossp_value_minfixedchangecov_mellon = stats.ttest_ind(minfixedchangecov_count_mellon, minfixedchangecov_count_both)\n",
        "crosst_statistic_tangiblenetworth_mellon, crossp_value_tangiblenetworth_mellon = stats.ttest_ind(tangiblenetworth_count_mellon, tangiblenetworth_count_both)\n",
        "#crosst_statistic_maxdebttotangiblenetworth_mellon, crossp_value_maxdebttotangiblenetworth_mellon = stats.ttest_ind(maxdebttotangiblenetworth_count_mellon, maxdebttotangiblenetworth_count_both)\n",
        "crosst_statistic_maxcapex_mellon, crossp_value_maxcapex_mellon = stats.ttest_ind(maxcapex_count_mellon, maxcapex_count_both)\n",
        "#crosst_statistic_maxseniorleverage_mellon, crossp_value_maxseniorleverage_mellon = stats.ttest_ind(maxseniorleverage_count_mellon, maxseniorleverage_count_both)\n",
        "crosst_statistic_mindebtservicecov_mellon, crossp_value_mindebtservicecov_mellon = stats.ttest_ind(mindebtservicecov_count_mellon, mindebtservicecov_count_both)\n",
        "\n",
        "np.unique(maxcapex_count_mellon)\n",
        "np.unique(maxcapex_count_both)"
      ]
    },
    {
      "cell_type": "code",
      "execution_count": 142,
      "metadata": {
        "colab": {
          "base_uri": "https://localhost:8080/"
        },
        "id": "7GzewDQvnpel",
        "outputId": "f8f2d397-b35c-406a-d627-847b222fafd1"
      },
      "outputs": [
        {
          "name": "stdout",
          "output_type": "stream",
          "text": [
            "              Variable    t_stat   p_value\n",
            "0       maxdebtedbitda -0.112414  0.910548\n",
            "1  mininterestcoverage  1.933135  0.053888\n",
            "2     maxleverageratio  1.940738  0.052956\n",
            "3    minfixedchangecov -1.359476  0.174722\n",
            "4             networth  0.812050  0.417220\n",
            "5             maxcapex       NaN       NaN\n",
            "6     tangiblenetworth       NaN       NaN\n",
            "7    mindebtservicecov       NaN       NaN\n"
          ]
        }
      ],
      "source": [
        "data2 = {'Variable': ['maxdebtedbitda', 'mininterestcoverage', 'maxleverageratio', 'minfixedchangecov', 'networth', 'maxcapex', 'tangiblenetworth', 'mindebtservicecov'],\n",
        "         't_stat': [crosst_statistic_maxdebtedbitda_mellon, crosst_statistic_mininterestcoverage_mellon, crosst_statistic_maxleverageratio_mellon, crosst_statistic_minfixedchangecov_mellon, crosst_statistic_networth_mellon, crosst_statistic_maxcapex_mellon, crosst_statistic_tangiblenetworth_mellon, crosst_statistic_mindebtservicecov_mellon],\n",
        "         'p_value': [crossp_value_maxdebtedbitda_mellon, crossp_value_mininterestcoverage_mellon, crossp_value_maxleverageratio_mellon, crossp_value_minfixedchangecov_mellon, crossp_value_networth_mellon, crossp_value_maxcapex_mellon, crossp_value_tangiblenetworth_mellon, crossp_value_mindebtservicecov_mellon]}\n",
        "df2 = pd.DataFrame(data2)\n",
        "print(df2)"
      ]
    },
    {
      "cell_type": "markdown",
      "metadata": {
        "id": "T1Q-adTemf_R"
      },
      "source": [
        "Deal amount before and after"
      ]
    },
    {
      "cell_type": "code",
      "execution_count": 143,
      "metadata": {
        "colab": {
          "base_uri": "https://localhost:8080/"
        },
        "id": "BNfPR6Mj-QRk",
        "outputId": "9c9e0ccd-c6c7-403f-cf2d-5df86a56de05"
      },
      "outputs": [
        {
          "data": {
            "text/plain": [
              "95248     4.500000e+09\n",
              "95796     2.250000e+08\n",
              "96136     6.000000e+08\n",
              "96406     7.500000e+08\n",
              "96411     1.747500e+09\n",
              "              ...     \n",
              "129535    1.250000e+08\n",
              "133504    7.500000e+07\n",
              "133748    5.000000e+08\n",
              "136665    1.250000e+08\n",
              "154701    3.000000e+08\n",
              "Name: DEALAMOUNT, Length: 1375, dtype: float64"
            ]
          },
          "execution_count": 143,
          "metadata": {},
          "output_type": "execute_result"
        }
      ],
      "source": [
        "NY_packages_3y_before_merger['DEALAMOUNT']"
      ]
    },
    {
      "cell_type": "code",
      "execution_count": 144,
      "metadata": {
        "colab": {
          "base_uri": "https://localhost:8080/"
        },
        "id": "yfByaay4meam",
        "outputId": "d2cfc60b-bde8-4ba7-e030-274e9deeec9f"
      },
      "outputs": [
        {
          "name": "stdout",
          "output_type": "stream",
          "text": [
            "Descriptive statistics of BNY's deals amount before the merger \n",
            "969438157.9470255\n",
            "500000000.0\n",
            "1648228142.1904078\n"
          ]
        }
      ],
      "source": [
        "#Before NY\n",
        "\n",
        "print(\"Descriptive statistics of BNY's deals amount before the merger \")\n",
        "mean_ny = NY_packages_3y_before_merger['DEALAMOUNT'].mean()\n",
        "median_ny =NY_packages_3y_before_merger['DEALAMOUNT'].median()\n",
        "SD_ny = NY_packages_3y_before_merger['DEALAMOUNT'].std()\n",
        "\n",
        "print(mean_ny)\n",
        "print(median_ny)\n",
        "print(SD_ny)"
      ]
    },
    {
      "cell_type": "code",
      "execution_count": 145,
      "metadata": {
        "colab": {
          "base_uri": "https://localhost:8080/"
        },
        "id": "u4JkgY6DZvqF",
        "outputId": "6cfddf86-5c76-4d5e-c0b8-bad1c6b1ab91"
      },
      "outputs": [
        {
          "name": "stdout",
          "output_type": "stream",
          "text": [
            "Empty DataFrame\n",
            "Columns: [BORROWERCOMPANYID, PACKAGEID, TICKER, ACTIVE, AGENTCONSENT, ASSETSALESSWEEP, ASSIGNMENTFEE, ASSIGNMENTMIN, ASSIGNMENTRESTRICTIONS, COLLATERALRELEASE, COMPANY, COMPANYCONSENT, COMMENT, CURRENCY, DEALACTIVEDATE, DEALAMOUNT, DEALPURPOSE, DEALSTATUS, DEBTISSUANCESWEEP, DEFAULTBASERATE, DIVIDENDRESTRICTIONS, EQUITYISSUANCESWEEP, EXCESSCFSWEEP, EXCHANGERATE, HYBRID, INSURANCEPROCEEDSSWEEP, PERCENTAGEOFEXCESSCF, PERCENTAGEOFNETINCOME, PRORATAALLOCATION, PROJECTFINANCETYPE, REFINANCINGINDICATOR, REQUIREDLENDERS, SALESATCLOSE, SPREADOVERDEFAULTBASE, TERMCHANGES, PackageID, CovenantType]\n",
            "Index: []\n",
            "\n",
            "[0 rows x 37 columns]\n"
          ]
        }
      ],
      "source": [
        "df_corporate = NY_packages_3y_before_merger[NY_packages_3y_before_merger['DEALPURPOSE'] == 'Corp. Purposes']\n",
        "print(df_corporate)\n",
        "# Sort the filtered data by deal amount\n",
        "#df_sorted = df_corporate.sort_values(by='DEALAMOUNT')\n",
        "\n",
        "# Print the filtered and sorted DataFrame\n",
        "#print(df_sorted)\n",
        "\n",
        "# Calculate the mean of the deal amounts\n",
        "#mean_deal_amount = df_sorted['DEALAMOUNT'].mean()\n",
        "\n",
        "# Print the mean deal amount\n",
        "#print(mean_deal_amount)"
      ]
    },
    {
      "cell_type": "code",
      "execution_count": 146,
      "metadata": {
        "id": "DnYs_i5QcDn8"
      },
      "outputs": [],
      "source": [
        "Corppurposes_count_mellon = np.where(Mellon_packages_3y_before_merger[\"DEALPURPOSE\"] == \"Corp. purposes\", 1, 0)"
      ]
    },
    {
      "cell_type": "code",
      "execution_count": 147,
      "metadata": {
        "colab": {
          "base_uri": "https://localhost:8080/"
        },
        "id": "h1m3idcRcRbw",
        "outputId": "46477ad7-700f-4317-a1ad-d512d0b272ad"
      },
      "outputs": [
        {
          "name": "stdout",
          "output_type": "stream",
          "text": [
            "97074     3.000000e+09\n",
            "97204     2.500000e+09\n",
            "97704     3.400000e+09\n",
            "97845     9.000000e+08\n",
            "98105     6.500000e+08\n",
            "              ...     \n",
            "128469    5.000000e+08\n",
            "128472    2.250000e+08\n",
            "128642    6.250000e+08\n",
            "128851    2.200000e+09\n",
            "129071    7.000000e+07\n",
            "Name: DEALAMOUNT, Length: 171, dtype: float64\n",
            "917070383.2808772\n"
          ]
        }
      ],
      "source": [
        "is_corp_purposes = Mellon_packages_3y_before_merger['DEALPURPOSE'] == 'Corp. purposes'\n",
        "\n",
        "# Use the boolean mask to select the deal amounts for rows where DEALPURPOSE is \"Corp. purposes\"\n",
        "corp_purposes_deal_amounts = Mellon_packages_3y_before_merger.loc[is_corp_purposes, 'DEALAMOUNT']\n",
        "\n",
        "# Print the deal amounts for rows where DEALPURPOSE is \"Corp. purposes\"\n",
        "print(corp_purposes_deal_amounts)\n",
        "mean = corp_purposes_deal_amounts.mean()\n",
        "print(mean)"
      ]
    },
    {
      "cell_type": "code",
      "execution_count": 148,
      "metadata": {
        "colab": {
          "base_uri": "https://localhost:8080/"
        },
        "id": "cWC1KAfndJY7",
        "outputId": "74a32107-1745-41ff-a501-fe4ca4b41d99"
      },
      "outputs": [
        {
          "name": "stdout",
          "output_type": "stream",
          "text": [
            "844533235.99348\n"
          ]
        }
      ],
      "source": [
        "is_corp_purposes_NY = NY_packages_3y_before_merger['DEALPURPOSE'] == 'Corp. purposes'\n",
        "\n",
        "# Use the boolean mask to select the deal amounts for rows where DEALPURPOSE is \"Corp. purposes\"\n",
        "NYcorp_purposes_deal_amounts = NY_packages_3y_before_merger.loc[is_corp_purposes_NY, 'DEALAMOUNT']\n",
        "\n",
        "\n",
        "mean_NY = NYcorp_purposes_deal_amounts.mean()\n",
        "print(mean_NY)"
      ]
    },
    {
      "cell_type": "code",
      "execution_count": 149,
      "metadata": {
        "colab": {
          "base_uri": "https://localhost:8080/"
        },
        "id": "kHYlWKwEp4B-",
        "outputId": "34221e70-c797-41a6-c032-c929490cf1de"
      },
      "outputs": [
        {
          "name": "stdout",
          "output_type": "stream",
          "text": [
            "Time series comparison  \n",
            "-1.278715369078152 0.20119405572901494\n"
          ]
        }
      ],
      "source": [
        "print(\"Time series comparison  \")\n",
        "t_statistic, p_value = stats.ttest_ind(NY_packages_3y_before_merger['DEALAMOUNT'], both_packages_3y_after_merger['DEALAMOUNT'])\n",
        "print(t_statistic, p_value)"
      ]
    },
    {
      "cell_type": "code",
      "execution_count": 150,
      "metadata": {
        "colab": {
          "base_uri": "https://localhost:8080/"
        },
        "id": "CpFDTy0oH5we",
        "outputId": "2e4f775f-9789-465c-9bb6-41ba26a54164"
      },
      "outputs": [
        {
          "name": "stdout",
          "output_type": "stream",
          "text": [
            "Descriptive statistics of Mellon's deals amount before the merger \n",
            "1235672382.8623528\n",
            "650000000.0\n",
            "2028657153.8021352\n"
          ]
        }
      ],
      "source": [
        "#Before Mellon\n",
        "\n",
        "print(\"Descriptive statistics of Mellon's deals amount before the merger \")\n",
        "mellon_mean = Mellon_packages_3y_before_merger['DEALAMOUNT'].mean()\n",
        "mellon_median = Mellon_packages_3y_before_merger['DEALAMOUNT'].median()\n",
        "mellon_SD = Mellon_packages_3y_before_merger['DEALAMOUNT'].std()\n",
        "\n",
        "\n",
        "print(mellon_mean)\n",
        "print(mellon_median)\n",
        "print(mellon_SD)"
      ]
    },
    {
      "cell_type": "code",
      "execution_count": 151,
      "metadata": {
        "colab": {
          "base_uri": "https://localhost:8080/"
        },
        "id": "Q5kQr__GP2iC",
        "outputId": "c9df13b2-744d-425d-ef06-4c8edded97db"
      },
      "outputs": [
        {
          "name": "stdout",
          "output_type": "stream",
          "text": [
            "Cross comparison  \n",
            "0.38108708310343903 0.7033304115014782\n"
          ]
        }
      ],
      "source": [
        "print(\"Cross comparison  \")\n",
        "t_statistic, p_value = stats.ttest_ind(Mellon_packages_3y_before_merger['DEALAMOUNT'], both_packages_3y_after_merger['DEALAMOUNT'])\n",
        "print(t_statistic, p_value)"
      ]
    },
    {
      "cell_type": "code",
      "execution_count": 152,
      "metadata": {
        "colab": {
          "base_uri": "https://localhost:8080/"
        },
        "id": "MWZmfpTVIKN-",
        "outputId": "d5e6cfe3-5d92-4131-aaee-0f9382b2e650"
      },
      "outputs": [
        {
          "name": "stdout",
          "output_type": "stream",
          "text": [
            "Descriptive statistics of BNY Mellon's deals amount after the merger \n",
            "1159540286.6061482\n",
            "500000000.0\n",
            "1649318206.6721027\n"
          ]
        }
      ],
      "source": [
        "#after merger\n",
        "\n",
        "print(\"Descriptive statistics of BNY Mellon's deals amount after the merger \")\n",
        "both_mean = both_packages_3y_after_merger['DEALAMOUNT'].mean()\n",
        "both_median = both_packages_3y_after_merger['DEALAMOUNT'].median()\n",
        "both_SD = both_packages_3y_after_merger['DEALAMOUNT'].std()\n",
        "\n",
        "print(both_mean)\n",
        "print(both_median)\n",
        "print(both_SD)"
      ]
    },
    {
      "cell_type": "markdown",
      "metadata": {
        "id": "rfiAbUgkclb2"
      },
      "source": [
        "**Retreiving a list of package IDs, that are date dependent for facility analyis and other analysis**"
      ]
    },
    {
      "cell_type": "code",
      "execution_count": 153,
      "metadata": {
        "id": "OET26z1Mclb3"
      },
      "outputs": [],
      "source": [
        "\n",
        "# ALL our banks facilities IDs - 6 year interval\n",
        "## Bank of New York\n",
        "NY_6y_all_package_IDs = NY_packages_6y_interval[\"PACKAGEID\"].tolist()\n",
        "NY_6y_lead_package_IDs = NY_lead_packages_6y_interval[\"PACKAGEID\"].tolist()\n",
        "NY_6y_nonlead_package_IDs = NY_nonlead_packages_6y_interval[\"PACKAGEID\"].tolist()\n",
        "## Mellon Bank\n",
        "mellon_6y_all_package_IDs = Mellon_packages_6y_interval[\"PACKAGEID\"].tolist()\n",
        "mellon_6y_lead_package_IDs = Mellon_lead_packages_6y_interval[\"PACKAGEID\"].tolist()\n",
        "mellon_6y_nonlead_package_IDs = Mellon_nonlead_packages_6y_interval[\"PACKAGEID\"].tolist()\n",
        "\n",
        "# ALL our banks facilities IDs - 3 years before\n",
        "## Bank of New York\n",
        "NY_3b_all_package_IDs = NY_packages_3y_before_merger[\"PACKAGEID\"].tolist()\n",
        "NY_3b_lead_package_IDs = NY_lead_packages_3y_before_merger[\"PACKAGEID\"].tolist()\n",
        "NY_3b_nonlead_package_IDs = NY_nonlead_packages_3y_before_merger[\"PACKAGEID\"].tolist()\n",
        "## Mellon Bank\n",
        "mellon_3b_all_package_IDs = Mellon_packages_3y_before_merger[\"PACKAGEID\"].tolist()\n",
        "mellon_3b_lead_package_IDs = Mellon_lead_packages_3y_before_merger[\"PACKAGEID\"].tolist()\n",
        "mellon_3b_nonlead_package_IDs = Mellon_nonlead_packages_3y_before_merger[\"PACKAGEID\"].tolist()\n",
        "\n",
        "# ALL our banks facilities IDs - 3 years after\n",
        "## Bank of New York\n",
        "NY_3a_all_package_IDs = NY_packages_3y_after_merger[\"PACKAGEID\"].tolist()\n",
        "NY_3a_lead_package_IDs = NY_lead_packages_3y_after_merger[\"PACKAGEID\"].tolist()\n",
        "NY_3a_nonlead_package_IDs = NY_nonlead_packages_3y_after_merger[\"PACKAGEID\"].tolist()\n",
        "## Mellon Bank\n",
        "mellon_3a_all_package_IDs = Mellon_packages_3y_after_merger[\"PACKAGEID\"].tolist()\n",
        "mellon_3a_lead_package_IDs = Mellon_lead_packages_3y_after_merger[\"PACKAGEID\"].tolist()\n",
        "mellon_3a_nonlead_package_IDs = Mellon_nonlead_packages_3y_after_merger[\"PACKAGEID\"].tolist()\n",
        "\n"
      ]
    },
    {
      "cell_type": "code",
      "execution_count": 154,
      "metadata": {
        "colab": {
          "base_uri": "https://localhost:8080/",
          "height": 36
        },
        "id": "1x68SSl0clb5",
        "outputId": "f32f14fb-6a11-49fe-9dbd-577241cde0e9"
      },
      "outputs": [
        {
          "data": {
            "text/plain": [
              "''"
            ]
          },
          "execution_count": 154,
          "metadata": {},
          "output_type": "execute_result"
        }
      ],
      "source": [
        "\"\"\"\"package ID Lists clearly listed bellow for further use\"\"\"\n",
        "\n",
        "# ALL our package IDs - ALL YEARS\n",
        "## Bank of New York\n",
        "NY_all_package_IDs\n",
        "NY_lead_package_IDs\n",
        "NY_nonlead_package_IDs\n",
        "## Mellon Bank\n",
        "mellon_all_package_IDs\n",
        "mellon_lead_package_IDs\n",
        "mellon_nonlead_package_IDs\n",
        "\n",
        "# ALL our banks facilities IDs - 6 year interval\n",
        "## Bank of New York\n",
        "NY_6y_all_package_IDs\n",
        "NY_6y_lead_package_IDs\n",
        "NY_6y_nonlead_package_IDs\n",
        "## Mellon Bank\n",
        "mellon_6y_all_package_IDs\n",
        "mellon_6y_lead_package_IDs\n",
        "mellon_6y_nonlead_package_IDs\n",
        "\n",
        "# ALL our banks facilities IDs - 3 years before\n",
        "## Bank of New York\n",
        "NY_3b_all_package_IDs\n",
        "NY_3b_lead_package_IDs\n",
        "NY_3b_nonlead_package_IDs\n",
        "## Mellon Bank\n",
        "mellon_3b_all_package_IDs\n",
        "mellon_3b_lead_package_IDs\n",
        "mellon_3b_nonlead_package_IDs\n",
        "\n",
        "# ALL our banks facilities IDs - 3 years after\n",
        "## Bank of New York\n",
        "NY_3a_all_package_IDs\n",
        "NY_3a_lead_package_IDs\n",
        "NY_3a_nonlead_package_IDs\n",
        "## Mellon Bank\n",
        "mellon_3a_all_package_IDs\n",
        "mellon_3a_lead_package_IDs\n",
        "mellon_3a_nonlead_package_IDs\n",
        "\"\"\"\"\"\"\n"
      ]
    },
    {
      "cell_type": "markdown",
      "metadata": {
        "id": "SE45lSfI7z2g"
      },
      "source": [
        "Package Analysis\n",
        "---\n"
      ]
    },
    {
      "cell_type": "markdown",
      "metadata": {
        "id": "kDKySoItVoig"
      },
      "source": [
        "Number of package 3 years before and 3 years after the merger"
      ]
    },
    {
      "cell_type": "code",
      "execution_count": 155,
      "metadata": {
        "colab": {
          "base_uri": "https://localhost:8080/",
          "height": 112
        },
        "id": "O95mimJ9clb7",
        "outputId": "408da940-35e7-437c-bfb3-60294d0d8e4b"
      },
      "outputs": [
        {
          "data": {
            "text/html": [
              "<div>\n",
              "<style scoped>\n",
              "    .dataframe tbody tr th:only-of-type {\n",
              "        vertical-align: middle;\n",
              "    }\n",
              "\n",
              "    .dataframe tbody tr th {\n",
              "        vertical-align: top;\n",
              "    }\n",
              "\n",
              "    .dataframe thead th {\n",
              "        text-align: right;\n",
              "    }\n",
              "</style>\n",
              "<table border=\"1\" class=\"dataframe\">\n",
              "  <thead>\n",
              "    <tr style=\"text-align: right;\">\n",
              "      <th></th>\n",
              "      <th>Before_Merge</th>\n",
              "      <th>After_Merge</th>\n",
              "    </tr>\n",
              "  </thead>\n",
              "  <tbody>\n",
              "    <tr>\n",
              "      <th>NY</th>\n",
              "      <td>1375</td>\n",
              "      <td>147</td>\n",
              "    </tr>\n",
              "    <tr>\n",
              "      <th>Mellon</th>\n",
              "      <td>289</td>\n",
              "      <td>147</td>\n",
              "    </tr>\n",
              "  </tbody>\n",
              "</table>\n",
              "</div>"
            ],
            "text/plain": [
              "        Before_Merge  After_Merge\n",
              "NY              1375          147\n",
              "Mellon           289          147"
            ]
          },
          "metadata": {},
          "output_type": "display_data"
        }
      ],
      "source": [
        "NY_package_befor=NY_packages_3y_before_merger['PACKAGEID'].nunique()\n",
        "Mel_package_befor=Mellon_packages_3y_before_merger['PACKAGEID'].nunique()\n",
        "\n",
        "NY_package_after=NY_packages_3y_after_merger['PACKAGEID'].nunique()\n",
        "MEL_package_after=Mellon_packages_3y_after_merger['PACKAGEID'].nunique()\n",
        "\n",
        "After=NY_package_after+MEL_package_after\n",
        "\n",
        "Total_NY=NY_package_befor+NY_package_after\n",
        "Total_Melon=Mel_package_befor+MEL_package_after\n",
        "\n",
        "\n",
        "\n",
        "Number_of_Packages = {\n",
        "    \"NY\": [NY_package_befor,After],\n",
        "    \"Mellon\": [Mel_package_befor, After],\n",
        "}\n",
        "Number_of_Packages = pd.DataFrame(Number_of_Packages)\n",
        "Number_of_Packages = Number_of_Packages.rename(index={0: \"Before_Merge\", 1: \"After_Merge\"})\n",
        "Number_of_Packages =Number_of_Packages.transpose()\n",
        "display(Number_of_Packages)"
      ]
    },
    {
      "cell_type": "code",
      "execution_count": 156,
      "metadata": {
        "colab": {
          "base_uri": "https://localhost:8080/",
          "height": 175
        },
        "id": "CCNlaYr_clb8",
        "outputId": "6a05412b-7ab3-4356-e39f-2d5155316820"
      },
      "outputs": [
        {
          "data": {
            "text/html": [
              "<div>\n",
              "<style scoped>\n",
              "    .dataframe tbody tr th:only-of-type {\n",
              "        vertical-align: middle;\n",
              "    }\n",
              "\n",
              "    .dataframe tbody tr th {\n",
              "        vertical-align: top;\n",
              "    }\n",
              "\n",
              "    .dataframe thead th {\n",
              "        text-align: right;\n",
              "    }\n",
              "</style>\n",
              "<table border=\"1\" class=\"dataframe\">\n",
              "  <thead>\n",
              "    <tr style=\"text-align: right;\">\n",
              "      <th></th>\n",
              "      <th>Lead/NonLead</th>\n",
              "      <th>Before_Merge</th>\n",
              "      <th>After_Merge</th>\n",
              "    </tr>\n",
              "  </thead>\n",
              "  <tbody>\n",
              "    <tr>\n",
              "      <th>NY</th>\n",
              "      <td>lead_Arranger</td>\n",
              "      <td>154</td>\n",
              "      <td>12</td>\n",
              "    </tr>\n",
              "    <tr>\n",
              "      <th>NY_n</th>\n",
              "      <td>Non_Lead_Arranger</td>\n",
              "      <td>1227</td>\n",
              "      <td>135</td>\n",
              "    </tr>\n",
              "    <tr>\n",
              "      <th>Mellon</th>\n",
              "      <td>lead_Arranger</td>\n",
              "      <td>0</td>\n",
              "      <td>12</td>\n",
              "    </tr>\n",
              "    <tr>\n",
              "      <th>Mellon_n</th>\n",
              "      <td>Non_Lead_Arranger</td>\n",
              "      <td>289</td>\n",
              "      <td>135</td>\n",
              "    </tr>\n",
              "  </tbody>\n",
              "</table>\n",
              "</div>"
            ],
            "text/plain": [
              "               Lead/NonLead Before_Merge After_Merge\n",
              "NY            lead_Arranger          154          12\n",
              "NY_n      Non_Lead_Arranger         1227         135\n",
              "Mellon        lead_Arranger            0          12\n",
              "Mellon_n  Non_Lead_Arranger          289         135"
            ]
          },
          "metadata": {},
          "output_type": "display_data"
        }
      ],
      "source": [
        "###\n",
        "#Lead-NonLead\n",
        "NYLEAD_package_befor=NY_lead_packages_3y_before_merger['PACKAGEID'].nunique()\n",
        "MelLEAD_package_befor=Mellon_lead_packages_3y_before_merger['PACKAGEID'].nunique()\n",
        "\n",
        "NYLEAD_package_after=NY_lead_packages_3y_after_merger['PACKAGEID'].nunique()\n",
        "MELLEAD_package_after=Mellon_lead_packages_3y_after_merger['PACKAGEID'].nunique()\n",
        "\n",
        "NYNLEAD_package_befor=NY_nonlead_packages_3y_before_merger['PACKAGEID'].nunique()\n",
        "MelNLEAD_package_befor=Mellon_nonlead_packages_3y_before_merger['PACKAGEID'].nunique()\n",
        "\n",
        "NYNLEAD_package_after=NY_nonlead_packages_3y_after_merger['PACKAGEID'].nunique()\n",
        "MELNLEAD_package_after=Mellon_nonlead_packages_3y_after_merger['PACKAGEID'].nunique()\n",
        "\n",
        "\n",
        "After_Package_Lead=NYLEAD_package_after+MELLEAD_package_after\n",
        "After_Package_NLead=NYNLEAD_package_after+MELNLEAD_package_after\n",
        "Number_of_Packages_LEAD = {\n",
        "    \"NY\": ['lead_Arranger',NYLEAD_package_befor,After_Package_Lead],\n",
        "    \"NY_n\": ['Non_Lead_Arranger',NYNLEAD_package_befor,After_Package_NLead],\n",
        "    \"Mellon\": ['lead_Arranger',MelLEAD_package_befor,After_Package_Lead],\n",
        "    \"Mellon_n\": ['Non_Lead_Arranger',MelNLEAD_package_befor, After_Package_NLead],\n",
        "}\n",
        "Number_of_Packages_LEAD = pd.DataFrame(Number_of_Packages_LEAD)\n",
        "Number_of_Packages_LEAD = Number_of_Packages_LEAD.rename(index={0: 'Lead/NonLead', 1: \"Before_Merge\",2:'After_Merge'})\n",
        "Number_of_Packages_LEAD =Number_of_Packages_LEAD.transpose()\n",
        "display(Number_of_Packages_LEAD)\n"
      ]
    },
    {
      "cell_type": "code",
      "execution_count": 157,
      "metadata": {
        "id": "GGTY7fTNclb9"
      },
      "outputs": [],
      "source": [
        "\n",
        "\n",
        "# dates = NY_packages_3y_before_merger['DEALACTIVEDATE']\n",
        "# NY_packages_3y_before_merger['year'] = dates.dt.year\n",
        "\n",
        "# x1 = NY_packages_3y_before_merger['year']\n",
        "# y1 = NY_packages_3y_before_merger.groupby(['year']).size()\n",
        "# # # plotting the line 1 points\n",
        "# plt.plot(x1, y1, label = \"line 1\")\n",
        "\n"
      ]
    },
    {
      "cell_type": "code",
      "execution_count": 158,
      "metadata": {
        "colab": {
          "base_uri": "https://localhost:8080/",
          "height": 889
        },
        "id": "AK4tEaRaclb-",
        "outputId": "610c74dc-1d7f-434a-b21d-8329df1ad7ae"
      },
      "outputs": [
        {
          "data": {
            "image/png": "[encoded data removed]",
            "text/plain": [
              "<Figure size 640x480 with 1 Axes>"
            ]
          },
          "metadata": {},
          "output_type": "display_data"
        }
      ],
      "source": [
        "dates = NY_packages_3y_before_merger['DEALACTIVEDATE']\n",
        "dates2 = Mellon_packages_3y_before_merger['DEALACTIVEDATE']\n",
        "dates3=NY_packages_3y_after_merger['DEALACTIVEDATE']\n",
        "dates4=Mellon_packages_3y_after_merger['DEALACTIVEDATE']\n",
        "\n",
        "\n",
        "NY_packages_3y_before_merger['year'] = dates.dt.year.astype(int)\n",
        "Mellon_packages_3y_before_merger['year'] = dates2.dt.year.astype(int)\n",
        "NY_packages_3y_after_merger['year'] = dates3.dt.year.astype(int)\n",
        "Mellon_packages_3y_after_merger['year'] = dates4.dt.year.astype(int)\n",
        "\n",
        "\n",
        "# group by year and count the number of packages per year\n",
        "yearly_counts_NY = NY_packages_3y_before_merger.groupby('year')['PACKAGEID'].count()\n",
        "yearly_counts_mellon = Mellon_packages_3y_before_merger.groupby('year')['PACKAGEID'].count()\n",
        "yearly_counts_A_NY = NY_packages_3y_after_merger.groupby('year')['PACKAGEID'].count()\n",
        "yearly_counts_A_mellon = Mellon_packages_3y_after_merger.groupby('year')['PACKAGEID'].count()\n",
        "#one for after merge\n",
        "yearly_loan_amount_combined = yearly_counts_A_NY.add(yearly_counts_A_mellon, fill_value=0)\n",
        "\n",
        "# plot the data as a line chart\n",
        "\n",
        "bar_width = 0.2\n",
        "plt.bar(yearly_counts_NY.index - 2*bar_width, yearly_counts_NY.values, width=bar_width, label='NY packages (before)')\n",
        "plt.bar(yearly_counts_mellon.index - bar_width, yearly_counts_mellon.values, width=bar_width, label='Mellon packages (before)')\n",
        "\n",
        "# plot the data as a bar chart with a single bar for the sum of NY and Mellon packages after the merger\n",
        "plt.bar(yearly_loan_amount_combined.index, yearly_loan_amount_combined.values, width=bar_width, label='NY-Mellon packages (after)')\n",
        "\n",
        "# add vertical line for merge year\n",
        "plt.axvline(x=2007, color='r', linestyle='--', label='Merge year')\n",
        "\n",
        "# add labels and title to the plot\n",
        "plt.xlabel('Year')\n",
        "plt.ylabel('Number of Packages')\n",
        "plt.title('Packages per Year')\n",
        "plt.legend()\n",
        "\n",
        "# display the plot\n",
        "plt.show()"
      ]
    },
    {
      "cell_type": "markdown",
      "metadata": {
        "id": "D7YBcM0qclb_"
      },
      "source": [
        "**Facility Data for BNY Mellon**\n",
        "---\n",
        "**Finding facility data by year for banks**\n",
        "we can use the below dataframes for facility analysis  **IMPORTANT**\n",
        "\n",
        "    Facility amount: how big is the facility in terms of $ amount  \n",
        "\n",
        "    Facility Start date\n",
        "\n",
        "    Facility End date  \n",
        "\n",
        "    What kind of facility it is: example, term loan  \n",
        "\n",
        "    How long is it: 54 months  \n",
        "\n",
        "    What’s the Primary Purpose: for working capital  \n",
        "\n",
        "    Control variable “secure”; yes = 1 , no = 0   "
      ]
    },
    {
      "cell_type": "code",
      "execution_count": 159,
      "metadata": {
        "colab": {
          "base_uri": "https://localhost:8080/",
          "height": 328
        },
        "id": "9XpORBr1clcA",
        "outputId": "8efcab50-39ae-4baa-93e3-a6fa1d515bf6"
      },
      "outputs": [],
      "source": [
        "\n",
        "facility_cleaned= pd.merge(facility_cleaned, package,how='left', on='PACKAGEID')\n",
        "facility_cleaned['year'] = facility_cleaned['DEALACTIVEDATE'].dt.year.astype(int)\n"
      ]
    },
    {
      "cell_type": "code",
      "execution_count": 160,
      "metadata": {
        "id": "60vOqGyaclcB"
      },
      "outputs": [],
      "source": [
        "\n",
        "\"\"\"these are facility dataframes we can do analysis on it\n",
        "our banks, split in year and lead, its ready to analize\n",
        "\"\"\"\n",
        "# ALL our facility dataframes - ALL YEARS\n",
        "## Bank of New York\n",
        "NY_all_facility = facility_cleaned[facility_cleaned['PACKAGEID'].isin(NY_all_package_IDs)]\n",
        "NY_lead_facility = facility_cleaned[facility_cleaned['PACKAGEID'].isin(NY_lead_package_IDs)]\n",
        "NY_nonlead_facility = facility_cleaned[facility_cleaned['PACKAGEID'].isin(NY_nonlead_package_IDs)]\n",
        "## Mellon Bank\n",
        "mellon_all_facility = facility_cleaned[facility_cleaned['PACKAGEID'].isin(mellon_all_package_IDs)]\n",
        "mellon_lead_facility = facility_cleaned[facility_cleaned['PACKAGEID'].isin(mellon_lead_package_IDs)]\n",
        "mellon_nonlead_facility = facility_cleaned[facility_cleaned['PACKAGEID'].isin(mellon_nonlead_package_IDs)]\n",
        "\n",
        "# ALL our banks facility dataframes - 6 year interval\n",
        "## Bank of New York\n",
        "NY_6y_all_facility= facility_cleaned[facility_cleaned['PACKAGEID'].isin(NY_6y_all_package_IDs)]\n",
        "NY_6y_lead_facility= facility_cleaned[facility_cleaned['PACKAGEID'].isin(NY_6y_lead_package_IDs)]\n",
        "NY_6y_nonlead_facility = facility_cleaned[facility_cleaned['PACKAGEID'].isin(NY_6y_nonlead_package_IDs)]\n",
        "## Mellon Bank\n",
        "mellon_6y_all_facility= facility_cleaned[facility_cleaned['PACKAGEID'].isin(mellon_6y_all_package_IDs)]\n",
        "mellon_6y_lead_facility = facility_cleaned[facility_cleaned['PACKAGEID'].isin(mellon_6y_lead_package_IDs)]\n",
        "mellon_6y_nonlead_facility = facility_cleaned[facility_cleaned['PACKAGEID'].isin(mellon_6y_nonlead_package_IDs)]\n",
        "\n",
        "# ALL our banks facility dataframes - 3 years before\n",
        "## Bank of New York\n",
        "NY_3b_all_facility = facility_cleaned[facility_cleaned['PACKAGEID'].isin(NY_3b_all_package_IDs)]\n",
        "NY_3b_lead_facility = facility_cleaned[facility_cleaned['PACKAGEID'].isin(NY_3b_lead_package_IDs)]\n",
        "NY_3b_nonlead_facility = facility_cleaned[facility_cleaned['PACKAGEID'].isin(NY_3b_nonlead_package_IDs)]\n",
        "## Mellon Bank\n",
        "mellon_3b_all_facility= facility_cleaned[facility_cleaned['PACKAGEID'].isin(mellon_3b_all_package_IDs)]\n",
        "mellon_3b_lead_facility = facility_cleaned[facility_cleaned['PACKAGEID'].isin(mellon_3b_lead_package_IDs)]\n",
        "mellon_3b_nonlead_facility = facility_cleaned[facility_cleaned['PACKAGEID'].isin(mellon_3b_nonlead_package_IDs)]\n",
        "\n",
        "# ALL our banks facility dataframes - 3 years after\n",
        "## Bank of New York\n",
        "NY_3a_all_facility = facility_cleaned[facility_cleaned['PACKAGEID'].isin(NY_3a_all_package_IDs)]\n",
        "NY_3a_lead_facility = facility_cleaned[facility_cleaned['PACKAGEID'].isin(NY_3a_lead_package_IDs)]\n",
        "NY_3a_nonlead_facility = facility_cleaned[facility_cleaned['PACKAGEID'].isin(NY_3a_nonlead_package_IDs)]\n",
        "## Mellon Bank\n",
        "mellon_3a_all_facility = facility_cleaned[facility_cleaned['PACKAGEID'].isin(mellon_3a_all_package_IDs)]\n",
        "mellon_3a_lead_facility = facility_cleaned[facility_cleaned['PACKAGEID'].isin(mellon_3a_lead_package_IDs)]\n",
        "mellon_3a_nonlead_facility = facility_cleaned[facility_cleaned['PACKAGEID'].isin(mellon_3a_nonlead_package_IDs)]\n",
        "## Both -> combining both since after the merger its 1 entity thus facilities are with BNY Mellon\n",
        "Both_3a_all_facility = pd.concat([NY_3a_all_facility, mellon_3a_all_facility], axis=0)\n",
        "Both_3a_lead_facility = pd.concat([NY_3a_lead_facility, mellon_3a_lead_facility], axis=0)\n",
        "Both_3a_nonlead_facility = pd.concat([NY_3a_nonlead_facility, mellon_3a_nonlead_facility], axis=0)\n"
      ]
    },
    {
      "cell_type": "code",
      "execution_count": 161,
      "metadata": {
        "id": "_x5lKlUrclcH"
      },
      "outputs": [
        {
          "data": {
            "text/html": [
              "<div>\n",
              "<style scoped>\n",
              "    .dataframe tbody tr th:only-of-type {\n",
              "        vertical-align: middle;\n",
              "    }\n",
              "\n",
              "    .dataframe tbody tr th {\n",
              "        vertical-align: top;\n",
              "    }\n",
              "\n",
              "    .dataframe thead th {\n",
              "        text-align: right;\n",
              "    }\n",
              "</style>\n",
              "<table border=\"1\" class=\"dataframe\">\n",
              "  <thead>\n",
              "    <tr style=\"text-align: right;\">\n",
              "      <th></th>\n",
              "      <th>Before_Merge</th>\n",
              "      <th>After_Merge</th>\n",
              "    </tr>\n",
              "  </thead>\n",
              "  <tbody>\n",
              "    <tr>\n",
              "      <th>NY</th>\n",
              "      <td>1858</td>\n",
              "      <td>180</td>\n",
              "    </tr>\n",
              "    <tr>\n",
              "      <th>Mellon</th>\n",
              "      <td>349</td>\n",
              "      <td>180</td>\n",
              "    </tr>\n",
              "  </tbody>\n",
              "</table>\n",
              "</div>"
            ],
            "text/plain": [
              "        Before_Merge  After_Merge\n",
              "NY              1858          180\n",
              "Mellon           349          180"
            ]
          },
          "metadata": {},
          "output_type": "display_data"
        }
      ],
      "source": [
        "NY_facility_before=NY_3b_all_facility['FACILITYID'].nunique()\n",
        "Mel_facility_before=mellon_3b_all_facility['FACILITYID'].nunique()\n",
        "\n",
        "NY_facility_after=NY_3a_all_facility['FACILITYID'].nunique()\n",
        "MEL_facility_after=mellon_3a_all_facility['FACILITYID'].nunique()\n",
        "\n",
        "Facility_After=NY_facility_after+MEL_facility_after\n",
        "\n",
        "\n",
        "Number_of_Facilities = {\n",
        "    \"NY\": [NY_facility_before,Facility_After],\n",
        "    \"Mellon\": [Mel_facility_before, Facility_After],\n",
        "}\n",
        "Number_of_Facilities = pd.DataFrame(Number_of_Facilities)\n",
        "Number_of_Facilities = Number_of_Facilities.rename(index={0: \"Before_Merge\", 1: \"After_Merge\"})\n",
        "Number_of_Facilities =Number_of_Facilities.transpose()\n",
        "display(Number_of_Facilities)"
      ]
    },
    {
      "cell_type": "code",
      "execution_count": 162,
      "metadata": {
        "id": "nHaDS1E1clcJ"
      },
      "outputs": [
        {
          "data": {
            "text/plain": [
              "Int64Index([2004, 2005, 2006], dtype='int64', name='year')"
            ]
          },
          "execution_count": 162,
          "metadata": {},
          "output_type": "execute_result"
        },
        {
          "data": {
            "image/png": "[encoded data removed]",
            "text/plain": [
              "<Figure size 640x480 with 1 Axes>"
            ]
          },
          "metadata": {},
          "output_type": "display_data"
        }
      ],
      "source": [
        "# group by year and count the number of packages per year for NY and Mellon separately, before and after the merger\n",
        "yearly_counts_NYf_before = NY_3b_all_facility.groupby('year')['FACILITYID'].count()\n",
        "yearly_counts_mellonf_before = mellon_3b_all_facility.groupby('year')['FACILITYID'].count()\n",
        "yearly_counts_NYf_after = NY_3a_all_facility.groupby('year')['FACILITYID'].count()\n",
        "yearly_counts_mellonf_after = mellon_3a_all_facility.groupby('year')['FACILITYID'].count()\n",
        "\n",
        "# combine the counts for NY and Mellon packages after the merger\n",
        "yearly_counts_NY_mellon_afterf = yearly_counts_NYf_after.add(yearly_counts_mellonf_after, fill_value=0)\n",
        "\n",
        "# plot the data as a bar chart with multiple bars for each year before the merger\n",
        "bar_width = 0.2\n",
        "plt.bar(yearly_counts_NYf_before.index - 2*bar_width, yearly_counts_NYf_before.values, width=bar_width, label='NY Facilities (before)')\n",
        "plt.bar(yearly_counts_mellonf_before.index - bar_width, yearly_counts_mellonf_before.values, width=bar_width, label='Mellon Facilities (before)')\n",
        "\n",
        "# plot the data as a bar chart with a single bar for the sum of NY and Mellon packages after the merger\n",
        "plt.bar(yearly_counts_NY_mellon_afterf.index, yearly_counts_NY_mellon_afterf.values, width=bar_width, label='NY-Mellon Facilities (after)')\n",
        "\n",
        "# add vertical line for merge year\n",
        "plt.axvline(x=2007, color='r', linestyle='--', label='Merge year')\n",
        "\n",
        "# add labels and title to the plot\n",
        "plt.xlabel('Year')\n",
        "plt.ylabel('Number of Facilities')\n",
        "plt.title('Facility per Year')\n",
        "plt.legend()\n",
        "\n",
        "# display the plot\n",
        "yearly_counts_NYf_before.index"
      ]
    },
    {
      "cell_type": "code",
      "execution_count": 163,
      "metadata": {
        "id": "wiR61jQRclcN"
      },
      "outputs": [
        {
          "data": {
            "text/html": [
              "<div>\n",
              "<style scoped>\n",
              "    .dataframe tbody tr th:only-of-type {\n",
              "        vertical-align: middle;\n",
              "    }\n",
              "\n",
              "    .dataframe tbody tr th {\n",
              "        vertical-align: top;\n",
              "    }\n",
              "\n",
              "    .dataframe thead th {\n",
              "        text-align: right;\n",
              "    }\n",
              "</style>\n",
              "<table border=\"1\" class=\"dataframe\">\n",
              "  <thead>\n",
              "    <tr style=\"text-align: right;\">\n",
              "      <th></th>\n",
              "      <th>Lead/NonLead</th>\n",
              "      <th>Before_Merge</th>\n",
              "      <th>After_Merge</th>\n",
              "    </tr>\n",
              "  </thead>\n",
              "  <tbody>\n",
              "    <tr>\n",
              "      <th>NY</th>\n",
              "      <td>lead_Arranger</td>\n",
              "      <td>210</td>\n",
              "      <td>15</td>\n",
              "    </tr>\n",
              "    <tr>\n",
              "      <th>NY_n</th>\n",
              "      <td>Non_Lead_Arranger</td>\n",
              "      <td>1656</td>\n",
              "      <td>165</td>\n",
              "    </tr>\n",
              "    <tr>\n",
              "      <th>Mellon</th>\n",
              "      <td>lead_Arranger</td>\n",
              "      <td>0</td>\n",
              "      <td>15</td>\n",
              "    </tr>\n",
              "    <tr>\n",
              "      <th>Mellon_n</th>\n",
              "      <td>Non_Lead_Arranger</td>\n",
              "      <td>349</td>\n",
              "      <td>165</td>\n",
              "    </tr>\n",
              "  </tbody>\n",
              "</table>\n",
              "</div>"
            ],
            "text/plain": [
              "               Lead/NonLead Before_Merge After_Merge\n",
              "NY            lead_Arranger          210          15\n",
              "NY_n      Non_Lead_Arranger         1656         165\n",
              "Mellon        lead_Arranger            0          15\n",
              "Mellon_n  Non_Lead_Arranger          349         165"
            ]
          },
          "metadata": {},
          "output_type": "display_data"
        }
      ],
      "source": [
        "#Lead-NonLead\n",
        "NYLEAD_facility_befor=NY_3b_lead_facility['FACILITYID'].nunique()\n",
        "MelLEAD_facility_befor=mellon_3b_lead_facility['FACILITYID'].nunique()\n",
        "\n",
        "NYLEAD_facility_after=NY_3a_lead_facility['FACILITYID'].nunique()\n",
        "MELLEAD_facility_after=mellon_3a_lead_facility['FACILITYID'].nunique()\n",
        "\n",
        "NYNLEAD_facility_befor=NY_3b_nonlead_facility['FACILITYID'].nunique()\n",
        "MelNLEAD_facility_befor=mellon_3b_nonlead_facility['FACILITYID'].nunique()\n",
        "\n",
        "NYNLEAD_facility_after=NY_3a_nonlead_facility['FACILITYID'].nunique()\n",
        "MELNLEAD_facility_after=mellon_3a_nonlead_facility['FACILITYID'].nunique()\n",
        "\n",
        "After_Facility_Lead=NYLEAD_facility_after+MELLEAD_facility_after\n",
        "After_Facility_NLead=NYNLEAD_facility_after+MELNLEAD_facility_after\n",
        "\n",
        "Number_of_Facility_LEAD = {\n",
        "    \"NY\": ['lead_Arranger',NYLEAD_facility_befor,After_Facility_Lead],\n",
        "    \"NY_n\": ['Non_Lead_Arranger',NYNLEAD_facility_befor,After_Facility_NLead],\n",
        "    \"Mellon\": ['lead_Arranger',MelLEAD_facility_befor,After_Facility_Lead],\n",
        "    \"Mellon_n\": ['Non_Lead_Arranger',MelNLEAD_facility_befor, After_Facility_NLead],\n",
        "}\n",
        "Number_of_Facility_LEAD = pd.DataFrame(Number_of_Facility_LEAD)\n",
        "Number_of_Facility_LEAD = Number_of_Facility_LEAD.rename(index={0: 'Lead/NonLead', 1: \"Before_Merge\",2:'After_Merge'})\n",
        "Number_of_Facility_LEAD =Number_of_Facility_LEAD.transpose()\n",
        "display(Number_of_Facility_LEAD)"
      ]
    },
    {
      "cell_type": "code",
      "execution_count": 164,
      "metadata": {
        "id": "G06DNt5CclcP"
      },
      "outputs": [
        {
          "data": {
            "image/png": "[encoded data removed]",
            "text/plain": [
              "<Figure size 1000x600 with 1 Axes>"
            ]
          },
          "metadata": {},
          "output_type": "display_data"
        }
      ],
      "source": [
        "#all lead and non lead in one graph , but this was confusing , so I put 2 subtables in next code.\n",
        "\n",
        "# group by year and lead/non-lead status for NY and Mellon separately, before and after the merger\n",
        "NY_lead_counts_before = NY_3b_lead_facility.groupby('year')['FACILITYID'].count()\n",
        "Mellon_lead_counts_before = mellon_3b_lead_facility.groupby('year')['FACILITYID'].count()\n",
        "NY_nonlead_counts_before = NY_3b_nonlead_facility.groupby('year')['FACILITYID'].count()\n",
        "Mellon_nonlead_counts_before = mellon_3b_nonlead_facility.groupby('year')['FACILITYID'].count()\n",
        "\n",
        "NY_lead_counts_after = NY_3a_lead_facility.groupby('year')['FACILITYID'].count()\n",
        "Mellon_lead_counts_after = mellon_3a_lead_facility.groupby('year')['FACILITYID'].count()\n",
        "NY_nonlead_counts_after = NY_3a_nonlead_facility.groupby('year')['FACILITYID'].count()\n",
        "Mellon_nonlead_counts_after = mellon_3a_nonlead_facility.groupby('year')['FACILITYID'].count()\n",
        "\n",
        "# merge the counts for NY and Mellon facilities after the merger\n",
        "NY_lead_mellon_lead_counts_after = NY_lead_counts_after.add(Mellon_lead_counts_after, fill_value=0)\n",
        "NY_nonlead_mellon_nonlead_counts_after = NY_nonlead_counts_after.add(Mellon_nonlead_counts_after, fill_value=0)\n",
        "\n",
        "# create a bar chart\n",
        "bar_width = 0.2\n",
        "plt.figure(figsize=(10,6)) # set the figure size\n",
        "plt.bar(NY_lead_counts_before.index - 3*bar_width, NY_lead_counts_before.values, width=bar_width, color='lightblue', label='NY Lead Facilities (before)')\n",
        "plt.bar(NY_nonlead_counts_before.index - bar_width, NY_nonlead_counts_before.values, width=bar_width, color='darkblue', label='NY Non-Lead Facilities (before)')\n",
        "\n",
        "plt.bar(Mellon_lead_counts_before.index, Mellon_lead_counts_before.values, width=bar_width,label='Mellon Lead Facilities (before)', color='red')\n",
        "plt.bar(Mellon_nonlead_counts_before.index, Mellon_nonlead_counts_before.values, width=bar_width, color='darkred', label='Mellon Non-Lead Facilities (before)')\n",
        "\n",
        "\n",
        "plt.bar(NY_lead_mellon_lead_counts_after.index + bar_width, NY_lead_mellon_lead_counts_after.values, width=bar_width, color='pink', label='NY-Mellon Lead Facilities (after)')\n",
        "plt.bar(NY_nonlead_mellon_nonlead_counts_after.index + 2*bar_width, NY_nonlead_mellon_nonlead_counts_after.values, width=bar_width, label='NY-Mellon Non-Lead Facilities (after)', color='purple')\n",
        "# Add labels and title to the plot\n",
        "plt.xlabel('Year')\n",
        "plt.ylabel('Number of Facilities')\n",
        "plt.title('Facility per Year for Lead and Non-Lead Arrangers in NY and Mellon', fontsize=16)\n",
        "\n",
        "# set the font size of the legend\n",
        "plt.legend(fontsize=12)\n",
        "\n",
        "# Display the plot\n",
        "plt.show()"
      ]
    },
    {
      "cell_type": "code",
      "execution_count": 165,
      "metadata": {
        "id": "DfpBuwv5clcR"
      },
      "outputs": [
        {
          "data": {
            "image/png": "[encoded data removed]",
            "text/plain": [
              "<Figure size 1200x600 with 2 Axes>"
            ]
          },
          "metadata": {},
          "output_type": "display_data"
        }
      ],
      "source": [
        "#2 different plot for Mellon and NY\n",
        "\n",
        "# define the bar width\n",
        "bar_width = 0.2\n",
        "\n",
        "# create a figure with two subplots\n",
        "fig, (ax1, ax2) = plt.subplots(1, 2, figsize=(12, 6))\n",
        "\n",
        "# plot NY facilities on the first subplot\n",
        "ax1.bar(NY_lead_counts_before.index - 2*bar_width, NY_lead_counts_before.values, width=bar_width, color='lightblue', label='NY Lead Facilities (before)')\n",
        "ax1.bar(NY_nonlead_counts_before.index - bar_width, NY_nonlead_counts_before.values, width=bar_width, color='darkblue', label='NY Non-Lead Facilities (before)')\n",
        "ax1.bar(NY_lead_mellon_lead_counts_after.index, NY_lead_mellon_lead_counts_after.values, width=bar_width, color='pink', label='NY-Mellon Lead Facilities (after)')\n",
        "ax1.bar(NY_nonlead_mellon_nonlead_counts_after.index + bar_width, NY_nonlead_mellon_nonlead_counts_after.values, width=bar_width, label='NY-Mellon Non-Lead Facilities (after)', color='purple')\n",
        "ax1.set_title('NY Facilities', fontsize=14)\n",
        "ax1.set_xlabel('Year')\n",
        "ax1.set_ylabel('Number of Facilities')\n",
        "ax1.legend(fontsize=8)\n",
        "\n",
        "# plot Mellon facilities on the second subplot\n",
        "ax2.bar(Mellon_lead_counts_before.index - 2*bar_width, Mellon_lead_counts_before.values, width=bar_width,label='Mellon Lead Facilities (before)', color='red')\n",
        "ax2.bar(Mellon_nonlead_counts_before.index, Mellon_nonlead_counts_before.values, width=bar_width, color='darkred', label='Mellon Non-Lead Facilities (before)')\n",
        "ax2.bar(NY_lead_mellon_lead_counts_after.index, NY_lead_mellon_lead_counts_after.values, width=bar_width, color='pink', label='NY-Mellon Lead Facilities (after)')\n",
        "ax2.bar(NY_nonlead_mellon_nonlead_counts_after.index + bar_width, NY_nonlead_mellon_nonlead_counts_after.values, width=bar_width, label='NY-Mellon Non-Lead Facilities (after)', color='purple')\n",
        "ax2.set_title('Mellon Facilities', fontsize=14)\n",
        "ax2.set_xlabel('Year')\n",
        "ax2.set_ylabel('Number of Facilities')\n",
        "\n",
        "ax2.legend(fontsize=8)\n",
        "\n",
        "# add vertical line for merge year\n",
        "merge_year = 2007\n",
        "ax1.axvline(x=merge_year, color='gray', linestyle='--')\n",
        "ax1.text(merge_year+0.05, 105, 'Merge_year', rotation=90, fontsize=10, color='gray')\n",
        "ax2.axvline(x=merge_year, color='gray', linestyle='--')\n",
        "ax2.text(merge_year+0.05, 105, 'Merge_year', rotation=90, fontsize=10, color='gray')\n",
        "\n",
        "# adjust the x-axis tick labels to show integer years\n",
        "ax1.xaxis.set_major_locator(ticker.MaxNLocator(integer=True))\n",
        "ax2.xaxis.set_major_locator(ticker.MaxNLocator(integer=True))\n",
        "\n",
        "# adjust the spacing between subplots\n",
        "plt.subplots_adjust(wspace=0.4)\n",
        "\n",
        "# show the plot\n",
        "plt.show()"
      ]
    },
    {
      "cell_type": "code",
      "execution_count": 166,
      "metadata": {
        "id": "Fav2vrTQclcT"
      },
      "outputs": [
        {
          "data": {
            "image/png": "[encoded data removed]",
            "text/plain": [
              "<Figure size 640x480 with 1 Axes>"
            ]
          },
          "metadata": {},
          "output_type": "display_data"
        }
      ],
      "source": [
        "#these are with out considering grouping by years:\n",
        "# Extract the data for plotting\n",
        "lead_before = Number_of_Facility_LEAD.loc['NY', 'Before_Merge']\n",
        "lead_after = Number_of_Facility_LEAD.loc['NY', 'After_Merge']\n",
        "non_lead_before = Number_of_Facility_LEAD.loc['NY_n', 'Before_Merge']\n",
        "non_lead_after = Number_of_Facility_LEAD.loc['NY_n', 'After_Merge']\n",
        "\n",
        "# Set up the bar chart\n",
        "labels = ['Lead Before','Non-Lead Before', 'Lead After',  'Non-Lead After']\n",
        "values = [lead_before, non_lead_before,lead_after,  non_lead_after]\n",
        "colors = ['#FFA07A', '#FF6347', '#6495ED', '#4169E1']\n",
        "\n",
        "plt.bar(labels, values, color=colors)\n",
        "plt.title('Number of Facilities in NY Before and After Merge')\n",
        "plt.xlabel('Facility Type')\n",
        "plt.ylabel('Number of Facilities')\n",
        "plt.show()"
      ]
    },
    {
      "cell_type": "code",
      "execution_count": 167,
      "metadata": {
        "id": "0OwiRBUSclcU"
      },
      "outputs": [
        {
          "data": {
            "image/png": "[encoded data removed]",
            "text/plain": [
              "<Figure size 640x480 with 1 Axes>"
            ]
          },
          "metadata": {},
          "output_type": "display_data"
        }
      ],
      "source": [
        "# Extract the data for plotting\n",
        "lead_before = Number_of_Facility_LEAD.loc['Mellon', 'Before_Merge']\n",
        "lead_after = Number_of_Facility_LEAD.loc['Mellon', 'After_Merge']\n",
        "non_lead_before = Number_of_Facility_LEAD.loc['Mellon_n', 'Before_Merge']\n",
        "non_lead_after = Number_of_Facility_LEAD.loc['Mellon_n', 'After_Merge']\n",
        "\n",
        "# Set up the bar chart\n",
        "labels = ['Lead Before','Non-Lead Before', 'Lead After',  'Non-Lead After']\n",
        "values = [lead_before, non_lead_before,lead_after,  non_lead_after]\n",
        "colors = ['#FFA07A', '#FF6347', '#6495ED', '#4169E1']\n",
        "\n",
        "plt.bar(labels, values, color=colors)\n",
        "plt.title('Number of Facilities in Mellon Before and After Merge')\n",
        "plt.xlabel('Facility Type')\n",
        "plt.ylabel('Number of Facilities')\n",
        "plt.show()"
      ]
    },
    {
      "cell_type": "code",
      "execution_count": 168,
      "metadata": {
        "id": "WxkoLJAvclcV"
      },
      "outputs": [
        {
          "data": {
            "image/png": "[encoded data removed]",
            "text/plain": [
              "<Figure size 1000x600 with 1 Axes>"
            ]
          },
          "metadata": {},
          "output_type": "display_data"
        }
      ],
      "source": [
        "\n",
        "# Extract the data for plotting\n",
        "ny_lead_before = Number_of_Facility_LEAD.loc['NY', 'Before_Merge']\n",
        "ny_lead_after = Number_of_Facility_LEAD.loc['NY', 'After_Merge']\n",
        "ny_non_lead_before = Number_of_Facility_LEAD.loc['NY_n', 'Before_Merge']\n",
        "ny_non_lead_after = Number_of_Facility_LEAD.loc['NY_n', 'After_Merge']\n",
        "\n",
        "mellon_lead_before = Number_of_Facility_LEAD.loc['Mellon', 'Before_Merge']\n",
        "mellon_lead_after = Number_of_Facility_LEAD.loc['Mellon', 'After_Merge']\n",
        "mellon_non_lead_before = Number_of_Facility_LEAD.loc['Mellon_n', 'Before_Merge']\n",
        "mellon_non_lead_after = Number_of_Facility_LEAD.loc['Mellon_n', 'After_Merge']\n",
        "\n",
        "# Set up the bar chart\n",
        "labels = ['NY Lead Before','NY Non-Lead Before', 'Mellon Lead Before', 'Mellon Non-Lead Before', 'NY Lead After', 'NY Non-Lead After', 'Mellon Lead After', 'Mellon Non-Lead After']\n",
        "values = [ny_lead_before, ny_non_lead_before, mellon_lead_before, mellon_non_lead_before, ny_lead_after, ny_non_lead_after, mellon_lead_after, mellon_non_lead_after]\n",
        "\n",
        "colors = ['#FFA07A', '#FF6347', '#6495ED', '#4169E1', '#FFA07A', '#FF6347', '#6495ED', '#4169E1']\n",
        "\n",
        "plt.figure(figsize=(10, 6))\n",
        "plt.bar(labels, values, color=colors)\n",
        "plt.title('Number of Facilities Before and After Merge')\n",
        "plt.xlabel('Facility Type')\n",
        "plt.ylabel('Number of Facilities')\n",
        "plt.xticks(rotation=45, ha='right')\n",
        "plt.ylim([0, 600])\n",
        "plt.axvline(x=3.5, color='grey', linestyle='--', label='Merge')\n",
        "plt.legend()\n",
        "plt.show()"
      ]
    },
    {
      "cell_type": "markdown",
      "metadata": {
        "id": "ShH32ASRclcW"
      },
      "source": [
        "**Public Borrowers**\n",
        "---\n",
        "Finding out out which of our facilities are public, and merging it onto the comps database so we can do more analysis\n",
        "\n",
        " There’s facility ID & gvkey a link = public  \n",
        "    No link = private  \n",
        "Thus now we can see, before and after, if they are lending more to public or private borrowers  \n",
        "\n",
        "we need this to see how risky the borrower is"
      ]
    },
    {
      "cell_type": "code",
      "execution_count": 169,
      "metadata": {
        "id": "fm3gHfu0clcY"
      },
      "outputs": [],
      "source": [
        "dealscan_compustat_linktable['facstartdate'] = pd.to_datetime(dealscan_compustat_linktable['facstartdate'], format='%Y%m%d')\n",
        "dealscan_compustat_linktable['facstartdate'] = dealscan_compustat_linktable['facstartdate'].dt.year\n"
      ]
    },
    {
      "cell_type": "code",
      "execution_count": 170,
      "metadata": {
        "id": "iIT9MEHjclca"
      },
      "outputs": [
        {
          "data": {
            "text/plain": [
              "\" To be noted, there is some row loss after the Merge onto compustat. I'm unsure why.\\n\\nShouldn't hurt our results too much, when we report the amount of public borrowers, maybe best to\\nreport the lenght of the gvkey_facstartdate df, since some off compustat get lost.\\n\\nHowever overall, the borrower info can still be analyzed. This, is a note to maybe ask the prof.\\n\""
            ]
          },
          "execution_count": 170,
          "metadata": {},
          "output_type": "execute_result"
        }
      ],
      "source": [
        "\n",
        "# ALL our banks facility dataframes IDs - 3 years before\n",
        "## Bank of New York\n",
        "NY_3b_all_facility_IDs = NY_3b_all_facility[\"FACILITYID\"].tolist()\n",
        "NY_3b_lead_facility_IDs = NY_3b_lead_facility[\"FACILITYID\"].tolist()\n",
        "NY_3b_nonlead_facility_IDs = NY_3b_nonlead_facility[\"FACILITYID\"].tolist()\n",
        "## Mellon Bank\n",
        "mellon_3b_all_facility_IDs = mellon_3b_all_facility[\"FACILITYID\"].tolist()\n",
        "mellon_3b_lead_facility_IDs = mellon_3b_lead_facility[\"FACILITYID\"].tolist()\n",
        "mellon_3b_nonlead_facility_IDs = mellon_3b_nonlead_facility[\"FACILITYID\"].tolist()\n",
        "## Both IDs after -> BNY Mellon after merger\n",
        "Both_3a_all_facility_IDs = Both_3a_all_facility[\"FACILITYID\"].tolist()\n",
        "Both_3a_lead_facility_IDs = Both_3a_lead_facility[\"FACILITYID\"].tolist()\n",
        "Both_3a_nonlead_facility_IDs = Both_3a_nonlead_facility[\"FACILITYID\"].tolist()\n",
        "\n",
        "# Linking public firms with Link Table\n",
        "## Bank of New York\n",
        "\n",
        "\n",
        "link_NY_3b_all_facility = dealscan_compustat_linktable[dealscan_compustat_linktable['facid'].isin(NY_3b_all_facility_IDs)]\n",
        "link_NY_3b_lead_facility = dealscan_compustat_linktable[dealscan_compustat_linktable['facid'].isin(NY_3b_lead_facility_IDs)]\n",
        "link_NY_3b_nonlead_facility = dealscan_compustat_linktable[dealscan_compustat_linktable['facid'].isin(NY_3b_nonlead_facility_IDs)]\n",
        "## Mellon Bank\n",
        "link_mellon_3b_all_facility = dealscan_compustat_linktable[dealscan_compustat_linktable['facid'].isin(mellon_3b_all_facility_IDs)]\n",
        "link_mellon_3b_lead_facility = dealscan_compustat_linktable[dealscan_compustat_linktable['facid'].isin(mellon_3b_lead_facility_IDs)]\n",
        "link_mellon_3b_nonlead_facility = dealscan_compustat_linktable[dealscan_compustat_linktable['facid'].isin(mellon_3b_nonlead_facility_IDs)]\n",
        "## Both, after merger BNY Mellon\n",
        "link_Both_3a_all_facility = dealscan_compustat_linktable[dealscan_compustat_linktable['facid'].isin(Both_3a_all_facility_IDs)]\n",
        "link_Both_3a_lead_facility = dealscan_compustat_linktable[dealscan_compustat_linktable['facid'].isin(Both_3a_lead_facility_IDs)]\n",
        "link_Both_3a_nonlead_facility = dealscan_compustat_linktable[dealscan_compustat_linktable['facid'].isin(Both_3a_nonlead_facility_IDs)]\n",
        "\n",
        "# Retreiving a list of GVKEY associated with our pannks\n",
        "## Bank of New York\n",
        "gvkey_NY_3b_all_facility = link_NY_3b_all_facility[\"gvkey\"].tolist()\n",
        "gvkey_NY_3b_lead_facility = link_NY_3b_lead_facility[\"gvkey\"].tolist()\n",
        "gvkey_NY_3b_nonlead_facility = link_NY_3b_nonlead_facility[\"gvkey\"].tolist()\n",
        "## Mellon Bank\n",
        "gvkey_mellon_3b_all_facility = link_mellon_3b_all_facility[\"gvkey\"].tolist()\n",
        "gvkey_mellon_3b_lead_facility = link_mellon_3b_lead_facility[\"gvkey\"].tolist()\n",
        "gvkey_mellon_3b_nonlead_facility = link_mellon_3b_nonlead_facility[\"gvkey\"].tolist()\n",
        "## Both IDs after -> BNY Mellon after merger\n",
        "gvkey_Both_3a_all_facility= link_Both_3a_all_facility[\"gvkey\"].tolist()\n",
        "gvvkey_Both_3a_lead_facility = link_Both_3a_lead_facility[\"gvkey\"].tolist()\n",
        "gvkey_Both_3a_nonlead_facility = link_Both_3a_nonlead_facility[\"gvkey\"].tolist()\n",
        "\n",
        "# Retreiving the respected years\n",
        "# Retreiving a list of GVKEY associated with our pannks\n",
        "## Bank of New York\n",
        "facstartdate_NY_3b_all_facility = link_NY_3b_all_facility[\"facstartdate\"].tolist()\n",
        "facstartdate_NY_3b_lead_facility = link_NY_3b_lead_facility[\"facstartdate\"].tolist()\n",
        "facstartdate_NY_3b_nonlead_facility = link_NY_3b_nonlead_facility[\"facstartdate\"].tolist()\n",
        "## Mellon Bank\n",
        "facstartdate_mellon_3b_all_facility = link_mellon_3b_all_facility[\"facstartdate\"].tolist()\n",
        "facstartdate_mellon_3b_lead_facility = link_mellon_3b_lead_facility[\"facstartdate\"].tolist()\n",
        "facstartdate_mellon_3b_nonlead_facility = link_mellon_3b_nonlead_facility[\"facstartdate\"].tolist()\n",
        "## Both IDs after -> BNY Mellon after merger\n",
        "facstartdate_Both_3a_all_facility = link_Both_3a_all_facility[\"facstartdate\"].tolist()\n",
        "facstartdate_Both_3a_lead_facility = link_Both_3a_lead_facility[\"facstartdate\"].tolist()\n",
        "facstartdate_Both_3a_nonlead_facility = link_Both_3a_nonlead_facility[\"facstartdate\"].tolist()\n",
        "\n",
        "# Retreiving Facid\n",
        "# Retreiving a list of GVKEY associated with our pannks\n",
        "## Bank of New York\n",
        "facid_NY_3b_all_facility = link_NY_3b_all_facility[\"facid\"].tolist()\n",
        "facid__NY_3b_lead_facility = link_NY_3b_lead_facility[\"facid\"].tolist()\n",
        "facid__NY_3b_nonlead_facility = link_NY_3b_nonlead_facility[\"facid\"].tolist()\n",
        "## Mellon Bank\n",
        "facid__mellon_3b_all_facility = link_mellon_3b_all_facility[\"facid\"].tolist()\n",
        "facid__mellon_3b_lead_facility = link_mellon_3b_lead_facility[\"facid\"].tolist()\n",
        "facid__mellon_3b_nonlead_facility = link_mellon_3b_nonlead_facility[\"facid\"].tolist()\n",
        "## Both IDs after -> BNY Mellon after merger\n",
        "facid__Both_3a_all_facility = link_Both_3a_all_facility[\"facid\"].tolist()\n",
        "facid__Both_3a_lead_facility = link_Both_3a_lead_facility[\"facid\"].tolist()\n",
        "facid__Both_3a_nonlead_facility = link_Both_3a_nonlead_facility[\"facid\"].tolist()\n",
        "\n",
        "# Dataframes of GVKEY plus Facility start date, now we can merge with compustate\n",
        "# bny\n",
        "gvkey_facstartdate_NY_3b_all = pd.DataFrame({'GVKEY': gvkey_NY_3b_all_facility, 'FYEAR': facstartdate_NY_3b_all_facility, 'FACILITYID': facid_NY_3b_all_facility})\n",
        "gvkey_facstartdate_NY_3b_lead_facility = pd.DataFrame({'GVKEY': gvkey_NY_3b_lead_facility, 'FYEAR': facstartdate_NY_3b_lead_facility, 'FACILITYID': facid__NY_3b_lead_facility})\n",
        "gvkey_facstartdate_NY_3b_nonlead_facility = pd.DataFrame({'GVKEY': gvkey_NY_3b_nonlead_facility, 'FYEAR': facstartdate_NY_3b_nonlead_facility, 'FACILITYID': facid__NY_3b_nonlead_facility})\n",
        "# mellon bank\n",
        "gvkey_facstartdate_mellon_3b_all = pd.DataFrame({'GVKEY': gvkey_mellon_3b_all_facility, 'FYEAR': facstartdate_mellon_3b_all_facility, 'FACILITYID': facid__mellon_3b_all_facility})\n",
        "gvkey_facstartdate_mellon_3b_lead = pd.DataFrame({'GVKEY': gvkey_mellon_3b_lead_facility, 'FYEAR': facstartdate_mellon_3b_lead_facility, 'FACILITYID': facid__mellon_3b_lead_facility})\n",
        "gvkey_facstartdate_mellon_3b_nonlead= pd.DataFrame({'GVKEY': gvkey_mellon_3b_nonlead_facility, 'FYEAR': facstartdate_mellon_3b_nonlead_facility, 'FACILITYID': facid__mellon_3b_nonlead_facility})\n",
        "# both\n",
        "gvkey_facstartdate_Both_3a_all = pd.DataFrame({'GVKEY': gvkey_Both_3a_all_facility, 'FYEAR': facstartdate_Both_3a_all_facility, 'FACILITYID': facid__Both_3a_all_facility})\n",
        "gvkey_facstartdate_Both_3a_lead = pd.DataFrame({'GVKEY': gvvkey_Both_3a_lead_facility, 'FYEAR': facstartdate_Both_3a_lead_facility, 'FACILITYID': facid__Both_3a_lead_facility})\n",
        "gvkey_facstartdate_Both_3a_nonlead = pd.DataFrame({'GVKEY': gvkey_Both_3a_nonlead_facility, 'FYEAR': facstartdate_Both_3a_nonlead_facility, 'FACILITYID': facid__Both_3a_nonlead_facility})\n",
        "\n",
        "\"\"\" we need to look at borrowers information, 1 year lagged.\n",
        "Thus I'm reducing the Facility start year by 1\n",
        "\"\"\"\n",
        "# Lagged FYEAR, so we have the borrower inbformation the bank was analyzing to give out the loan\n",
        "## Bank of New York\n",
        "gvkey_facstartdate_NY_3b_all[\"FYEAR\"] = gvkey_facstartdate_NY_3b_all[\"FYEAR\"] -1\n",
        "gvkey_facstartdate_NY_3b_lead_facility[\"FYEAR\"] = gvkey_facstartdate_NY_3b_lead_facility[\"FYEAR\"] -1\n",
        "gvkey_facstartdate_NY_3b_nonlead_facility[\"FYEAR\"] = gvkey_facstartdate_NY_3b_nonlead_facility[\"FYEAR\"] -1\n",
        "## Mellon Bank\n",
        "gvkey_facstartdate_mellon_3b_all[\"FYEAR\"] = gvkey_facstartdate_mellon_3b_all[\"FYEAR\"] -1\n",
        "gvkey_facstartdate_mellon_3b_lead[\"FYEAR\"] = gvkey_facstartdate_mellon_3b_lead[\"FYEAR\"] -1\n",
        "gvkey_facstartdate_mellon_3b_nonlead[\"FYEAR\"] = gvkey_facstartdate_mellon_3b_nonlead[\"FYEAR\"] -1\n",
        "# Both\n",
        "gvkey_facstartdate_Both_3a_all[\"FYEAR\"] = gvkey_facstartdate_Both_3a_all[\"FYEAR\"] -1\n",
        "gvkey_facstartdate_Both_3a_lead[\"FYEAR\"] = gvkey_facstartdate_Both_3a_lead[\"FYEAR\"] -1\n",
        "gvkey_facstartdate_Both_3a_nonlead[\"FYEAR\"] = gvkey_facstartdate_Both_3a_nonlead[\"FYEAR\"] -1\n",
        "\n",
        "# # Compustat data on our borrowers\n",
        "# ## Bank of New York\n",
        "public_borrower_NY_3b_all = pd.merge(comp, gvkey_facstartdate_NY_3b_all, on=['GVKEY', 'FYEAR'], how='inner')\n",
        "public_borrower_NY_3b_lead = pd.merge(comp, gvkey_facstartdate_NY_3b_lead_facility, on=['GVKEY', 'FYEAR'], how='inner')\n",
        "public_borrower_NY_3b_nonlead = pd.merge(comp, gvkey_facstartdate_NY_3b_nonlead_facility, on=['GVKEY', 'FYEAR'], how='inner')\n",
        "## Mellon Bank\n",
        "public_borrower_mellon_3b_all = pd.merge(comp, gvkey_facstartdate_mellon_3b_all, on=['GVKEY', 'FYEAR'], how='inner')\n",
        "public_borrower_mellon_3b_lead = pd.merge(comp, gvkey_facstartdate_mellon_3b_lead, on=['GVKEY', 'FYEAR'], how='inner')\n",
        "public_borrower_mellon_3b_nonlead = pd.merge(comp, gvkey_facstartdate_mellon_3b_nonlead, on=['GVKEY', 'FYEAR'], how='inner')\n",
        "# Both\n",
        "public_borrower_Both_3a_all = pd.merge(comp, gvkey_facstartdate_Both_3a_all, on=['GVKEY', 'FYEAR'], how='inner')\n",
        "public_borrower_Both_3a_lead = pd.merge(comp, gvkey_facstartdate_Both_3a_lead, on=['GVKEY', 'FYEAR'], how='inner')\n",
        "public_borrower_Both_3a_nonlead = pd.merge(comp, gvkey_facstartdate_Both_3a_nonlead, on=['GVKEY', 'FYEAR'], how='inner')\n",
        "\"\"\" To be noted, there is some row loss after the Merge onto compustat. I'm unsure why.\n",
        "\n",
        "Shouldn't hurt our results too much, when we report the amount of public borrowers, maybe best to\n",
        "report the lenght of the gvkey_facstartdate df, since some off compustat get lost.\n",
        "\n",
        "However overall, the borrower info can still be analyzed. This, is a note to maybe ask the prof.\n",
        "\"\"\""
      ]
    },
    {
      "cell_type": "markdown",
      "metadata": {
        "id": "3KRK-9J3clcc"
      },
      "source": [
        "**Public Borrowers Analsyis**\n",
        "---\n",
        "lets analyse the public borrowers here. Such as their riskyness.\n"
      ]
    },
    {
      "cell_type": "markdown",
      "metadata": {
        "id": "JsugCGr7clce"
      },
      "source": [
        "**Variable analyis of borrowers and regressions**"
      ]
    },
    {
      "cell_type": "code",
      "execution_count": 171,
      "metadata": {
        "id": "Nt6aEH5Kclcf"
      },
      "outputs": [],
      "source": [
        "# Grouping pricing based off facid\n",
        "pricing_grouped  = pricing.groupby('FACILITYID').first()\n",
        "pricing_grouped = pricing_grouped.dropna()\n",
        "pricing_grouped = pricing_grouped[pricing_grouped['BASERATE'] == 'LIBOR']\n",
        "\n",
        "# Adding pricing grouped to our publicn borrowers\n",
        "## Bank of New York\n",
        "public_borrower_NY_3b_all_merged = public_borrower_NY_3b_all.merge(pricing_grouped, how= \"left\", left_on='FACILITYID', right_on='FACILITYID')\n",
        "public_borrower_NY_3b_lead_merged = public_borrower_NY_3b_lead.merge(pricing_grouped, how= \"left\", left_on='FACILITYID', right_on='FACILITYID')\n",
        "public_borrower_NY_3b_nonlead_merged = public_borrower_NY_3b_nonlead.merge(pricing_grouped, how= \"left\", left_on='FACILITYID', right_on='FACILITYID')\n",
        "## Mellon Bank\n",
        "public_borrower_mellon_3b_all_merged = public_borrower_mellon_3b_all.merge(pricing_grouped, how= \"left\", left_on='FACILITYID', right_on='FACILITYID')\n",
        "public_borrower_mellon_3b_lead_merged = public_borrower_mellon_3b_lead.merge(pricing_grouped, how= \"left\", left_on='FACILITYID', right_on='FACILITYID')\n",
        "public_borrower_mellon_3b_nonlead_merged = public_borrower_mellon_3b_nonlead.merge(pricing_grouped, how= \"left\", left_on='FACILITYID', right_on='FACILITYID')\n",
        "# Both\n",
        "public_borrower_Both_3a_all_merged = public_borrower_Both_3a_all.merge(pricing_grouped, how= \"left\", left_on='FACILITYID', right_on='FACILITYID')\n",
        "public_borrower_Both_3a_lead_merged = public_borrower_Both_3a_lead.merge(pricing_grouped, how= \"left\", left_on='FACILITYID', right_on='FACILITYID')\n",
        "public_borrower_Both_3a_nonlead_merged = public_borrower_Both_3a_nonlead.merge(pricing_grouped, how= \"left\", left_on='FACILITYID', right_on='FACILITYID')"
      ]
    },
    {
      "cell_type": "code",
      "execution_count": 172,
      "metadata": {
        "id": "_k-hcLvoclcf"
      },
      "outputs": [],
      "source": [
        "# variable creation\n",
        "\n",
        "\n",
        "\n",
        "# variable analysis\n"
      ]
    },
    {
      "cell_type": "markdown",
      "metadata": {
        "id": "eX84S5XLclci"
      },
      "source": [
        "**Descriptive analysis of borrowers**\n"
      ]
    },
    {
      "cell_type": "code",
      "execution_count": 173,
      "metadata": {
        "id": "V8xN7rpdclcj"
      },
      "outputs": [
        {
          "data": {
            "text/html": [
              "<div>\n",
              "<style scoped>\n",
              "    .dataframe tbody tr th:only-of-type {\n",
              "        vertical-align: middle;\n",
              "    }\n",
              "\n",
              "    .dataframe tbody tr th {\n",
              "        vertical-align: top;\n",
              "    }\n",
              "\n",
              "    .dataframe thead th {\n",
              "        text-align: right;\n",
              "    }\n",
              "</style>\n",
              "<table border=\"1\" class=\"dataframe\">\n",
              "  <thead>\n",
              "    <tr style=\"text-align: right;\">\n",
              "      <th></th>\n",
              "      <th>Lead/NonLead</th>\n",
              "      <th>Before_Merge</th>\n",
              "      <th>After_Merge</th>\n",
              "    </tr>\n",
              "  </thead>\n",
              "  <tbody>\n",
              "    <tr>\n",
              "      <th>NY</th>\n",
              "      <td>lead_Arranger</td>\n",
              "      <td>43</td>\n",
              "      <td>4</td>\n",
              "    </tr>\n",
              "    <tr>\n",
              "      <th>NY_n</th>\n",
              "      <td>Non_Lead_Arranger</td>\n",
              "      <td>533</td>\n",
              "      <td>69</td>\n",
              "    </tr>\n",
              "    <tr>\n",
              "      <th>Mellon</th>\n",
              "      <td>lead_Arranger</td>\n",
              "      <td>0</td>\n",
              "      <td>4</td>\n",
              "    </tr>\n",
              "    <tr>\n",
              "      <th>Mellon_n</th>\n",
              "      <td>Non_Lead_Arranger</td>\n",
              "      <td>134</td>\n",
              "      <td>69</td>\n",
              "    </tr>\n",
              "  </tbody>\n",
              "</table>\n",
              "</div>"
            ],
            "text/plain": [
              "               Lead/NonLead Before_Merge After_Merge\n",
              "NY            lead_Arranger           43           4\n",
              "NY_n      Non_Lead_Arranger          533          69\n",
              "Mellon        lead_Arranger            0           4\n",
              "Mellon_n  Non_Lead_Arranger          134          69"
            ]
          },
          "metadata": {},
          "output_type": "display_data"
        }
      ],
      "source": [
        "# number of public borrowers\n",
        "number_public_borrower_NY_3b_all=public_borrower_NY_3b_all['GVKEY'].nunique()\n",
        "number_public_borrower_NY_3b_lead=public_borrower_NY_3b_lead['GVKEY'].nunique()\n",
        "number_public_borrower_NY_3b_nonlead=public_borrower_NY_3b_nonlead['GVKEY'].nunique()\n",
        "## Mellon Bank\n",
        "number_public_borrower_mellon_3b_all=public_borrower_mellon_3b_all['GVKEY'].nunique()\n",
        "number_public_borrower_mellon_3b_lead=public_borrower_mellon_3b_lead['GVKEY'].nunique()\n",
        "number_public_borrower_mellon_3b_nonlead=public_borrower_mellon_3b_nonlead['GVKEY'].nunique()\n",
        "# Both\n",
        "number_public_borrower_Both_3a_all=public_borrower_Both_3a_all['GVKEY'].nunique()\n",
        "number_public_borrower_Both_3a_lead=public_borrower_Both_3a_lead['GVKEY'].nunique()\n",
        "number_public_borrower_Both_3a_nonlead=public_borrower_Both_3a_nonlead['GVKEY'].nunique()\n",
        "\n",
        "\n",
        "Number_of_PUBLIC_LEAD = {\n",
        "    \"NY\": ['lead_Arranger',number_public_borrower_NY_3b_lead,number_public_borrower_Both_3a_lead],\n",
        "    \"NY_n\": ['Non_Lead_Arranger',number_public_borrower_NY_3b_nonlead,number_public_borrower_Both_3a_nonlead],\n",
        "    \"Mellon\": ['lead_Arranger',number_public_borrower_mellon_3b_lead,number_public_borrower_Both_3a_lead],\n",
        "    \"Mellon_n\": ['Non_Lead_Arranger',number_public_borrower_mellon_3b_nonlead, number_public_borrower_Both_3a_nonlead],\n",
        "}\n",
        "Number_of_PUBLIC_LEAD = pd.DataFrame(Number_of_PUBLIC_LEAD)\n",
        "Number_of_PUBLIC_LEAD = Number_of_PUBLIC_LEAD.rename(index={0: 'Lead/NonLead', 1: \"Before_Merge\",2:'After_Merge'})\n",
        "Number_of_PUBLIC_LEAD =Number_of_PUBLIC_LEAD.transpose()\n",
        "display(Number_of_PUBLIC_LEAD)"
      ]
    },
    {
      "cell_type": "code",
      "execution_count": 174,
      "metadata": {
        "id": "2aKmKBzBclcn"
      },
      "outputs": [
        {
          "data": {
            "text/html": [
              "<div>\n",
              "<style scoped>\n",
              "    .dataframe tbody tr th:only-of-type {\n",
              "        vertical-align: middle;\n",
              "    }\n",
              "\n",
              "    .dataframe tbody tr th {\n",
              "        vertical-align: top;\n",
              "    }\n",
              "\n",
              "    .dataframe thead th {\n",
              "        text-align: right;\n",
              "    }\n",
              "</style>\n",
              "<table border=\"1\" class=\"dataframe\">\n",
              "  <thead>\n",
              "    <tr style=\"text-align: right;\">\n",
              "      <th></th>\n",
              "      <th>Lead/NonLead</th>\n",
              "      <th>Before_Merge</th>\n",
              "      <th>After_Merge</th>\n",
              "    </tr>\n",
              "  </thead>\n",
              "  <tbody>\n",
              "    <tr>\n",
              "      <th>NY</th>\n",
              "      <td>lead_Arranger</td>\n",
              "      <td>167</td>\n",
              "      <td>11</td>\n",
              "    </tr>\n",
              "    <tr>\n",
              "      <th>NY_n</th>\n",
              "      <td>Non_Lead_Arranger</td>\n",
              "      <td>1123</td>\n",
              "      <td>96</td>\n",
              "    </tr>\n",
              "    <tr>\n",
              "      <th>Mellon</th>\n",
              "      <td>lead_Arranger</td>\n",
              "      <td>0</td>\n",
              "      <td>11</td>\n",
              "    </tr>\n",
              "    <tr>\n",
              "      <th>Mellon_n</th>\n",
              "      <td>Non_Lead_Arranger</td>\n",
              "      <td>215</td>\n",
              "      <td>96</td>\n",
              "    </tr>\n",
              "  </tbody>\n",
              "</table>\n",
              "</div>"
            ],
            "text/plain": [
              "               Lead/NonLead Before_Merge After_Merge\n",
              "NY            lead_Arranger          167          11\n",
              "NY_n      Non_Lead_Arranger         1123          96\n",
              "Mellon        lead_Arranger            0          11\n",
              "Mellon_n  Non_Lead_Arranger          215          96"
            ]
          },
          "metadata": {},
          "output_type": "display_data"
        }
      ],
      "source": [
        "# Number of private borrowers\n",
        "#NY\n",
        "number_private_borrower_NY_3b_lead=NYLEAD_facility_befor-number_public_borrower_NY_3b_lead\n",
        "number_private_borrower_NY_3b_nonlead=NYNLEAD_facility_befor-number_public_borrower_NY_3b_nonlead\n",
        "## Mellon Bank\n",
        "number_private_borrower_mellon_3b_lead=MelLEAD_facility_befor-number_public_borrower_mellon_3b_lead\n",
        "number_private_borrower_mellon_3b_nonlead=MelNLEAD_facility_befor-number_public_borrower_mellon_3b_nonlead\n",
        "# Both\n",
        "\n",
        "number_private_borrower_Both_3a_lead=After_Facility_Lead-number_public_borrower_Both_3a_lead\n",
        "number_private_borrower_Both_3a_nonlead=After_Facility_NLead-number_public_borrower_Both_3a_nonlead\n",
        "\n",
        "Number_of_Private_LEAD = {\n",
        "    \"NY\": ['lead_Arranger',number_private_borrower_NY_3b_lead,number_private_borrower_Both_3a_lead],\n",
        "    \"NY_n\": ['Non_Lead_Arranger',number_private_borrower_NY_3b_nonlead,number_private_borrower_Both_3a_nonlead],\n",
        "    \"Mellon\": ['lead_Arranger',number_private_borrower_mellon_3b_lead,number_private_borrower_Both_3a_lead],\n",
        "    \"Mellon_n\": ['Non_Lead_Arranger',number_private_borrower_mellon_3b_nonlead, number_private_borrower_Both_3a_nonlead],\n",
        "}\n",
        "Number_of_Private_LEAD = pd.DataFrame(Number_of_Private_LEAD)\n",
        "Number_of_Private_LEAD = Number_of_Private_LEAD.rename(index={0: 'Lead/NonLead', 1: \"Before_Merge\",2:'After_Merge'})\n",
        "Number_of_Private_LEAD =Number_of_Private_LEAD.transpose()\n",
        "display(Number_of_Private_LEAD)"
      ]
    },
    {
      "cell_type": "markdown",
      "metadata": {
        "id": "fb0i1ErAclco"
      },
      "source": [
        "**Voting and ISS Rec analysis**\n",
        "---\n",
        "\n",
        "\"\"\"\n",
        "Iddentify the relevant meeting in the given time [2004-6] ...2008-10\n",
        "\n",
        "look at what happens in these .........\n",
        "\n",
        "    LOOK AT MEETING DATA,\n",
        "\n",
        "    sh sponsore or manager\n",
        "\n",
        "    look at % votedd against, that tells us sh actvivism... this is only manageer activist\n",
        "\n",
        "    sh proposoal we can se ehow many past, do they fail by alot or close call\n",
        "\n",
        "thats enough\n",
        "\n",
        "sh more or less invovelved post merger"
      ]
    },
    {
      "cell_type": "code",
      "execution_count": 175,
      "metadata": {
        "id": "ahv4sCiCclcp"
      },
      "outputs": [],
      "source": [
        "# Our 2 dataframes with voting data\n",
        "\n",
        "voting_results = pd.read_csv('voting_results.csv', encoding='ISO-8859-1')\n",
        "iss_recommendations = pd.read_csv('iss_recommendations.csv', encoding='ISO-8859-1')\n",
        "# merging the 2 on MeetingID, ISSAgendaID, itenonAgendaID .\n",
        "voting_iss_rec = pd.merge(voting_results, iss_recommendations[['MeetingID', 'ISSAgendaItemID', 'itemOnAgendaID', 'ISSrec']], on=['MeetingID', 'ISSAgendaItemID', 'itemOnAgendaID'], how='left')\n",
        "\n",
        "# Compressing the Bank names, since they have multiple versions\n",
        "\"\"\"\"\n",
        "Post-merger:\n",
        "    BNY Mellon\n",
        "\n",
        "Pre-merger:\n",
        "    Mellon Bank: Mellon Financial Corp.\n",
        "    Bank of New York: BNY Mellon -> because bny name got updated after merger\n",
        "\"\"\"\n",
        "banks_to_replace = ['The Bank of New York Mellon Corporation',\n",
        "                    'THE BANK OF NEW YORK MELLON CORPORATION',\n",
        "                    'The Bank of New York Mellon Corp.',\n",
        "                    'BNY Mellon Strategic Municipals, Inc.',\n",
        "                    'BNY Mellon Investment Funds IV, Inc.',\n",
        "                    'BNY Mellon Municipal Income, Inc.',\n",
        "                    'BNY Mellon Strategic Municipal Bond Fund, Inc.',\n",
        "                    'BNY Mellon High Yield Strategies Fund',\n",
        "                    'BNY Mellon Funds Trust',\n",
        "                    'BNY Mellon Municipal Bond Infrastructure Fund, Inc.',\n",
        "                    'BNY Mellon Alcentra Global Credit Income 2024 Target Term Fd I',\n",
        "                    'Bny Mellon Growth & Income Fund Inc.']\n",
        "\n",
        "voting_iss_rec['Name'] = voting_iss_rec['Name'].replace(banks_to_replace, 'BNY Mellon')\n",
        "\n",
        "# MeetingDate\n",
        "voting_iss_rec['MeetingDate'] = pd.to_datetime(voting_iss_rec['MeetingDate'], format='%Y%m%d')\n",
        "before_start_date = pd.to_datetime('2004-01-01')\n",
        "before_end_date = pd.to_datetime('2006-12-31')\n",
        "# merger 2007, bench mark year\n",
        "after_start_date = pd.to_datetime('2008-01-01')\n",
        "after_end_date = pd.to_datetime('2010-12-31')\n",
        "\n",
        "# Splitting the voting results by year\n",
        "## Before [2004 - 2006]\n",
        "voting_iss_rec_before = voting_iss_rec[(voting_iss_rec['MeetingDate'] >= before_start_date) & (voting_iss_rec['MeetingDate'] <= before_end_date)]\n",
        "## After [2008-2010]\n",
        "voting_iss_rec_after = voting_iss_rec[(voting_iss_rec['MeetingDate'] >= after_start_date) & (voting_iss_rec['MeetingDate'] <= after_end_date)]\n",
        "\n",
        "# Selecting voting results that had our banks\n",
        "bank_of_ny_voting_before = voting_iss_rec_before.loc[voting_iss_rec_before[\"Name\"] == \"BNY Mellon\"]\n",
        "mellon_bank_voting_before = voting_iss_rec_before.loc[voting_iss_rec_before[\"Name\"] == \"Mellon Financial Corp.\"]\n",
        "BNY_mellon_voting_after =  voting_iss_rec_after.loc[voting_iss_rec_after[\"Name\"] == \"BNY Mellon\"]"
      ]
    },
    {
      "cell_type": "code",
      "execution_count": 176,
      "metadata": {
        "id": "XzgRie_4clcq"
      },
      "outputs": [
        {
          "name": "stdout",
          "output_type": "stream",
          "text": [
            "Time-series comparason of management and shareholder sponsor\n"
          ]
        },
        {
          "data": {
            "text/html": [
              "<div>\n",
              "<style scoped>\n",
              "    .dataframe tbody tr th:only-of-type {\n",
              "        vertical-align: middle;\n",
              "    }\n",
              "\n",
              "    .dataframe tbody tr th {\n",
              "        vertical-align: top;\n",
              "    }\n",
              "\n",
              "    .dataframe thead th {\n",
              "        text-align: right;\n",
              "    }\n",
              "</style>\n",
              "<table border=\"1\" class=\"dataframe\">\n",
              "  <thead>\n",
              "    <tr style=\"text-align: right;\">\n",
              "      <th></th>\n",
              "      <th>BNY Total Count</th>\n",
              "      <th>BNY Likelyhood</th>\n",
              "      <th>BNY Mellon Total Count</th>\n",
              "      <th>BNY Mellon Likelyhood</th>\n",
              "      <th>t-test</th>\n",
              "      <th>p-value</th>\n",
              "    </tr>\n",
              "  </thead>\n",
              "  <tbody>\n",
              "    <tr>\n",
              "      <th>Management</th>\n",
              "      <td>46</td>\n",
              "      <td>0.851852</td>\n",
              "      <td>56</td>\n",
              "      <td>0.888889</td>\n",
              "      <td>-0.593157</td>\n",
              "      <td>0.554241</td>\n",
              "    </tr>\n",
              "    <tr>\n",
              "      <th>Shareholder</th>\n",
              "      <td>8</td>\n",
              "      <td>0.148148</td>\n",
              "      <td>7</td>\n",
              "      <td>0.111111</td>\n",
              "      <td>0.593157</td>\n",
              "      <td>0.554241</td>\n",
              "    </tr>\n",
              "  </tbody>\n",
              "</table>\n",
              "</div>"
            ],
            "text/plain": [
              "             BNY Total Count  BNY Likelyhood  BNY Mellon Total Count  \\\n",
              "Management                46        0.851852                      56   \n",
              "Shareholder                8        0.148148                       7   \n",
              "\n",
              "             BNY Mellon Likelyhood    t-test   p-value  \n",
              "Management                0.888889 -0.593157  0.554241  \n",
              "Shareholder               0.111111  0.593157  0.554241  "
            ]
          },
          "metadata": {},
          "output_type": "display_data"
        },
        {
          "name": "stdout",
          "output_type": "stream",
          "text": [
            "cross-section sponsors comparasing Mellon Bank and BNY mellon\n"
          ]
        },
        {
          "data": {
            "text/html": [
              "<div>\n",
              "<style scoped>\n",
              "    .dataframe tbody tr th:only-of-type {\n",
              "        vertical-align: middle;\n",
              "    }\n",
              "\n",
              "    .dataframe tbody tr th {\n",
              "        vertical-align: top;\n",
              "    }\n",
              "\n",
              "    .dataframe thead th {\n",
              "        text-align: right;\n",
              "    }\n",
              "</style>\n",
              "<table border=\"1\" class=\"dataframe\">\n",
              "  <thead>\n",
              "    <tr style=\"text-align: right;\">\n",
              "      <th></th>\n",
              "      <th>Mellon Total Count</th>\n",
              "      <th>Mellon Likelyhood</th>\n",
              "      <th>BNY Mellon Total Count</th>\n",
              "      <th>BNY Mellon Likelyhood</th>\n",
              "      <th>t-test</th>\n",
              "      <th>p-value</th>\n",
              "    </tr>\n",
              "  </thead>\n",
              "  <tbody>\n",
              "    <tr>\n",
              "      <th>Management</th>\n",
              "      <td>20</td>\n",
              "      <td>0.952381</td>\n",
              "      <td>56</td>\n",
              "      <td>0.888889</td>\n",
              "      <td>0.851859</td>\n",
              "      <td>0.396773</td>\n",
              "    </tr>\n",
              "    <tr>\n",
              "      <th>Shareholder</th>\n",
              "      <td>1</td>\n",
              "      <td>0.047619</td>\n",
              "      <td>7</td>\n",
              "      <td>0.111111</td>\n",
              "      <td>-0.851859</td>\n",
              "      <td>0.396773</td>\n",
              "    </tr>\n",
              "  </tbody>\n",
              "</table>\n",
              "</div>"
            ],
            "text/plain": [
              "             Mellon Total Count  Mellon Likelyhood  BNY Mellon Total Count  \\\n",
              "Management                   20           0.952381                      56   \n",
              "Shareholder                   1           0.047619                       7   \n",
              "\n",
              "             BNY Mellon Likelyhood    t-test   p-value  \n",
              "Management                0.888889  0.851859  0.396773  \n",
              "Shareholder               0.111111 -0.851859  0.396773  "
            ]
          },
          "metadata": {},
          "output_type": "display_data"
        }
      ],
      "source": [
        "# Voting Analysis\n",
        "bank_of_ny_voting_before\n",
        "mellon_bank_voting_before\n",
        "BNY_mellon_voting_after\n",
        "\n",
        "\"\"\"proposal sponsor analysis, management versus shareholder\"\"\"\n",
        "\n",
        "# Proposal sponsor Management or Shareholder\n",
        "## Bank of New York before merger\n",
        "management_count_ny_before = bank_of_ny_voting_before[\"sponsor\"].value_counts()[\"Management\"]\n",
        "management_likelyhood_ny_before = likelihood_function(bank_of_ny_voting_before, \"sponsor\",\"Management\" )\n",
        "shareholder__count_ny_before = bank_of_ny_voting_before[\"sponsor\"].value_counts()[\"Shareholder\"]\n",
        "shareholder_likelyhood_ny_before = likelihood_function(bank_of_ny_voting_before, \"sponsor\",\"Shareholder\" )\n",
        "\n",
        "## Mellon Bank before merger\n",
        "management_count_mellon_before = mellon_bank_voting_before[\"sponsor\"].value_counts()[\"Management\"]\n",
        "management_likelyhood_mellon_before = likelihood_function(mellon_bank_voting_before, \"sponsor\",\"Management\" )\n",
        "shareholder__count_mellon_before = mellon_bank_voting_before[\"sponsor\"].value_counts()[\"Shareholder\"]\n",
        "shareholder_likelyhood_mellon_before = likelihood_function(mellon_bank_voting_before, \"sponsor\",\"Shareholder\" )\n",
        "\n",
        "## BNY Mellon after merger\n",
        "management_count_BNY_Mellon_after = BNY_mellon_voting_after[\"sponsor\"].value_counts()[\"Management\"]\n",
        "management_likelyhood_BNY_Mellon_after = likelihood_function(BNY_mellon_voting_after, \"sponsor\",\"Management\" )\n",
        "shareholder__count_BNY_Mellon_after = BNY_mellon_voting_after[\"sponsor\"].value_counts()[\"Shareholder\"]\n",
        "shareholder_likelyhood_BNY_Mellon_after = likelihood_function(BNY_mellon_voting_after, \"sponsor\",\"Shareholder\" )\n",
        "\n",
        "# Sponsor t-tests\n",
        "timeseries_management_sponsor_t_test = T_test_dummies(bank_of_ny_voting_before,BNY_mellon_voting_after, \"sponsor\",\"Management\")\n",
        "timeseries_shareholder_sponsor_t_test = T_test_dummies(bank_of_ny_voting_before,BNY_mellon_voting_after, \"sponsor\",\"Shareholder\")\n",
        "cross_section_management_sponsor_t_test = T_test_dummies(mellon_bank_voting_before,BNY_mellon_voting_after, \"sponsor\",\"Management\")\n",
        "cross_section_shareholder_sponsor_t_test = T_test_dummies(mellon_bank_voting_before,BNY_mellon_voting_after, \"sponsor\",\"Shareholder\")\n",
        "\n",
        "\n",
        "# time series comparason of management and shareholder sponsor\n",
        "print(f\"Time-series comparason of management and shareholder sponsor\")\n",
        "sponsor_timeseries_data = {\n",
        "    \"BNY Total Count\": [management_count_ny_before, shareholder__count_ny_before],\n",
        "    \"BNY Likelyhood\": [management_likelyhood_ny_before, shareholder_likelyhood_ny_before],\n",
        "    \"BNY Mellon Total Count\": [management_count_BNY_Mellon_after, shareholder__count_BNY_Mellon_after],\n",
        "    \"BNY Mellon Likelyhood\": [management_likelyhood_BNY_Mellon_after, shareholder_likelyhood_BNY_Mellon_after],\n",
        "    \"t-test\": [timeseries_management_sponsor_t_test[0], timeseries_shareholder_sponsor_t_test[0]],\n",
        "    \"p-value\": [timeseries_management_sponsor_t_test[1], timeseries_shareholder_sponsor_t_test[1]],\n",
        "}\n",
        "Sponsor_table_timeseries = pd.DataFrame(sponsor_timeseries_data, index=[\"Management\", \"Shareholder\"])\n",
        "display(Sponsor_table_timeseries)\n",
        "\n",
        "# cross sectional comparason of management and shareholder sponsors\n",
        "print(f\"cross-section sponsors comparasing Mellon Bank and BNY mellon\")\n",
        "sponsor_cross_section_data = {\n",
        "    \"Mellon Total Count\": [management_count_mellon_before, shareholder__count_mellon_before],\n",
        "    \"Mellon Likelyhood\": [management_likelyhood_mellon_before, shareholder_likelyhood_mellon_before],\n",
        "    \"BNY Mellon Total Count\": [management_count_BNY_Mellon_after, shareholder__count_BNY_Mellon_after],\n",
        "    \"BNY Mellon Likelyhood\": [management_likelyhood_BNY_Mellon_after, shareholder_likelyhood_BNY_Mellon_after],\n",
        "    \"t-test\": [cross_section_management_sponsor_t_test[0], cross_section_shareholder_sponsor_t_test[0]],\n",
        "    \"p-value\": [cross_section_management_sponsor_t_test[1], cross_section_shareholder_sponsor_t_test[1]],\n",
        "}\n",
        "Sponsor_table_cross_section = pd.DataFrame(sponsor_cross_section_data, index=[\"Management\", \"Shareholder\"])\n",
        "display(Sponsor_table_cross_section)\n"
      ]
    },
    {
      "cell_type": "code",
      "execution_count": 177,
      "metadata": {
        "id": "iMe4bth9mrxV"
      },
      "outputs": [
        {
          "name": "stdout",
          "output_type": "stream",
          "text": [
            "Bank of New York's Agenda Before Merger\n"
          ]
        },
        {
          "data": {
            "text/html": [
              "<div>\n",
              "<style scoped>\n",
              "    .dataframe tbody tr th:only-of-type {\n",
              "        vertical-align: middle;\n",
              "    }\n",
              "\n",
              "    .dataframe tbody tr th {\n",
              "        vertical-align: top;\n",
              "    }\n",
              "\n",
              "    .dataframe thead th {\n",
              "        text-align: right;\n",
              "    }\n",
              "</style>\n",
              "<table border=\"1\" class=\"dataframe\">\n",
              "  <thead>\n",
              "    <tr style=\"text-align: right;\">\n",
              "      <th></th>\n",
              "      <th>Agenda Description</th>\n",
              "      <th>BNY Votes</th>\n",
              "      <th>BNY Likelyhood</th>\n",
              "    </tr>\n",
              "  </thead>\n",
              "  <tbody>\n",
              "    <tr>\n",
              "      <th>0</th>\n",
              "      <td>Elect Director</td>\n",
              "      <td>42</td>\n",
              "      <td>0.777778</td>\n",
              "    </tr>\n",
              "    <tr>\n",
              "      <th>1</th>\n",
              "      <td>Ratify X as Auditors</td>\n",
              "      <td>3</td>\n",
              "      <td>0.055556</td>\n",
              "    </tr>\n",
              "    <tr>\n",
              "      <th>2</th>\n",
              "      <td>Restore or Provide for Cumulative Voting</td>\n",
              "      <td>2</td>\n",
              "      <td>0.037037</td>\n",
              "    </tr>\n",
              "    <tr>\n",
              "      <th>3</th>\n",
              "      <td>Approve/Amend Executive Incentive Bonus Plan</td>\n",
              "      <td>1</td>\n",
              "      <td>0.018519</td>\n",
              "    </tr>\n",
              "    <tr>\n",
              "      <th>4</th>\n",
              "      <td>Political Contributions Disclosure</td>\n",
              "      <td>1</td>\n",
              "      <td>0.018519</td>\n",
              "    </tr>\n",
              "  </tbody>\n",
              "</table>\n",
              "</div>"
            ],
            "text/plain": [
              "                             Agenda Description  BNY Votes  BNY Likelyhood\n",
              "0                                Elect Director         42        0.777778\n",
              "1                          Ratify X as Auditors          3        0.055556\n",
              "2      Restore or Provide for Cumulative Voting          2        0.037037\n",
              "3  Approve/Amend Executive Incentive Bonus Plan          1        0.018519\n",
              "4            Political Contributions Disclosure          1        0.018519"
            ]
          },
          "metadata": {},
          "output_type": "display_data"
        },
        {
          "name": "stdout",
          "output_type": "stream",
          "text": [
            "\n",
            "Mellon Bank's Agenda Before Merger\n"
          ]
        },
        {
          "data": {
            "text/html": [
              "<div>\n",
              "<style scoped>\n",
              "    .dataframe tbody tr th:only-of-type {\n",
              "        vertical-align: middle;\n",
              "    }\n",
              "\n",
              "    .dataframe tbody tr th {\n",
              "        vertical-align: top;\n",
              "    }\n",
              "\n",
              "    .dataframe thead th {\n",
              "        text-align: right;\n",
              "    }\n",
              "</style>\n",
              "<table border=\"1\" class=\"dataframe\">\n",
              "  <thead>\n",
              "    <tr style=\"text-align: right;\">\n",
              "      <th></th>\n",
              "      <th>Agenda Description</th>\n",
              "      <th>Mellon Votes</th>\n",
              "      <th>BNY Likelyhood</th>\n",
              "    </tr>\n",
              "  </thead>\n",
              "  <tbody>\n",
              "    <tr>\n",
              "      <th>0</th>\n",
              "      <td>Elect Director</td>\n",
              "      <td>15</td>\n",
              "      <td>0.714286</td>\n",
              "    </tr>\n",
              "    <tr>\n",
              "      <th>1</th>\n",
              "      <td>Ratify X as Auditors</td>\n",
              "      <td>3</td>\n",
              "      <td>0.142857</td>\n",
              "    </tr>\n",
              "    <tr>\n",
              "      <th>2</th>\n",
              "      <td>Amend Omnibus Stock Plan</td>\n",
              "      <td>1</td>\n",
              "      <td>0.047619</td>\n",
              "    </tr>\n",
              "    <tr>\n",
              "      <th>3</th>\n",
              "      <td>Approve Non-Employee Director Restricted Stock...</td>\n",
              "      <td>1</td>\n",
              "      <td>0.047619</td>\n",
              "    </tr>\n",
              "    <tr>\n",
              "      <th>4</th>\n",
              "      <td>Amend Vote Requirements to Amend Articles/Byla...</td>\n",
              "      <td>1</td>\n",
              "      <td>0.047619</td>\n",
              "    </tr>\n",
              "  </tbody>\n",
              "</table>\n",
              "</div>"
            ],
            "text/plain": [
              "                                  Agenda Description  Mellon Votes  \\\n",
              "0                                     Elect Director            15   \n",
              "1                               Ratify X as Auditors             3   \n",
              "2                           Amend Omnibus Stock Plan             1   \n",
              "3  Approve Non-Employee Director Restricted Stock...             1   \n",
              "4  Amend Vote Requirements to Amend Articles/Byla...             1   \n",
              "\n",
              "   BNY Likelyhood  \n",
              "0        0.714286  \n",
              "1        0.142857  \n",
              "2        0.047619  \n",
              "3        0.047619  \n",
              "4        0.047619  "
            ]
          },
          "metadata": {},
          "output_type": "display_data"
        },
        {
          "name": "stdout",
          "output_type": "stream",
          "text": [
            "\n",
            "BNY Mellon's Agenda After Merger\n"
          ]
        },
        {
          "data": {
            "text/html": [
              "<div>\n",
              "<style scoped>\n",
              "    .dataframe tbody tr th:only-of-type {\n",
              "        vertical-align: middle;\n",
              "    }\n",
              "\n",
              "    .dataframe tbody tr th {\n",
              "        vertical-align: top;\n",
              "    }\n",
              "\n",
              "    .dataframe thead th {\n",
              "        text-align: right;\n",
              "    }\n",
              "</style>\n",
              "<table border=\"1\" class=\"dataframe\">\n",
              "  <thead>\n",
              "    <tr style=\"text-align: right;\">\n",
              "      <th></th>\n",
              "      <th>Agenda Description</th>\n",
              "      <th>BNY Mellon Votes</th>\n",
              "      <th>BNY Likelyhood</th>\n",
              "    </tr>\n",
              "  </thead>\n",
              "  <tbody>\n",
              "    <tr>\n",
              "      <th>0</th>\n",
              "      <td>Elect Director</td>\n",
              "      <td>48</td>\n",
              "      <td>0.761905</td>\n",
              "    </tr>\n",
              "    <tr>\n",
              "      <th>1</th>\n",
              "      <td>Ratify X as Auditors</td>\n",
              "      <td>3</td>\n",
              "      <td>0.047619</td>\n",
              "    </tr>\n",
              "    <tr>\n",
              "      <th>2</th>\n",
              "      <td>Restore or Provide for Cumulative Voting</td>\n",
              "      <td>3</td>\n",
              "      <td>0.047619</td>\n",
              "    </tr>\n",
              "    <tr>\n",
              "      <th>3</th>\n",
              "      <td>Advisory Vote to Ratify Named Executive Office...</td>\n",
              "      <td>3</td>\n",
              "      <td>0.047619</td>\n",
              "    </tr>\n",
              "    <tr>\n",
              "      <th>4</th>\n",
              "      <td>Stock Retention/Holding Period</td>\n",
              "      <td>2</td>\n",
              "      <td>0.031746</td>\n",
              "    </tr>\n",
              "  </tbody>\n",
              "</table>\n",
              "</div>"
            ],
            "text/plain": [
              "                                  Agenda Description  BNY Mellon Votes  \\\n",
              "0                                     Elect Director                48   \n",
              "1                               Ratify X as Auditors                 3   \n",
              "2           Restore or Provide for Cumulative Voting                 3   \n",
              "3  Advisory Vote to Ratify Named Executive Office...                 3   \n",
              "4                     Stock Retention/Holding Period                 2   \n",
              "\n",
              "   BNY Likelyhood  \n",
              "0        0.761905  \n",
              "1        0.047619  \n",
              "2        0.047619  \n",
              "3        0.047619  \n",
              "4        0.031746  "
            ]
          },
          "metadata": {},
          "output_type": "display_data"
        },
        {
          "name": "stdout",
          "output_type": "stream",
          "text": [
            "Since we see that, voting agenda are mainly for Electing Directors, we did further analysis to see the time series and cross sectional differences in director electing is statistically significant\n",
            "Time-series comparison of votes regarding Director Elections\n"
          ]
        },
        {
          "data": {
            "text/html": [
              "<div>\n",
              "<style scoped>\n",
              "    .dataframe tbody tr th:only-of-type {\n",
              "        vertical-align: middle;\n",
              "    }\n",
              "\n",
              "    .dataframe tbody tr th {\n",
              "        vertical-align: top;\n",
              "    }\n",
              "\n",
              "    .dataframe thead th {\n",
              "        text-align: right;\n",
              "    }\n",
              "</style>\n",
              "<table border=\"1\" class=\"dataframe\">\n",
              "  <thead>\n",
              "    <tr style=\"text-align: right;\">\n",
              "      <th></th>\n",
              "      <th>BNY Votes to Elect Director</th>\n",
              "      <th>BNY Likelyhood to Elect Director</th>\n",
              "      <th>BNY Mellon to Elect Director</th>\n",
              "      <th>BNY Mellon Likelyhood to Elect Director</th>\n",
              "      <th>t-test</th>\n",
              "      <th>p-value</th>\n",
              "    </tr>\n",
              "  </thead>\n",
              "  <tbody>\n",
              "    <tr>\n",
              "      <th>Voting Agenda</th>\n",
              "      <td>42</td>\n",
              "      <td>0.777778</td>\n",
              "      <td>48</td>\n",
              "      <td>0.761905</td>\n",
              "      <td>0.201442</td>\n",
              "      <td>0.840709</td>\n",
              "    </tr>\n",
              "  </tbody>\n",
              "</table>\n",
              "</div>"
            ],
            "text/plain": [
              "               BNY Votes to Elect Director  BNY Likelyhood to Elect Director  \\\n",
              "Voting Agenda                           42                          0.777778   \n",
              "\n",
              "               BNY Mellon to Elect Director  \\\n",
              "Voting Agenda                            48   \n",
              "\n",
              "               BNY Mellon Likelyhood to Elect Director    t-test   p-value  \n",
              "Voting Agenda                                 0.761905  0.201442  0.840709  "
            ]
          },
          "metadata": {},
          "output_type": "display_data"
        },
        {
          "name": "stdout",
          "output_type": "stream",
          "text": [
            "Cross-sectional comparison of votes regarding Director Elections\n"
          ]
        },
        {
          "data": {
            "text/html": [
              "<div>\n",
              "<style scoped>\n",
              "    .dataframe tbody tr th:only-of-type {\n",
              "        vertical-align: middle;\n",
              "    }\n",
              "\n",
              "    .dataframe tbody tr th {\n",
              "        vertical-align: top;\n",
              "    }\n",
              "\n",
              "    .dataframe thead th {\n",
              "        text-align: right;\n",
              "    }\n",
              "</style>\n",
              "<table border=\"1\" class=\"dataframe\">\n",
              "  <thead>\n",
              "    <tr style=\"text-align: right;\">\n",
              "      <th></th>\n",
              "      <th>Mellon Bank Votes to Elect Director</th>\n",
              "      <th>Mellon Bank's Likelyhood to Elect Director</th>\n",
              "      <th>BNY Mellon to Elect Director</th>\n",
              "      <th>BNY Mellon Likelyhood to Elect Director</th>\n",
              "      <th>t-test</th>\n",
              "      <th>p-value</th>\n",
              "    </tr>\n",
              "  </thead>\n",
              "  <tbody>\n",
              "    <tr>\n",
              "      <th>Voting Agenda</th>\n",
              "      <td>15</td>\n",
              "      <td>0.714286</td>\n",
              "      <td>48</td>\n",
              "      <td>0.761905</td>\n",
              "      <td>-0.431699</td>\n",
              "      <td>0.667093</td>\n",
              "    </tr>\n",
              "  </tbody>\n",
              "</table>\n",
              "</div>"
            ],
            "text/plain": [
              "               Mellon Bank Votes to Elect Director  \\\n",
              "Voting Agenda                                   15   \n",
              "\n",
              "               Mellon Bank's Likelyhood to Elect Director  \\\n",
              "Voting Agenda                                    0.714286   \n",
              "\n",
              "               BNY Mellon to Elect Director  \\\n",
              "Voting Agenda                            48   \n",
              "\n",
              "               BNY Mellon Likelyhood to Elect Director    t-test   p-value  \n",
              "Voting Agenda                                 0.761905 -0.431699  0.667093  "
            ]
          },
          "metadata": {},
          "output_type": "display_data"
        }
      ],
      "source": [
        "\"\"\" Analyzing agenda descriptions\"\"\"\n",
        "# Agenda description, \"what the meeting is for, to elect director, etc\"\n",
        "ny_agenda_before = bank_of_ny_voting_before[\"AgendaGeneralDesc\"].value_counts()\n",
        "ny_agenda_before = ny_agenda_before.head(5)\n",
        "mellon_agenda_before = mellon_bank_voting_before[\"AgendaGeneralDesc\"].value_counts()\n",
        "mellon_agenda_before = mellon_agenda_before.head(5)\n",
        "bny_mellon_agenda_after = BNY_mellon_voting_after[\"AgendaGeneralDesc\"].value_counts()\n",
        "bny_mellon_agenda_after = bny_mellon_agenda_after.head(5)\n",
        "\n",
        "\"\"\"Agenda description analyiss\"\"\"\n",
        "# Agenda description tables\n",
        "## Bank of New York agenda tale before merger\n",
        "ny_agenda_table = pd.DataFrame({\n",
        "    \"Agenda Description\": ny_agenda_before.index,\n",
        "    \"BNY Votes\": ny_agenda_before.values,\n",
        "    \"BNY Likelyhood\": ny_agenda_before.values / bank_of_ny_voting_before[\"AgendaGeneralDesc\"].count()\n",
        "})\n",
        "print(\"Bank of New York's Agenda Before Merger\")\n",
        "display(ny_agenda_table.head(5))\n",
        "\n",
        "\n",
        "## Mellon Bank before merger\n",
        "mellon_angenda_table = pd.DataFrame({\n",
        "    \"Agenda Description\": mellon_agenda_before.index,\n",
        "    \"Mellon Votes\": mellon_agenda_before.values,\n",
        "    \"BNY Likelyhood\": mellon_agenda_before.values / mellon_bank_voting_before[\"AgendaGeneralDesc\"].count()\n",
        "})\n",
        "print(\"\\nMellon Bank's Agenda Before Merger\")\n",
        "display(mellon_angenda_table.head(5))\n",
        "\n",
        "## BNY Mellon after merger\n",
        "bny_mellon__agenda_table = pd.DataFrame({\n",
        "    \"Agenda Description\": bny_mellon_agenda_after.index,\n",
        "    \"BNY Mellon Votes\": bny_mellon_agenda_after.values,\n",
        "    \"BNY Likelyhood\": bny_mellon_agenda_after.values / BNY_mellon_voting_after[\"AgendaGeneralDesc\"].count()\n",
        "})\n",
        "print(\"\\nBNY Mellon's Agenda After Merger\")\n",
        "display(bny_mellon__agenda_table.head(5))\n",
        "\n",
        "x = BNY_mellon_voting_after[\"AgendaGeneralDesc\"].value_counts(\"Elect Director\")\n",
        "x\n",
        "bank_of_ny_voting_before[\"AgendaGeneralDesc\"].str.contains(\"Elect Director\").sum()\n",
        "# T-test for differences\n",
        "print(\"Since we see that, voting agenda are mainly for Electing Directors, we did further analysis to see the time series and cross sectional differences in director electing is statistically significant\")\n",
        "timeseries_agenda_t_test = T_test_dummies(bank_of_ny_voting_before,BNY_mellon_voting_after, \"AgendaGeneralDesc\",\"Elect Director\")\n",
        "cross_section_agenda_t_test = T_test_dummies(mellon_bank_voting_before,BNY_mellon_voting_after, \"AgendaGeneralDesc\",\"Elect Director\")\n",
        "\n",
        "# Time series comparison of director elections\n",
        "print(f\"Time-series comparison of votes regarding Director Elections\")\n",
        "elect_director_timeseries_data = {\n",
        "    \"BNY Votes to Elect Director\": [bank_of_ny_voting_before[\"AgendaGeneralDesc\"].str.contains(\"Elect Director\").sum()],\n",
        "    \"BNY Likelyhood to Elect Director\": [bank_of_ny_voting_before[\"AgendaGeneralDesc\"].str.contains(\"Elect Director\").sum() / bank_of_ny_voting_before[\"AgendaGeneralDesc\"].count() ],\n",
        "    \"BNY Mellon to Elect Director\": [BNY_mellon_voting_after[\"AgendaGeneralDesc\"].str.contains(\"Elect Director\").sum()],\n",
        "    \"BNY Mellon Likelyhood to Elect Director\": [BNY_mellon_voting_after[\"AgendaGeneralDesc\"].str.contains(\"Elect Director\").sum() /  BNY_mellon_voting_after[\"AgendaGeneralDesc\"].count()],\n",
        "    \"t-test\": [timeseries_agenda_t_test[0]],\n",
        "    \"p-value\": [timeseries_agenda_t_test[1]],\n",
        "}\n",
        "\n",
        "elect_director_table_timeseries = pd.DataFrame(elect_director_timeseries_data, index=[\"Voting Agenda\"])\n",
        "display(elect_director_table_timeseries)\n",
        "\n",
        "# Cross-sectional comparison of director elections\n",
        "print(f\"Cross-sectional comparison of votes regarding Director Elections\")\n",
        "elect_director_cross_sectional_data = {\n",
        "    \"Mellon Bank Votes to Elect Director\": [mellon_bank_voting_before[\"AgendaGeneralDesc\"].str.contains(\"Elect Director\").sum()],\n",
        "    \"Mellon Bank's Likelyhood to Elect Director\": [mellon_bank_voting_before[\"AgendaGeneralDesc\"].str.contains(\"Elect Director\").sum() / mellon_bank_voting_before[\"AgendaGeneralDesc\"].count()],\n",
        "    \"BNY Mellon to Elect Director\": [BNY_mellon_voting_after[\"AgendaGeneralDesc\"].str.contains(\"Elect Director\").sum()],\n",
        "    \"BNY Mellon Likelyhood to Elect Director\": [BNY_mellon_voting_after[\"AgendaGeneralDesc\"].str.contains(\"Elect Director\").sum() /  BNY_mellon_voting_after[\"AgendaGeneralDesc\"].count()],\n",
        "    \"t-test\": [cross_section_agenda_t_test[0]],\n",
        "    \"p-value\": [cross_section_agenda_t_test[1]],\n",
        "}\n",
        "elect_director_table_cross_sectional = pd.DataFrame(elect_director_cross_sectional_data, index=[\"Voting Agenda\"])\n",
        "display(elect_director_table_cross_sectional)"
      ]
    },
    {
      "cell_type": "code",
      "execution_count": 178,
      "metadata": {},
      "outputs": [
        {
          "data": {
            "text/html": [
              "<div>\n",
              "<style scoped>\n",
              "    .dataframe tbody tr th:only-of-type {\n",
              "        vertical-align: middle;\n",
              "    }\n",
              "\n",
              "    .dataframe tbody tr th {\n",
              "        vertical-align: top;\n",
              "    }\n",
              "\n",
              "    .dataframe thead th {\n",
              "        text-align: right;\n",
              "    }\n",
              "</style>\n",
              "<table border=\"1\" class=\"dataframe\">\n",
              "  <thead>\n",
              "    <tr style=\"text-align: right;\">\n",
              "      <th></th>\n",
              "      <th>Votes Against Management</th>\n",
              "      <th>Mean % Against Management</th>\n",
              "      <th>Median % Against Management</th>\n",
              "      <th>STD % Against Management</th>\n",
              "      <th>t-test</th>\n",
              "      <th>p-value</th>\n",
              "    </tr>\n",
              "  </thead>\n",
              "  <tbody>\n",
              "    <tr>\n",
              "      <th>Before Merger</th>\n",
              "      <td>Bank of New York</td>\n",
              "      <td>10.35%</td>\n",
              "      <td>2.73%</td>\n",
              "      <td>0.203772</td>\n",
              "      <td>0.726322</td>\n",
              "      <td>0.469117</td>\n",
              "    </tr>\n",
              "    <tr>\n",
              "      <th>Before Merger</th>\n",
              "      <td>Mellon Bank</td>\n",
              "      <td>3.61%</td>\n",
              "      <td>1.59%</td>\n",
              "      <td>0.052509</td>\n",
              "      <td>-1.507291</td>\n",
              "      <td>0.135579</td>\n",
              "    </tr>\n",
              "    <tr>\n",
              "      <th>After Merger</th>\n",
              "      <td>BNY Mellon</td>\n",
              "      <td>8.08%</td>\n",
              "      <td>3.66%</td>\n",
              "      <td>0.131992</td>\n",
              "      <td>-</td>\n",
              "      <td>-</td>\n",
              "    </tr>\n",
              "  </tbody>\n",
              "</table>\n",
              "</div>"
            ],
            "text/plain": [
              "              Votes Against Management Mean % Against Management  \\\n",
              "Before Merger         Bank of New York                    10.35%   \n",
              "Before Merger              Mellon Bank                     3.61%   \n",
              "After Merger                BNY Mellon                     8.08%   \n",
              "\n",
              "              Median % Against Management  STD % Against Management    t-test  \\\n",
              "Before Merger                       2.73%                  0.203772  0.726322   \n",
              "Before Merger                       1.59%                  0.052509 -1.507291   \n",
              "After Merger                        3.66%                  0.131992         -   \n",
              "\n",
              "                p-value  \n",
              "Before Merger  0.469117  \n",
              "Before Merger  0.135579  \n",
              "After Merger          -  "
            ]
          },
          "metadata": {},
          "output_type": "display_data"
        }
      ],
      "source": [
        "# Suppress warnings\n",
        "warnings.filterwarnings(\"ignore\", category=pd.errors.SettingWithCopyWarning)\n",
        "warnings.filterwarnings(\"ignore\", category=RuntimeWarning)\n",
        "\n",
        "# === Calculate % votes against management ===\n",
        "\n",
        "# Create 'against_ratio' = votedAgainst / outstandingShare\n",
        "bank_of_ny_voting_before.loc[:, 'against_ratio'] = bank_of_ny_voting_before['votedAgainst'] / bank_of_ny_voting_before['outstandingShare']\n",
        "mellon_bank_voting_before.loc[:, 'against_ratio'] = mellon_bank_voting_before['votedAgainst'] / mellon_bank_voting_before['outstandingShare']\n",
        "BNY_mellon_voting_after.loc[:, 'against_ratio'] = BNY_mellon_voting_after['votedAgainst'] / BNY_mellon_voting_after['outstandingShare']\n",
        "\n",
        "# Filter only management-sponsored proposals\n",
        "management_sponsors_bny_before = bank_of_ny_voting_before[bank_of_ny_voting_before['sponsor'] == 'Management']\n",
        "management_sponsors_mellon_before = mellon_bank_voting_before[mellon_bank_voting_before['sponsor'] == 'Management']\n",
        "management_sponsors_bny_mellon_after = BNY_mellon_voting_after[BNY_mellon_voting_after['sponsor'] == 'Management']\n",
        "\n",
        "# === Calculate total percent against management ===\n",
        "\n",
        "def percent_vote_against(df):\n",
        "    total_against = df['votedAgainst'].sum()\n",
        "    total_shares = df['outstandingShare'].sum()\n",
        "    return total_against / total_shares\n",
        "\n",
        "percent_bny_before = percent_vote_against(management_sponsors_bny_before)\n",
        "percent_mellon_before = percent_vote_against(management_sponsors_mellon_before)\n",
        "percent_bnym_after = percent_vote_against(management_sponsors_bny_mellon_after)\n",
        "\n",
        "# === Statistical significance tests ===\n",
        "\n",
        "timeseries_diff = stats.ttest_ind(bank_of_ny_voting_before['against_ratio'], BNY_mellon_voting_after['against_ratio'])\n",
        "cross_section_diff = stats.ttest_ind(mellon_bank_voting_before['against_ratio'], BNY_mellon_voting_after['against_ratio'])\n",
        "\n",
        "# === Summary table ===\n",
        "\n",
        "vote_against_table = pd.DataFrame({\n",
        "    \"Votes Against Management\": [\"Bank of New York\", \"Mellon Bank\", \"BNY Mellon\"],\n",
        "    \"Mean % Against Management\": [\n",
        "        \"{:.2%}\".format(bank_of_ny_voting_before['against_ratio'].mean()),\n",
        "        \"{:.2%}\".format(mellon_bank_voting_before['against_ratio'].mean()),\n",
        "        \"{:.2%}\".format(BNY_mellon_voting_after['against_ratio'].mean())\n",
        "    ],\n",
        "    \"Median % Against Management\": [\n",
        "        \"{:.2%}\".format(bank_of_ny_voting_before['against_ratio'].median()),\n",
        "        \"{:.2%}\".format(mellon_bank_voting_before['against_ratio'].median()),\n",
        "        \"{:.2%}\".format(BNY_mellon_voting_after['against_ratio'].median())\n",
        "    ],\n",
        "    \"STD % Against Management\": [\n",
        "        bank_of_ny_voting_before['against_ratio'].std(),\n",
        "        mellon_bank_voting_before['against_ratio'].std(),\n",
        "        BNY_mellon_voting_after['against_ratio'].std()\n",
        "    ],\n",
        "    \"t-test\": [\n",
        "        timeseries_diff.statistic,\n",
        "        cross_section_diff.statistic,\n",
        "        \"-\"\n",
        "    ],\n",
        "    \"p-value\": [\n",
        "        timeseries_diff.pvalue,\n",
        "        cross_section_diff.pvalue,\n",
        "        \"-\"\n",
        "    ]\n",
        "}, index=[\"Before Merger\", \"Before Merger\", \"After Merger\"])\n",
        "\n",
        "display(vote_against_table)"
      ]
    },
    {
      "cell_type": "markdown",
      "metadata": {
        "id": "CC4bbRSZclcr"
      },
      "source": [
        "**ISS recomendation analysis**\n",
        "---"
      ]
    },
    {
      "cell_type": "code",
      "execution_count": 179,
      "metadata": {
        "id": "L536lCzwclcs"
      },
      "outputs": [
        {
          "data": {
            "text/html": [
              "<div>\n",
              "<style scoped>\n",
              "    .dataframe tbody tr th:only-of-type {\n",
              "        vertical-align: middle;\n",
              "    }\n",
              "\n",
              "    .dataframe tbody tr th {\n",
              "        vertical-align: top;\n",
              "    }\n",
              "\n",
              "    .dataframe thead th {\n",
              "        text-align: right;\n",
              "    }\n",
              "</style>\n",
              "<table border=\"1\" class=\"dataframe\">\n",
              "  <thead>\n",
              "    <tr style=\"text-align: right;\">\n",
              "      <th></th>\n",
              "      <th>BNY voting against ISSrec</th>\n",
              "      <th>BNY Likelihood to vote against ISSrec</th>\n",
              "      <th>BNY Mellon voting against ISSrec</th>\n",
              "      <th>BNY Mellon Likelihood to vote against ISSrec</th>\n",
              "      <th>t-test</th>\n",
              "      <th>p-value</th>\n",
              "    </tr>\n",
              "  </thead>\n",
              "  <tbody>\n",
              "    <tr>\n",
              "      <th>Voting against ISSrec</th>\n",
              "      <td>45</td>\n",
              "      <td>0.978261</td>\n",
              "      <td>56</td>\n",
              "      <td>1.0</td>\n",
              "      <td>-1.104556</td>\n",
              "      <td>0.272003</td>\n",
              "    </tr>\n",
              "  </tbody>\n",
              "</table>\n",
              "</div>"
            ],
            "text/plain": [
              "                       BNY voting against ISSrec  \\\n",
              "Voting against ISSrec                         45   \n",
              "\n",
              "                       BNY Likelihood to vote against ISSrec  \\\n",
              "Voting against ISSrec                               0.978261   \n",
              "\n",
              "                       BNY Mellon voting against ISSrec  \\\n",
              "Voting against ISSrec                                56   \n",
              "\n",
              "                       BNY Mellon Likelihood to vote against ISSrec    t-test  \\\n",
              "Voting against ISSrec                                           1.0 -1.104556   \n",
              "\n",
              "                        p-value  \n",
              "Voting against ISSrec  0.272003  "
            ]
          },
          "metadata": {},
          "output_type": "display_data"
        },
        {
          "data": {
            "text/html": [
              "<div>\n",
              "<style scoped>\n",
              "    .dataframe tbody tr th:only-of-type {\n",
              "        vertical-align: middle;\n",
              "    }\n",
              "\n",
              "    .dataframe tbody tr th {\n",
              "        vertical-align: top;\n",
              "    }\n",
              "\n",
              "    .dataframe thead th {\n",
              "        text-align: right;\n",
              "    }\n",
              "</style>\n",
              "<table border=\"1\" class=\"dataframe\">\n",
              "  <thead>\n",
              "    <tr style=\"text-align: right;\">\n",
              "      <th></th>\n",
              "      <th>Mellon voting against ISSrec</th>\n",
              "      <th>Mellon Likelihood to vote against ISSrec</th>\n",
              "      <th>BNY Mellon voting against ISSrec</th>\n",
              "      <th>BNY Mellon Likelihood to vote against ISSrec</th>\n",
              "      <th>t-test</th>\n",
              "      <th>p-value</th>\n",
              "    </tr>\n",
              "  </thead>\n",
              "  <tbody>\n",
              "    <tr>\n",
              "      <th>Voting against ISSrec</th>\n",
              "      <td>20</td>\n",
              "      <td>1.0</td>\n",
              "      <td>56</td>\n",
              "      <td>1.0</td>\n",
              "      <td>NaN</td>\n",
              "      <td>NaN</td>\n",
              "    </tr>\n",
              "  </tbody>\n",
              "</table>\n",
              "</div>"
            ],
            "text/plain": [
              "                       Mellon voting against ISSrec  \\\n",
              "Voting against ISSrec                            20   \n",
              "\n",
              "                       Mellon Likelihood to vote against ISSrec  \\\n",
              "Voting against ISSrec                                       1.0   \n",
              "\n",
              "                       BNY Mellon voting against ISSrec  \\\n",
              "Voting against ISSrec                                56   \n",
              "\n",
              "                       BNY Mellon Likelihood to vote against ISSrec  t-test  \\\n",
              "Voting against ISSrec                                           1.0     NaN   \n",
              "\n",
              "                       p-value  \n",
              "Voting against ISSrec      NaN  "
            ]
          },
          "metadata": {},
          "output_type": "display_data"
        }
      ],
      "source": [
        "import pandas as pd\n",
        "import numpy as np\n",
        "from scipy import stats\n",
        "import warnings\n",
        "\n",
        "# Suppress SettingWithCopy and Runtime warnings\n",
        "warnings.filterwarnings(\"ignore\", category=pd.errors.SettingWithCopyWarning)\n",
        "warnings.filterwarnings(\"ignore\", category=RuntimeWarning)\n",
        "\n",
        "# === Create flags for each bank and time period ===\n",
        "\n",
        "# BNY management sponsored votes before merger\n",
        "management_sponsors_bny_before.loc[:, 'Against Outcome'] = np.where(\n",
        "    management_sponsors_bny_before['votedAgainst'] > management_sponsors_bny_before['votedFor'], 1, 0\n",
        ")\n",
        "management_sponsors_bny_before.loc[:, 'ISSRec binary for For'] = np.where(\n",
        "    management_sponsors_bny_before['ISSrec'] == \"For\", 1, 0\n",
        ")\n",
        "management_sponsors_bny_before.loc[:, 'voted Against ISSrec'] = np.where(\n",
        "    management_sponsors_bny_before['Against Outcome'] != management_sponsors_bny_before['ISSRec binary for For'], 1, 0\n",
        ")\n",
        "\n",
        "# Mellon management sponsored votes before merger\n",
        "management_sponsors_mellon_before.loc[:, 'Against Outcome'] = np.where(\n",
        "    management_sponsors_mellon_before['votedAgainst'] > management_sponsors_mellon_before['votedFor'], 1, 0\n",
        ")\n",
        "management_sponsors_mellon_before.loc[:, 'ISSRec binary for For'] = np.where(\n",
        "    management_sponsors_mellon_before['ISSrec'] == \"For\", 1, 0\n",
        ")\n",
        "management_sponsors_mellon_before.loc[:, 'voted Against ISSrec'] = np.where(\n",
        "    management_sponsors_mellon_before['Against Outcome'] != management_sponsors_mellon_before['ISSRec binary for For'], 1, 0\n",
        ")\n",
        "\n",
        "# BNY Mellon management sponsored votes after merger\n",
        "management_sponsors_bny_mellon_after.loc[:, 'Against Outcome'] = np.where(\n",
        "    management_sponsors_bny_mellon_after['votedAgainst'] > management_sponsors_bny_mellon_after['votedFor'], 1, 0\n",
        ")\n",
        "management_sponsors_bny_mellon_after.loc[:, 'ISSRec binary for For'] = np.where(\n",
        "    management_sponsors_bny_mellon_after['ISSrec'] == \"For\", 1, 0\n",
        ")\n",
        "management_sponsors_bny_mellon_after.loc[:, 'voted Against ISSrec'] = np.where(\n",
        "    management_sponsors_bny_mellon_after['Against Outcome'] != management_sponsors_bny_mellon_after['ISSRec binary for For'], 1, 0\n",
        ")\n",
        "\n",
        "# === Run t-tests ===\n",
        "timeseries_vote_against_t_test = stats.ttest_ind(\n",
        "    management_sponsors_bny_before['voted Against ISSrec'],\n",
        "    management_sponsors_bny_mellon_after['voted Against ISSrec']\n",
        ")\n",
        "\n",
        "cross_section_vote_against_t_test = stats.ttest_ind(\n",
        "    management_sponsors_mellon_before['voted Against ISSrec'],\n",
        "    management_sponsors_bny_mellon_after['voted Against ISSrec']\n",
        ")\n",
        "\n",
        "# === Table: Timeseries comparison (BNY before vs. BNY Mellon after) ===\n",
        "vote_against_timeseries_data = {\n",
        "    \"BNY voting against ISSrec\": [management_sponsors_bny_before['voted Against ISSrec'].sum()],\n",
        "    \"BNY Likelihood to vote against ISSrec\": [management_sponsors_bny_before['voted Against ISSrec'].mean()],\n",
        "    \"BNY Mellon voting against ISSrec\": [management_sponsors_bny_mellon_after['voted Against ISSrec'].sum()],\n",
        "    \"BNY Mellon Likelihood to vote against ISSrec\": [management_sponsors_bny_mellon_after['voted Against ISSrec'].mean()],\n",
        "    \"t-test\": [timeseries_vote_against_t_test.statistic],\n",
        "    \"p-value\": [timeseries_vote_against_t_test.pvalue],\n",
        "}\n",
        "vote_against_timeseries_table = pd.DataFrame(vote_against_timeseries_data, index=[\"Voting against ISSrec\"])\n",
        "display(vote_against_timeseries_table)\n",
        "\n",
        "# === Table: Cross-section comparison (Mellon before vs. BNY Mellon after) ===\n",
        "vote_against_cross_data = {\n",
        "    \"Mellon voting against ISSrec\": [management_sponsors_mellon_before['voted Against ISSrec'].sum()],\n",
        "    \"Mellon Likelihood to vote against ISSrec\": [management_sponsors_mellon_before['voted Against ISSrec'].mean()],\n",
        "    \"BNY Mellon voting against ISSrec\": [management_sponsors_bny_mellon_after['voted Against ISSrec'].sum()],\n",
        "    \"BNY Mellon Likelihood to vote against ISSrec\": [management_sponsors_bny_mellon_after['voted Against ISSrec'].mean()],\n",
        "    \"t-test\": [cross_section_vote_against_t_test.statistic],\n",
        "    \"p-value\": [cross_section_vote_against_t_test.pvalue],\n",
        "}\n",
        "vote_against_cross_table = pd.DataFrame(vote_against_cross_data, index=[\"Voting against ISSrec\"])\n",
        "display(vote_against_cross_table)"
      ]
    }
  ],
  "metadata": {
    "colab": {
      "provenance": []
    },
    "kernelspec": {
      "display_name": "hecfin",
      "language": "python",
      "name": "python3"
    },
    "language_info": {
      "codemirror_mode": {
        "name": "ipython",
        "version": 3
      },
      "file_extension": ".py",
      "mimetype": "text/x-python",
      "name": "python",
      "nbconvert_exporter": "python",
      "pygments_lexer": "ipython3",
      "version": "3.10.10"
    },
    "orig_nbformat": 4,
    "vscode": {
      "interpreter": {
        "hash": "eb8ef5b55e0a46d9306074355b06a9668e097a281b36fa19e69c0859eb466ccd"
      }
    }
  },
  "nbformat": 4,
  "nbformat_minor": 0
}
